{
 "cells": [
  {
   "cell_type": "code",
   "execution_count": 3,
   "metadata": {},
   "outputs": [
    {
     "name": "stdout",
     "output_type": "stream",
     "text": [
      "✅ Verbonden met SQL Server\n",
      "🗑️ Inhoud van retailer gewist.\n",
      "🗑️ Inhoud van retailer_contact gewist.\n",
      "🗑️ Inhoud van retailer_segment gewist.\n",
      "🗑️ Inhoud van order_header gewist.\n",
      "🗑️ Inhoud van order_details gewist.\n",
      "🗑️ Inhoud van product gewist.\n",
      "🗑️ Inhoud van sales_branch gewist.\n",
      "🗑️ Inhoud van sales_staff gewist.\n",
      "🗑️ Inhoud van training gewist.\n",
      "🗑️ Inhoud van satisfaction_type gewist.\n",
      "✅ Alle tabellen zijn gereset.\n",
      "📊 0 rijen opgehaald uit retailer\n",
      "Empty DataFrame\n",
      "Columns: [retailer_code, company_name, retailer_headquarters, retailer_type]\n",
      "Index: []\n",
      "✅ Verbinding met SQL Server gesloten.\n"
     ]
    },
    {
     "name": "stderr",
     "output_type": "stream",
     "text": [
      "C:\\Users\\amirs\\AppData\\Local\\Temp\\ipykernel_4664\\2730343494.py:46: UserWarning: pandas only supports SQLAlchemy connectable (engine/connection) or database string URI or sqlite3 DBAPI2 connection. Other DBAPI2 objects are not tested. Please consider using SQLAlchemy.\n",
      "  df = pd.read_sql(query, export_conn)  # Data ophalen naar Pandas DataFrame\n"
     ]
    }
   ],
   "source": [
    "import pyodbc\n",
    "import pandas as pd\n",
    "\n",
    "# Databaseconfiguratie voor SQL Server\n",
    "DB = {\n",
    "    'servername': r'Goons-United\\SQLEXPRESS',  # Pas dit aan indien nodig\n",
    "    'database': 'sdm'  # Zorg dat dit de juiste database is\n",
    "}\n",
    "\n",
    "# Maak de verbinding\n",
    "export_conn = pyodbc.connect(\n",
    "    'DRIVER={SQL Server};'\n",
    "    f'SERVER={DB[\"servername\"]};'\n",
    "    f'DATABASE={DB[\"database\"]};'\n",
    "    'Trusted_Connection=yes;'\n",
    ")\n",
    "\n",
    "export_cursor = export_conn.cursor()\n",
    "print(\"✅ Verbonden met SQL Server\")\n",
    "\n",
    "# Functie om tabellen in SQL Server te resetten (inhoud wissen)\n",
    "def reset_tables():\n",
    "    tables = [\n",
    "        \"retailer\", \"retailer_contact\", \"retailer_segment\",\n",
    "        \"order_header\", \"order_details\", \"product\", \"sales_branch\",\n",
    "        \"sales_staff\", \"training\", \"satisfaction_type\"\n",
    "    ]  # Voeg hier alle tabellen toe die je wilt resetten\n",
    "\n",
    "    for table in tables:\n",
    "        try:\n",
    "            query = f\"DELETE FROM dbo.{table};\"\n",
    "            export_cursor.execute(query)\n",
    "            print(f\"🗑️ Inhoud van {table} gewist.\")\n",
    "        except pyodbc.Error as e:\n",
    "            print(f\"❌ Fout bij leegmaken van {table}: {e}\")\n",
    "\n",
    "    export_conn.commit()\n",
    "    print(\"✅ Alle tabellen zijn gereset.\")\n",
    "\n",
    "# Roep de functie aan\n",
    "reset_tables()\n",
    "\n",
    "# Functie om data uit SQL Server op te halen en in Pandas DataFrame te zetten\n",
    "def fetch_data_to_pandas(table_name):\n",
    "    query = f\"SELECT * FROM dbo.{table_name}\"\n",
    "    df = pd.read_sql(query, export_conn)  # Data ophalen naar Pandas DataFrame\n",
    "    print(f\"📊 {len(df)} rijen opgehaald uit {table_name}\")\n",
    "    return df\n",
    "\n",
    "# **Test: Haal gegevens op uit een bestaande tabel**\n",
    "df_retailers = fetch_data_to_pandas(\"retailer\")\n",
    "print(df_retailers.head())  # Bekijk de eerste paar rijen\n",
    "\n",
    "# Sluit de verbinding correct af\n",
    "export_cursor.close()\n",
    "export_conn.close()\n",
    "print(\"✅ Verbinding met SQL Server gesloten.\")\n"
   ]
  }
 ],
 "metadata": {
  "kernelspec": {
   "display_name": ".venv",
   "language": "python",
   "name": "python3"
  },
  "language_info": {
   "codemirror_mode": {
    "name": "ipython",
    "version": 3
   },
   "file_extension": ".py",
   "mimetype": "text/x-python",
   "name": "python",
   "nbconvert_exporter": "python",
   "pygments_lexer": "ipython3",
   "version": "3.13.2"
  }
 },
 "nbformat": 4,
 "nbformat_minor": 2
}
