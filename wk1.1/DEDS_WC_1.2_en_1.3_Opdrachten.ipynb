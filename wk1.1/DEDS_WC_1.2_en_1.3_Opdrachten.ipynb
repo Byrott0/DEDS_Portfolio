{
 "cells": [
  {
   "cell_type": "markdown",
   "metadata": {},
   "source": [
    "# Werkcollege-opdrachten Week 1.3"
   ]
  },
  {
   "cell_type": "markdown",
   "metadata": {},
   "source": [
    "## Dependencies importeren"
   ]
  },
  {
   "cell_type": "markdown",
   "metadata": {},
   "source": [
    "Kopieer in het codeblok hieronder van het vorige practicum de import-code voor de dependencies die het vaakst worden gebruikt om data in te lezen. Geef er ook de gebruikelijke aliassen aan.<br>\n",
    "Zet eventuele warnings uit."
   ]
  },
  {
   "cell_type": "code",
   "execution_count": 2,
   "metadata": {},
   "outputs": [],
   "source": [
    "\n",
    "import warnings\n",
    "warnings.simplefilter('ignore')\n",
    "\n",
    "import pandas as pd\n",
    "import sqlite3"
   ]
  },
  {
   "cell_type": "markdown",
   "metadata": {},
   "source": [
    "Zet het bestand go_sales_train.sqlite in een makkelijk te vinden map"
   ]
  },
  {
   "cell_type": "markdown",
   "metadata": {},
   "source": [
    "## Databasetabellen inlezen"
   ]
  },
  {
   "cell_type": "markdown",
   "metadata": {},
   "source": [
    "Kopieer in het codeblok hieronder van het vorige practicum de code om een connectie met het bestand go_sales_train.sqlite te maken."
   ]
  },
  {
   "cell_type": "code",
   "execution_count": 35,
   "metadata": {},
   "outputs": [
    {
     "data": {
      "text/plain": [
       "<sqlite3.Connection at 0x2736254b100>"
      ]
     },
     "execution_count": 35,
     "metadata": {},
     "output_type": "execute_result"
    }
   ],
   "source": [
    "db_path = 'Sqlite files/go_sales_train.sqlite'\n",
    "\n",
    "sales_conn = sqlite3.connect(db_path)\n",
    "sales_conn"
   ]
  },
  {
   "cell_type": "markdown",
   "metadata": {},
   "source": [
    "Lees van de ingelezen go_sales_train-database te volgende tabellen in met behulp van \"SELECT * FROM *tabel*\".\n",
    "- product\n",
    "- product_type\n",
    "- product_line\n",
    "- sales_staff\n",
    "- sales_branch\n",
    "- retailer_site\n",
    "- country\n",
    "- order_header\n",
    "- order_details\n",
    "- returned_item\n",
    "- return_reason"
   ]
  },
  {
   "cell_type": "code",
   "execution_count": 7,
   "metadata": {},
   "outputs": [
    {
     "data": {
      "text/html": [
       "<div>\n",
       "<style scoped>\n",
       "    .dataframe tbody tr th:only-of-type {\n",
       "        vertical-align: middle;\n",
       "    }\n",
       "\n",
       "    .dataframe tbody tr th {\n",
       "        vertical-align: top;\n",
       "    }\n",
       "\n",
       "    .dataframe thead th {\n",
       "        text-align: right;\n",
       "    }\n",
       "</style>\n",
       "<table border=\"1\" class=\"dataframe\">\n",
       "  <thead>\n",
       "    <tr style=\"text-align: right;\">\n",
       "      <th></th>\n",
       "      <th>PRODUCT_NUMBER</th>\n",
       "      <th>INTRODUCTION_DATE</th>\n",
       "      <th>PRODUCT_TYPE_CODE</th>\n",
       "      <th>PRODUCTION_COST</th>\n",
       "      <th>MARGIN</th>\n",
       "      <th>PRODUCT_IMAGE</th>\n",
       "      <th>LANGUAGE</th>\n",
       "      <th>PRODUCT_NAME</th>\n",
       "      <th>DESCRIPTION</th>\n",
       "    </tr>\n",
       "  </thead>\n",
       "  <tbody>\n",
       "    <tr>\n",
       "      <th>0</th>\n",
       "      <td>1</td>\n",
       "      <td>1995-02-15</td>\n",
       "      <td>1</td>\n",
       "      <td>4.00</td>\n",
       "      <td>0.33</td>\n",
       "      <td>P01CE1CG1.jpg</td>\n",
       "      <td>EN</td>\n",
       "      <td>TrailChef Water Bag</td>\n",
       "      <td>Lightweight, collapsible bag to carry liquids ...</td>\n",
       "    </tr>\n",
       "    <tr>\n",
       "      <th>1</th>\n",
       "      <td>2</td>\n",
       "      <td>1995-02-15</td>\n",
       "      <td>1</td>\n",
       "      <td>9.22</td>\n",
       "      <td>0.23</td>\n",
       "      <td>P02CE1CG1.jpg</td>\n",
       "      <td>EN</td>\n",
       "      <td>TrailChef Canteen</td>\n",
       "      <td>Aluminum canteen. Rugged fleece-lined cover wi...</td>\n",
       "    </tr>\n",
       "    <tr>\n",
       "      <th>2</th>\n",
       "      <td>3</td>\n",
       "      <td>1995-02-15</td>\n",
       "      <td>1</td>\n",
       "      <td>15.93</td>\n",
       "      <td>0.28</td>\n",
       "      <td>P03CE1CG1.jpg</td>\n",
       "      <td>EN</td>\n",
       "      <td>TrailChef Kitchen Kit</td>\n",
       "      <td>Zippered nylon pouch contains cutlery for two,...</td>\n",
       "    </tr>\n",
       "    <tr>\n",
       "      <th>3</th>\n",
       "      <td>4</td>\n",
       "      <td>1995-02-15</td>\n",
       "      <td>1</td>\n",
       "      <td>5.00</td>\n",
       "      <td>0.28</td>\n",
       "      <td>P04CE1CG1.jpg</td>\n",
       "      <td>EN</td>\n",
       "      <td>TrailChef Cup</td>\n",
       "      <td>Tin cup. Holds 0.4 liters. Weight: 60 g</td>\n",
       "    </tr>\n",
       "    <tr>\n",
       "      <th>4</th>\n",
       "      <td>5</td>\n",
       "      <td>1995-02-15</td>\n",
       "      <td>1</td>\n",
       "      <td>34.97</td>\n",
       "      <td>0.30</td>\n",
       "      <td>P05CE1CG1.jpg</td>\n",
       "      <td>EN</td>\n",
       "      <td>TrailChef Cook Set</td>\n",
       "      <td>All you will ever need on the trail.  Pot grip...</td>\n",
       "    </tr>\n",
       "    <tr>\n",
       "      <th>...</th>\n",
       "      <td>...</td>\n",
       "      <td>...</td>\n",
       "      <td>...</td>\n",
       "      <td>...</td>\n",
       "      <td>...</td>\n",
       "      <td>...</td>\n",
       "      <td>...</td>\n",
       "      <td>...</td>\n",
       "      <td>...</td>\n",
       "    </tr>\n",
       "    <tr>\n",
       "      <th>110</th>\n",
       "      <td>111</td>\n",
       "      <td>2003-12-15</td>\n",
       "      <td>20</td>\n",
       "      <td>81.80</td>\n",
       "      <td>0.55</td>\n",
       "      <td>P111GE5PT20.jpg</td>\n",
       "      <td>EN</td>\n",
       "      <td>Blue Steel Max Putter</td>\n",
       "      <td>Putter head is composed from a single piece of...</td>\n",
       "    </tr>\n",
       "    <tr>\n",
       "      <th>111</th>\n",
       "      <td>112</td>\n",
       "      <td>2004-01-10</td>\n",
       "      <td>21</td>\n",
       "      <td>6.00</td>\n",
       "      <td>0.33</td>\n",
       "      <td>P112GE5GA21.jpg</td>\n",
       "      <td>EN</td>\n",
       "      <td>Course Pro Golf and Tee Set</td>\n",
       "      <td>Set includes two premium golf ball and an asso...</td>\n",
       "    </tr>\n",
       "    <tr>\n",
       "      <th>112</th>\n",
       "      <td>113</td>\n",
       "      <td>2004-01-15</td>\n",
       "      <td>21</td>\n",
       "      <td>6.00</td>\n",
       "      <td>0.50</td>\n",
       "      <td>P113GE5GA21.jpg</td>\n",
       "      <td>EN</td>\n",
       "      <td>Course Pro Umbrella</td>\n",
       "      <td>Large red and white patterned golf umbrella.</td>\n",
       "    </tr>\n",
       "    <tr>\n",
       "      <th>113</th>\n",
       "      <td>114</td>\n",
       "      <td>2003-12-15</td>\n",
       "      <td>21</td>\n",
       "      <td>80.00</td>\n",
       "      <td>0.60</td>\n",
       "      <td>P114GE5GA21.jpg</td>\n",
       "      <td>EN</td>\n",
       "      <td>Course Pro Golf Bag</td>\n",
       "      <td>High quality golf bag that includes carrying s...</td>\n",
       "    </tr>\n",
       "    <tr>\n",
       "      <th>114</th>\n",
       "      <td>115</td>\n",
       "      <td>2003-12-27</td>\n",
       "      <td>21</td>\n",
       "      <td>5.00</td>\n",
       "      <td>0.50</td>\n",
       "      <td>P115GE5GA21.jpg</td>\n",
       "      <td>EN</td>\n",
       "      <td>Course Pro Gloves</td>\n",
       "      <td>Durable nylon constructed gloves with stitched...</td>\n",
       "    </tr>\n",
       "  </tbody>\n",
       "</table>\n",
       "<p>115 rows × 9 columns</p>\n",
       "</div>"
      ],
      "text/plain": [
       "     PRODUCT_NUMBER INTRODUCTION_DATE  PRODUCT_TYPE_CODE  PRODUCTION_COST  \\\n",
       "0                 1        1995-02-15                  1             4.00   \n",
       "1                 2        1995-02-15                  1             9.22   \n",
       "2                 3        1995-02-15                  1            15.93   \n",
       "3                 4        1995-02-15                  1             5.00   \n",
       "4                 5        1995-02-15                  1            34.97   \n",
       "..              ...               ...                ...              ...   \n",
       "110             111        2003-12-15                 20            81.80   \n",
       "111             112        2004-01-10                 21             6.00   \n",
       "112             113        2004-01-15                 21             6.00   \n",
       "113             114        2003-12-15                 21            80.00   \n",
       "114             115        2003-12-27                 21             5.00   \n",
       "\n",
       "     MARGIN    PRODUCT_IMAGE LANGUAGE                 PRODUCT_NAME  \\\n",
       "0      0.33    P01CE1CG1.jpg       EN          TrailChef Water Bag   \n",
       "1      0.23    P02CE1CG1.jpg       EN            TrailChef Canteen   \n",
       "2      0.28    P03CE1CG1.jpg       EN        TrailChef Kitchen Kit   \n",
       "3      0.28    P04CE1CG1.jpg       EN                TrailChef Cup   \n",
       "4      0.30    P05CE1CG1.jpg       EN           TrailChef Cook Set   \n",
       "..      ...              ...      ...                          ...   \n",
       "110    0.55  P111GE5PT20.jpg       EN        Blue Steel Max Putter   \n",
       "111    0.33  P112GE5GA21.jpg       EN  Course Pro Golf and Tee Set   \n",
       "112    0.50  P113GE5GA21.jpg       EN          Course Pro Umbrella   \n",
       "113    0.60  P114GE5GA21.jpg       EN          Course Pro Golf Bag   \n",
       "114    0.50  P115GE5GA21.jpg       EN            Course Pro Gloves   \n",
       "\n",
       "                                           DESCRIPTION  \n",
       "0    Lightweight, collapsible bag to carry liquids ...  \n",
       "1    Aluminum canteen. Rugged fleece-lined cover wi...  \n",
       "2    Zippered nylon pouch contains cutlery for two,...  \n",
       "3              Tin cup. Holds 0.4 liters. Weight: 60 g  \n",
       "4    All you will ever need on the trail.  Pot grip...  \n",
       "..                                                 ...  \n",
       "110  Putter head is composed from a single piece of...  \n",
       "111  Set includes two premium golf ball and an asso...  \n",
       "112       Large red and white patterned golf umbrella.  \n",
       "113  High quality golf bag that includes carrying s...  \n",
       "114  Durable nylon constructed gloves with stitched...  \n",
       "\n",
       "[115 rows x 9 columns]"
      ]
     },
     "execution_count": 7,
     "metadata": {},
     "output_type": "execute_result"
    }
   ],
   "source": [
    "sql_queryp = \"SELECT * FROM product;\"\n",
    "sql_queryc = \"SELECT * FROM country;\"\n",
    "sql_queryr = \"SELECT * FROM retailer_site;\"\n",
    "sql_queryri = \"SELECT * FROM returned_item;\"\n",
    "sf_product = pd.read_sql_query(sql_queryp, sales_conn)\n",
    "sf_country = pd.read_sql_query(sql_queryc, sales_conn)\n",
    "sf_retailer = pd.read_sql_query(sql_queryr, sales_conn)\n",
    "sf_returned = pd.read_sql_query(sql_queryri, sales_conn)\n",
    "sf_product"
   ]
  },
  {
   "cell_type": "markdown",
   "metadata": {},
   "source": [
    "Krijg je een \"no such table\" error? Dan heb je misschien met .connect() per ongeluk een leeg  databasebestand (.sqlite) aangemaakt. <u>Let op:</u> lees eventueel de informatie uit het Notebook van werkcollege 1.1b nog eens goed door."
   ]
  },
  {
   "cell_type": "markdown",
   "metadata": {},
   "source": [
    "Als je tijdens onderstaande opdrachten uit het oog verliest welke tabellen er allemaal zijn, kan je deze Pythoncode uitvoeren:"
   ]
  },
  {
   "cell_type": "code",
   "execution_count": 10,
   "metadata": {},
   "outputs": [
    {
     "data": {
      "text/html": [
       "<div>\n",
       "<style scoped>\n",
       "    .dataframe tbody tr th:only-of-type {\n",
       "        vertical-align: middle;\n",
       "    }\n",
       "\n",
       "    .dataframe tbody tr th {\n",
       "        vertical-align: top;\n",
       "    }\n",
       "\n",
       "    .dataframe thead th {\n",
       "        text-align: right;\n",
       "    }\n",
       "</style>\n",
       "<table border=\"1\" class=\"dataframe\">\n",
       "  <thead>\n",
       "    <tr style=\"text-align: right;\">\n",
       "      <th></th>\n",
       "      <th>cid</th>\n",
       "      <th>name</th>\n",
       "      <th>type</th>\n",
       "      <th>notnull</th>\n",
       "      <th>dflt_value</th>\n",
       "      <th>pk</th>\n",
       "    </tr>\n",
       "  </thead>\n",
       "  <tbody>\n",
       "    <tr>\n",
       "      <th>0</th>\n",
       "      <td>0</td>\n",
       "      <td>PRODUCT_NUMBER</td>\n",
       "      <td>INTEGER</td>\n",
       "      <td>0</td>\n",
       "      <td>None</td>\n",
       "      <td>0</td>\n",
       "    </tr>\n",
       "    <tr>\n",
       "      <th>1</th>\n",
       "      <td>1</td>\n",
       "      <td>INTRODUCTION_DATE</td>\n",
       "      <td>TEXT</td>\n",
       "      <td>0</td>\n",
       "      <td>None</td>\n",
       "      <td>0</td>\n",
       "    </tr>\n",
       "    <tr>\n",
       "      <th>2</th>\n",
       "      <td>2</td>\n",
       "      <td>PRODUCT_TYPE_CODE</td>\n",
       "      <td>INTEGER</td>\n",
       "      <td>0</td>\n",
       "      <td>None</td>\n",
       "      <td>0</td>\n",
       "    </tr>\n",
       "    <tr>\n",
       "      <th>3</th>\n",
       "      <td>3</td>\n",
       "      <td>PRODUCTION_COST</td>\n",
       "      <td>REAL</td>\n",
       "      <td>0</td>\n",
       "      <td>None</td>\n",
       "      <td>0</td>\n",
       "    </tr>\n",
       "    <tr>\n",
       "      <th>4</th>\n",
       "      <td>4</td>\n",
       "      <td>MARGIN</td>\n",
       "      <td>REAL</td>\n",
       "      <td>0</td>\n",
       "      <td>None</td>\n",
       "      <td>0</td>\n",
       "    </tr>\n",
       "    <tr>\n",
       "      <th>5</th>\n",
       "      <td>5</td>\n",
       "      <td>PRODUCT_IMAGE</td>\n",
       "      <td>TEXT</td>\n",
       "      <td>0</td>\n",
       "      <td>None</td>\n",
       "      <td>0</td>\n",
       "    </tr>\n",
       "    <tr>\n",
       "      <th>6</th>\n",
       "      <td>6</td>\n",
       "      <td>LANGUAGE</td>\n",
       "      <td>TEXT</td>\n",
       "      <td>0</td>\n",
       "      <td>None</td>\n",
       "      <td>0</td>\n",
       "    </tr>\n",
       "    <tr>\n",
       "      <th>7</th>\n",
       "      <td>7</td>\n",
       "      <td>PRODUCT_NAME</td>\n",
       "      <td>TEXT</td>\n",
       "      <td>0</td>\n",
       "      <td>None</td>\n",
       "      <td>0</td>\n",
       "    </tr>\n",
       "    <tr>\n",
       "      <th>8</th>\n",
       "      <td>8</td>\n",
       "      <td>DESCRIPTION</td>\n",
       "      <td>TEXT</td>\n",
       "      <td>0</td>\n",
       "      <td>None</td>\n",
       "      <td>0</td>\n",
       "    </tr>\n",
       "  </tbody>\n",
       "</table>\n",
       "</div>"
      ],
      "text/plain": [
       "   cid               name     type  notnull dflt_value  pk\n",
       "0    0     PRODUCT_NUMBER  INTEGER        0       None   0\n",
       "1    1  INTRODUCTION_DATE     TEXT        0       None   0\n",
       "2    2  PRODUCT_TYPE_CODE  INTEGER        0       None   0\n",
       "3    3    PRODUCTION_COST     REAL        0       None   0\n",
       "4    4             MARGIN     REAL        0       None   0\n",
       "5    5      PRODUCT_IMAGE     TEXT        0       None   0\n",
       "6    6           LANGUAGE     TEXT        0       None   0\n",
       "7    7       PRODUCT_NAME     TEXT        0       None   0\n",
       "8    8        DESCRIPTION     TEXT        0       None   0"
      ]
     },
     "execution_count": 10,
     "metadata": {},
     "output_type": "execute_result"
    }
   ],
   "source": [
    "sql_query = \"PRAGMA table_info(product);\"\n",
    "#Vul dit codeblok verder in\n",
    "pd.read_sql(sql_query, sales_conn)"
   ]
  },
  {
   "cell_type": "markdown",
   "metadata": {},
   "source": [
    "erachter "
   ]
  },
  {
   "cell_type": "markdown",
   "metadata": {},
   "source": [
    "Let op! Voor alle onderstaande opdrachten mag je <u>alleen Python</u> gebruiken, <u>geen SQL!</u>"
   ]
  },
  {
   "cell_type": "markdown",
   "metadata": {},
   "source": [
    "## Selecties op één tabel zonder functies"
   ]
  },
  {
   "cell_type": "markdown",
   "metadata": {},
   "source": [
    "Geef een overzicht met daarin de producten en hun productiekosten waarvan de productiekosten lager dan 100 dollar en hoger dan 50 dollar ligt. (2 kolommen, 23 rijen)"
   ]
  },
  {
   "cell_type": "code",
   "execution_count": 19,
   "metadata": {},
   "outputs": [
    {
     "data": {
      "text/html": [
       "<div>\n",
       "<style scoped>\n",
       "    .dataframe tbody tr th:only-of-type {\n",
       "        vertical-align: middle;\n",
       "    }\n",
       "\n",
       "    .dataframe tbody tr th {\n",
       "        vertical-align: top;\n",
       "    }\n",
       "\n",
       "    .dataframe thead th {\n",
       "        text-align: right;\n",
       "    }\n",
       "</style>\n",
       "<table border=\"1\" class=\"dataframe\">\n",
       "  <thead>\n",
       "    <tr style=\"text-align: right;\">\n",
       "      <th></th>\n",
       "      <th>PRODUCT_NUMBER</th>\n",
       "      <th>INTRODUCTION_DATE</th>\n",
       "      <th>PRODUCT_TYPE_CODE</th>\n",
       "      <th>PRODUCTION_COST</th>\n",
       "      <th>MARGIN</th>\n",
       "      <th>PRODUCT_IMAGE</th>\n",
       "      <th>LANGUAGE</th>\n",
       "      <th>PRODUCT_NAME</th>\n",
       "      <th>DESCRIPTION</th>\n",
       "    </tr>\n",
       "  </thead>\n",
       "  <tbody>\n",
       "    <tr>\n",
       "      <th>5</th>\n",
       "      <td>6</td>\n",
       "      <td>1997-03-05</td>\n",
       "      <td>1</td>\n",
       "      <td>85.11</td>\n",
       "      <td>0.28</td>\n",
       "      <td>P06CE1CG1.jpg</td>\n",
       "      <td>EN</td>\n",
       "      <td>TrailChef Deluxe Cook Set</td>\n",
       "      <td>Cascade set features 1, 2, and 3 liter pots wi...</td>\n",
       "    </tr>\n",
       "    <tr>\n",
       "      <th>7</th>\n",
       "      <td>8</td>\n",
       "      <td>1997-03-05</td>\n",
       "      <td>1</td>\n",
       "      <td>75.00</td>\n",
       "      <td>0.41</td>\n",
       "      <td>P08CE1CG1.jpg</td>\n",
       "      <td>EN</td>\n",
       "      <td>TrailChef Double Flame</td>\n",
       "      <td>The TrailChef Double Flame is a camp stove whi...</td>\n",
       "    </tr>\n",
       "    <tr>\n",
       "      <th>16</th>\n",
       "      <td>17</td>\n",
       "      <td>1997-03-05</td>\n",
       "      <td>3</td>\n",
       "      <td>60.00</td>\n",
       "      <td>0.28</td>\n",
       "      <td>P17CE1SB3.jpg</td>\n",
       "      <td>EN</td>\n",
       "      <td>Hibernator Lite</td>\n",
       "      <td>The Hibernator Lite is the perfect summer slee...</td>\n",
       "    </tr>\n",
       "    <tr>\n",
       "      <th>17</th>\n",
       "      <td>18</td>\n",
       "      <td>1995-02-15</td>\n",
       "      <td>3</td>\n",
       "      <td>86.00</td>\n",
       "      <td>0.33</td>\n",
       "      <td>P17CE1SB3.jpg</td>\n",
       "      <td>EN</td>\n",
       "      <td>Hibernator</td>\n",
       "      <td>The Hibernator is a three-season sleeping bag....</td>\n",
       "    </tr>\n",
       "    <tr>\n",
       "      <th>19</th>\n",
       "      <td>20</td>\n",
       "      <td>1997-03-05</td>\n",
       "      <td>3</td>\n",
       "      <td>78.55</td>\n",
       "      <td>0.28</td>\n",
       "      <td>P20CE1SB3.jpg</td>\n",
       "      <td>EN</td>\n",
       "      <td>Hibernator Self - Inflating Mat</td>\n",
       "      <td>Mattress is made of extra-thick foam. Mesh stu...</td>\n",
       "    </tr>\n",
       "    <tr>\n",
       "      <th>22</th>\n",
       "      <td>23</td>\n",
       "      <td>1997-03-05</td>\n",
       "      <td>3</td>\n",
       "      <td>65.33</td>\n",
       "      <td>0.33</td>\n",
       "      <td>P23CE1SB3.jpg</td>\n",
       "      <td>EN</td>\n",
       "      <td>Hibernator Camp Cot</td>\n",
       "      <td>Aluminum frame camp cot that is lightweight an...</td>\n",
       "    </tr>\n",
       "    <tr>\n",
       "      <th>23</th>\n",
       "      <td>24</td>\n",
       "      <td>1997-03-05</td>\n",
       "      <td>4</td>\n",
       "      <td>62.50</td>\n",
       "      <td>0.17</td>\n",
       "      <td>P24CE1PK4.jpg</td>\n",
       "      <td>EN</td>\n",
       "      <td>Canyon Mule Climber Backpack</td>\n",
       "      <td>This pack is perfect for day trips and short h...</td>\n",
       "    </tr>\n",
       "    <tr>\n",
       "      <th>45</th>\n",
       "      <td>46</td>\n",
       "      <td>2005-01-10</td>\n",
       "      <td>7</td>\n",
       "      <td>52.86</td>\n",
       "      <td>0.28</td>\n",
       "      <td>P46ME2SY7.jpg</td>\n",
       "      <td>EN</td>\n",
       "      <td>Granite Climbing Helmet</td>\n",
       "      <td>This UIAA approved helmet fits adults and kids...</td>\n",
       "    </tr>\n",
       "    <tr>\n",
       "      <th>47</th>\n",
       "      <td>48</td>\n",
       "      <td>2005-01-10</td>\n",
       "      <td>7</td>\n",
       "      <td>55.00</td>\n",
       "      <td>0.50</td>\n",
       "      <td>P47ME2SY7.jpg</td>\n",
       "      <td>EN</td>\n",
       "      <td>Husky Harness Extreme</td>\n",
       "      <td>One size fits all. Top of the range fully adju...</td>\n",
       "    </tr>\n",
       "    <tr>\n",
       "      <th>57</th>\n",
       "      <td>58</td>\n",
       "      <td>2005-01-10</td>\n",
       "      <td>9</td>\n",
       "      <td>57.13</td>\n",
       "      <td>0.28</td>\n",
       "      <td>P58ME2TL9.jpg</td>\n",
       "      <td>EN</td>\n",
       "      <td>Granite Hammer</td>\n",
       "      <td>A solid hammer made with a solid hard wood han...</td>\n",
       "    </tr>\n",
       "    <tr>\n",
       "      <th>68</th>\n",
       "      <td>69</td>\n",
       "      <td>1995-02-15</td>\n",
       "      <td>11</td>\n",
       "      <td>73.33</td>\n",
       "      <td>0.33</td>\n",
       "      <td>P69PA3EW11.jpg</td>\n",
       "      <td>EN</td>\n",
       "      <td>Polar Ice</td>\n",
       "      <td>Polar Ice sunglasses have polarized lenses to ...</td>\n",
       "    </tr>\n",
       "    <tr>\n",
       "      <th>69</th>\n",
       "      <td>70</td>\n",
       "      <td>1997-03-05</td>\n",
       "      <td>11</td>\n",
       "      <td>80.00</td>\n",
       "      <td>0.33</td>\n",
       "      <td>P70PA3EW11.jpg</td>\n",
       "      <td>EN</td>\n",
       "      <td>Polar Sports</td>\n",
       "      <td>Six base classic nylon composite frame sunglas...</td>\n",
       "    </tr>\n",
       "    <tr>\n",
       "      <th>70</th>\n",
       "      <td>71</td>\n",
       "      <td>1997-03-05</td>\n",
       "      <td>11</td>\n",
       "      <td>60.00</td>\n",
       "      <td>0.33</td>\n",
       "      <td>P71PA3EW11.jpg</td>\n",
       "      <td>EN</td>\n",
       "      <td>Polar Wave</td>\n",
       "      <td>Acrylex lenses in the Polar Wave sunglasses ab...</td>\n",
       "    </tr>\n",
       "    <tr>\n",
       "      <th>71</th>\n",
       "      <td>72</td>\n",
       "      <td>2000-10-26</td>\n",
       "      <td>11</td>\n",
       "      <td>72.50</td>\n",
       "      <td>0.50</td>\n",
       "      <td>P72PA3EW11.jpg</td>\n",
       "      <td>EN</td>\n",
       "      <td>Polar Extreme</td>\n",
       "      <td>Ideal for skiing and winter mountaineering. Fr...</td>\n",
       "    </tr>\n",
       "    <tr>\n",
       "      <th>74</th>\n",
       "      <td>75</td>\n",
       "      <td>2000-10-26</td>\n",
       "      <td>12</td>\n",
       "      <td>80.00</td>\n",
       "      <td>0.28</td>\n",
       "      <td>P75PA3KV12.jpg</td>\n",
       "      <td>EN</td>\n",
       "      <td>Edge Extreme</td>\n",
       "      <td>Multi-purpose pocketknife ruggedly constructed...</td>\n",
       "    </tr>\n",
       "    <tr>\n",
       "      <th>77</th>\n",
       "      <td>78</td>\n",
       "      <td>1995-02-15</td>\n",
       "      <td>13</td>\n",
       "      <td>79.19</td>\n",
       "      <td>0.20</td>\n",
       "      <td>P78PA3BN13.jpg</td>\n",
       "      <td>EN</td>\n",
       "      <td>Seeker 35</td>\n",
       "      <td>This 7 x 35 model is economical and performs w...</td>\n",
       "    </tr>\n",
       "    <tr>\n",
       "      <th>78</th>\n",
       "      <td>79</td>\n",
       "      <td>1995-02-15</td>\n",
       "      <td>13</td>\n",
       "      <td>92.58</td>\n",
       "      <td>0.25</td>\n",
       "      <td>P78PA3BN13.jpg</td>\n",
       "      <td>EN</td>\n",
       "      <td>Seeker 50</td>\n",
       "      <td>Rubber coated and ergonomically designed. The ...</td>\n",
       "    </tr>\n",
       "    <tr>\n",
       "      <th>79</th>\n",
       "      <td>80</td>\n",
       "      <td>1997-03-05</td>\n",
       "      <td>13</td>\n",
       "      <td>94.12</td>\n",
       "      <td>0.40</td>\n",
       "      <td>P80PA3BN13.jpg</td>\n",
       "      <td>EN</td>\n",
       "      <td>Seeker Extreme</td>\n",
       "      <td>These ergonomic binoculars are light-weight an...</td>\n",
       "    </tr>\n",
       "    <tr>\n",
       "      <th>82</th>\n",
       "      <td>83</td>\n",
       "      <td>1997-03-05</td>\n",
       "      <td>14</td>\n",
       "      <td>56.25</td>\n",
       "      <td>0.37</td>\n",
       "      <td>P83PA3NV14.jpg</td>\n",
       "      <td>EN</td>\n",
       "      <td>Glacier Deluxe</td>\n",
       "      <td>Magnetic Compass has a large sighting mirror w...</td>\n",
       "    </tr>\n",
       "    <tr>\n",
       "      <th>83</th>\n",
       "      <td>84</td>\n",
       "      <td>1997-03-05</td>\n",
       "      <td>14</td>\n",
       "      <td>78.55</td>\n",
       "      <td>0.28</td>\n",
       "      <td>P84PA3NV14.jpg</td>\n",
       "      <td>EN</td>\n",
       "      <td>Glacier GPS</td>\n",
       "      <td>Global Positioning System that is small, light...</td>\n",
       "    </tr>\n",
       "    <tr>\n",
       "      <th>109</th>\n",
       "      <td>110</td>\n",
       "      <td>2003-12-10</td>\n",
       "      <td>20</td>\n",
       "      <td>60.00</td>\n",
       "      <td>0.50</td>\n",
       "      <td>P110GE5PT20.jpg</td>\n",
       "      <td>EN</td>\n",
       "      <td>Blue Steel Putter</td>\n",
       "      <td>This premium putter has copper mixed with ligh...</td>\n",
       "    </tr>\n",
       "    <tr>\n",
       "      <th>110</th>\n",
       "      <td>111</td>\n",
       "      <td>2003-12-15</td>\n",
       "      <td>20</td>\n",
       "      <td>81.80</td>\n",
       "      <td>0.55</td>\n",
       "      <td>P111GE5PT20.jpg</td>\n",
       "      <td>EN</td>\n",
       "      <td>Blue Steel Max Putter</td>\n",
       "      <td>Putter head is composed from a single piece of...</td>\n",
       "    </tr>\n",
       "    <tr>\n",
       "      <th>113</th>\n",
       "      <td>114</td>\n",
       "      <td>2003-12-15</td>\n",
       "      <td>21</td>\n",
       "      <td>80.00</td>\n",
       "      <td>0.60</td>\n",
       "      <td>P114GE5GA21.jpg</td>\n",
       "      <td>EN</td>\n",
       "      <td>Course Pro Golf Bag</td>\n",
       "      <td>High quality golf bag that includes carrying s...</td>\n",
       "    </tr>\n",
       "  </tbody>\n",
       "</table>\n",
       "</div>"
      ],
      "text/plain": [
       "     PRODUCT_NUMBER INTRODUCTION_DATE  PRODUCT_TYPE_CODE  PRODUCTION_COST  \\\n",
       "5                 6        1997-03-05                  1            85.11   \n",
       "7                 8        1997-03-05                  1            75.00   \n",
       "16               17        1997-03-05                  3            60.00   \n",
       "17               18        1995-02-15                  3            86.00   \n",
       "19               20        1997-03-05                  3            78.55   \n",
       "22               23        1997-03-05                  3            65.33   \n",
       "23               24        1997-03-05                  4            62.50   \n",
       "45               46        2005-01-10                  7            52.86   \n",
       "47               48        2005-01-10                  7            55.00   \n",
       "57               58        2005-01-10                  9            57.13   \n",
       "68               69        1995-02-15                 11            73.33   \n",
       "69               70        1997-03-05                 11            80.00   \n",
       "70               71        1997-03-05                 11            60.00   \n",
       "71               72        2000-10-26                 11            72.50   \n",
       "74               75        2000-10-26                 12            80.00   \n",
       "77               78        1995-02-15                 13            79.19   \n",
       "78               79        1995-02-15                 13            92.58   \n",
       "79               80        1997-03-05                 13            94.12   \n",
       "82               83        1997-03-05                 14            56.25   \n",
       "83               84        1997-03-05                 14            78.55   \n",
       "109             110        2003-12-10                 20            60.00   \n",
       "110             111        2003-12-15                 20            81.80   \n",
       "113             114        2003-12-15                 21            80.00   \n",
       "\n",
       "     MARGIN    PRODUCT_IMAGE LANGUAGE                     PRODUCT_NAME  \\\n",
       "5      0.28    P06CE1CG1.jpg       EN        TrailChef Deluxe Cook Set   \n",
       "7      0.41    P08CE1CG1.jpg       EN           TrailChef Double Flame   \n",
       "16     0.28    P17CE1SB3.jpg       EN                  Hibernator Lite   \n",
       "17     0.33    P17CE1SB3.jpg       EN                       Hibernator   \n",
       "19     0.28    P20CE1SB3.jpg       EN  Hibernator Self - Inflating Mat   \n",
       "22     0.33    P23CE1SB3.jpg       EN              Hibernator Camp Cot   \n",
       "23     0.17    P24CE1PK4.jpg       EN     Canyon Mule Climber Backpack   \n",
       "45     0.28    P46ME2SY7.jpg       EN          Granite Climbing Helmet   \n",
       "47     0.50    P47ME2SY7.jpg       EN            Husky Harness Extreme   \n",
       "57     0.28    P58ME2TL9.jpg       EN                   Granite Hammer   \n",
       "68     0.33   P69PA3EW11.jpg       EN                        Polar Ice   \n",
       "69     0.33   P70PA3EW11.jpg       EN                     Polar Sports   \n",
       "70     0.33   P71PA3EW11.jpg       EN                       Polar Wave   \n",
       "71     0.50   P72PA3EW11.jpg       EN                    Polar Extreme   \n",
       "74     0.28   P75PA3KV12.jpg       EN                     Edge Extreme   \n",
       "77     0.20   P78PA3BN13.jpg       EN                        Seeker 35   \n",
       "78     0.25   P78PA3BN13.jpg       EN                        Seeker 50   \n",
       "79     0.40   P80PA3BN13.jpg       EN                   Seeker Extreme   \n",
       "82     0.37   P83PA3NV14.jpg       EN                   Glacier Deluxe   \n",
       "83     0.28   P84PA3NV14.jpg       EN                      Glacier GPS   \n",
       "109    0.50  P110GE5PT20.jpg       EN                Blue Steel Putter   \n",
       "110    0.55  P111GE5PT20.jpg       EN            Blue Steel Max Putter   \n",
       "113    0.60  P114GE5GA21.jpg       EN              Course Pro Golf Bag   \n",
       "\n",
       "                                           DESCRIPTION  \n",
       "5    Cascade set features 1, 2, and 3 liter pots wi...  \n",
       "7    The TrailChef Double Flame is a camp stove whi...  \n",
       "16   The Hibernator Lite is the perfect summer slee...  \n",
       "17   The Hibernator is a three-season sleeping bag....  \n",
       "19   Mattress is made of extra-thick foam. Mesh stu...  \n",
       "22   Aluminum frame camp cot that is lightweight an...  \n",
       "23   This pack is perfect for day trips and short h...  \n",
       "45   This UIAA approved helmet fits adults and kids...  \n",
       "47   One size fits all. Top of the range fully adju...  \n",
       "57   A solid hammer made with a solid hard wood han...  \n",
       "68   Polar Ice sunglasses have polarized lenses to ...  \n",
       "69   Six base classic nylon composite frame sunglas...  \n",
       "70   Acrylex lenses in the Polar Wave sunglasses ab...  \n",
       "71   Ideal for skiing and winter mountaineering. Fr...  \n",
       "74   Multi-purpose pocketknife ruggedly constructed...  \n",
       "77   This 7 x 35 model is economical and performs w...  \n",
       "78   Rubber coated and ergonomically designed. The ...  \n",
       "79   These ergonomic binoculars are light-weight an...  \n",
       "82   Magnetic Compass has a large sighting mirror w...  \n",
       "83   Global Positioning System that is small, light...  \n",
       "109  This premium putter has copper mixed with ligh...  \n",
       "110  Putter head is composed from a single piece of...  \n",
       "113  High quality golf bag that includes carrying s...  "
      ]
     },
     "execution_count": 19,
     "metadata": {},
     "output_type": "execute_result"
    }
   ],
   "source": [
    "filtered = sf_product.loc[(sf_product['PRODUCTION_COST'] > 50) & (sf_product['PRODUCTION_COST'] < 100)]\n",
    "filtered\n"
   ]
  },
  {
   "cell_type": "markdown",
   "metadata": {},
   "source": [
    "Geef een overzicht met daarin de producten en hun marge waarvan de marge lager dan 20 % of hoger dan 60 % ligt. (2 kolommen, 7 rijen) "
   ]
  },
  {
   "cell_type": "code",
   "execution_count": null,
   "metadata": {},
   "outputs": [
    {
     "data": {
      "text/html": [
       "<div>\n",
       "<style scoped>\n",
       "    .dataframe tbody tr th:only-of-type {\n",
       "        vertical-align: middle;\n",
       "    }\n",
       "\n",
       "    .dataframe tbody tr th {\n",
       "        vertical-align: top;\n",
       "    }\n",
       "\n",
       "    .dataframe thead th {\n",
       "        text-align: right;\n",
       "    }\n",
       "</style>\n",
       "<table border=\"1\" class=\"dataframe\">\n",
       "  <thead>\n",
       "    <tr style=\"text-align: right;\">\n",
       "      <th></th>\n",
       "      <th>PRODUCT_NUMBER</th>\n",
       "      <th>INTRODUCTION_DATE</th>\n",
       "      <th>PRODUCT_TYPE_CODE</th>\n",
       "      <th>PRODUCTION_COST</th>\n",
       "      <th>MARGIN</th>\n",
       "      <th>PRODUCT_IMAGE</th>\n",
       "      <th>LANGUAGE</th>\n",
       "      <th>PRODUCT_NAME</th>\n",
       "      <th>DESCRIPTION</th>\n",
       "    </tr>\n",
       "  </thead>\n",
       "  <tbody>\n",
       "    <tr>\n",
       "      <th>20</th>\n",
       "      <td>21</td>\n",
       "      <td>1995-02-15</td>\n",
       "      <td>3</td>\n",
       "      <td>29.17</td>\n",
       "      <td>0.17</td>\n",
       "      <td>P21CE1SB3.jpg</td>\n",
       "      <td>EN</td>\n",
       "      <td>Hibernator Pad</td>\n",
       "      <td>Warms up quickly for snow camping comfort. The...</td>\n",
       "    </tr>\n",
       "    <tr>\n",
       "      <th>23</th>\n",
       "      <td>24</td>\n",
       "      <td>1997-03-05</td>\n",
       "      <td>4</td>\n",
       "      <td>62.50</td>\n",
       "      <td>0.17</td>\n",
       "      <td>P24CE1PK4.jpg</td>\n",
       "      <td>EN</td>\n",
       "      <td>Canyon Mule Climber Backpack</td>\n",
       "      <td>This pack is perfect for day trips and short h...</td>\n",
       "    </tr>\n",
       "    <tr>\n",
       "      <th>85</th>\n",
       "      <td>86</td>\n",
       "      <td>1995-02-15</td>\n",
       "      <td>15</td>\n",
       "      <td>2.00</td>\n",
       "      <td>0.67</td>\n",
       "      <td>P86OP4IR15.jpg</td>\n",
       "      <td>EN</td>\n",
       "      <td>BugShield Natural</td>\n",
       "      <td>Contains no chemicals. Repels mosquitoes, blac...</td>\n",
       "    </tr>\n",
       "    <tr>\n",
       "      <th>86</th>\n",
       "      <td>87</td>\n",
       "      <td>1995-02-15</td>\n",
       "      <td>15</td>\n",
       "      <td>2.00</td>\n",
       "      <td>0.67</td>\n",
       "      <td>P86OP4IR15.jpg</td>\n",
       "      <td>EN</td>\n",
       "      <td>BugShield Spray</td>\n",
       "      <td>Repels black flies, ticks, mosquitoes, chigger...</td>\n",
       "    </tr>\n",
       "    <tr>\n",
       "      <th>87</th>\n",
       "      <td>88</td>\n",
       "      <td>1995-02-15</td>\n",
       "      <td>15</td>\n",
       "      <td>2.00</td>\n",
       "      <td>0.70</td>\n",
       "      <td>P86OP4IR15.jpg</td>\n",
       "      <td>EN</td>\n",
       "      <td>BugShield Lotion Lite</td>\n",
       "      <td>Repels black flies, ticks, mosquitoes, chigger...</td>\n",
       "    </tr>\n",
       "    <tr>\n",
       "      <th>88</th>\n",
       "      <td>89</td>\n",
       "      <td>1995-02-15</td>\n",
       "      <td>15</td>\n",
       "      <td>2.50</td>\n",
       "      <td>0.63</td>\n",
       "      <td>P86OP4IR15.jpg</td>\n",
       "      <td>EN</td>\n",
       "      <td>BugShield Lotion</td>\n",
       "      <td>Repels black flies, ticks, mosquitoes, chigger...</td>\n",
       "    </tr>\n",
       "    <tr>\n",
       "      <th>89</th>\n",
       "      <td>90</td>\n",
       "      <td>1995-02-15</td>\n",
       "      <td>15</td>\n",
       "      <td>2.50</td>\n",
       "      <td>0.63</td>\n",
       "      <td>P86OP4IR15.jpg</td>\n",
       "      <td>EN</td>\n",
       "      <td>BugShield Extreme</td>\n",
       "      <td>Highest amount of the active ingredient, 38%, ...</td>\n",
       "    </tr>\n",
       "  </tbody>\n",
       "</table>\n",
       "</div>"
      ],
      "text/plain": [
       "    PRODUCT_NUMBER INTRODUCTION_DATE  PRODUCT_TYPE_CODE  PRODUCTION_COST  \\\n",
       "20              21        1995-02-15                  3            29.17   \n",
       "23              24        1997-03-05                  4            62.50   \n",
       "85              86        1995-02-15                 15             2.00   \n",
       "86              87        1995-02-15                 15             2.00   \n",
       "87              88        1995-02-15                 15             2.00   \n",
       "88              89        1995-02-15                 15             2.50   \n",
       "89              90        1995-02-15                 15             2.50   \n",
       "\n",
       "    MARGIN   PRODUCT_IMAGE LANGUAGE                  PRODUCT_NAME  \\\n",
       "20    0.17   P21CE1SB3.jpg       EN                Hibernator Pad   \n",
       "23    0.17   P24CE1PK4.jpg       EN  Canyon Mule Climber Backpack   \n",
       "85    0.67  P86OP4IR15.jpg       EN             BugShield Natural   \n",
       "86    0.67  P86OP4IR15.jpg       EN               BugShield Spray   \n",
       "87    0.70  P86OP4IR15.jpg       EN         BugShield Lotion Lite   \n",
       "88    0.63  P86OP4IR15.jpg       EN              BugShield Lotion   \n",
       "89    0.63  P86OP4IR15.jpg       EN             BugShield Extreme   \n",
       "\n",
       "                                          DESCRIPTION  \n",
       "20  Warms up quickly for snow camping comfort. The...  \n",
       "23  This pack is perfect for day trips and short h...  \n",
       "85  Contains no chemicals. Repels mosquitoes, blac...  \n",
       "86  Repels black flies, ticks, mosquitoes, chigger...  \n",
       "87  Repels black flies, ticks, mosquitoes, chigger...  \n",
       "88  Repels black flies, ticks, mosquitoes, chigger...  \n",
       "89  Highest amount of the active ingredient, 38%, ...  "
      ]
     },
     "execution_count": 54,
     "metadata": {},
     "output_type": "execute_result"
    }
   ],
   "source": [
    "filtered = sf.loc[(sf['MARGIN'] > 0.60) | (sf['MARGIN'] < 0.20)]\n",
    "filtered\n"
   ]
  },
  {
   "cell_type": "markdown",
   "metadata": {},
   "source": [
    "Geef een overzicht met daarin de landen waar met francs wordt betaald. Sorteer de uitkomst op land.  (1 kolom, 3 rijen)"
   ]
  },
  {
   "cell_type": "code",
   "execution_count": null,
   "metadata": {},
   "outputs": [
    {
     "data": {
      "text/html": [
       "<div>\n",
       "<style scoped>\n",
       "    .dataframe tbody tr th:only-of-type {\n",
       "        vertical-align: middle;\n",
       "    }\n",
       "\n",
       "    .dataframe tbody tr th {\n",
       "        vertical-align: top;\n",
       "    }\n",
       "\n",
       "    .dataframe thead th {\n",
       "        text-align: right;\n",
       "    }\n",
       "</style>\n",
       "<table border=\"1\" class=\"dataframe\">\n",
       "  <thead>\n",
       "    <tr style=\"text-align: right;\">\n",
       "      <th></th>\n",
       "      <th>COUNTRY_CODE</th>\n",
       "      <th>COUNTRY</th>\n",
       "      <th>LANGUAGE</th>\n",
       "      <th>CURRENCY_NAME</th>\n",
       "    </tr>\n",
       "  </thead>\n",
       "  <tbody>\n",
       "    <tr>\n",
       "      <th>0</th>\n",
       "      <td>1</td>\n",
       "      <td>France</td>\n",
       "      <td>EN</td>\n",
       "      <td>francs</td>\n",
       "    </tr>\n",
       "    <tr>\n",
       "      <th>7</th>\n",
       "      <td>8</td>\n",
       "      <td>Switzerland</td>\n",
       "      <td>EN</td>\n",
       "      <td>francs</td>\n",
       "    </tr>\n",
       "    <tr>\n",
       "      <th>15</th>\n",
       "      <td>17</td>\n",
       "      <td>Belgium</td>\n",
       "      <td>EN</td>\n",
       "      <td>francs</td>\n",
       "    </tr>\n",
       "  </tbody>\n",
       "</table>\n",
       "</div>"
      ],
      "text/plain": [
       "    COUNTRY_CODE      COUNTRY LANGUAGE CURRENCY_NAME\n",
       "0              1       France       EN        francs\n",
       "7              8  Switzerland       EN        francs\n",
       "15            17      Belgium       EN        francs"
      ]
     },
     "execution_count": 58,
     "metadata": {},
     "output_type": "execute_result"
    }
   ],
   "source": [
    "filtered= sf.loc[(sf[\"CURRENCY_NAME\"] == \"francs\")]\n",
    "filtered"
   ]
  },
  {
   "cell_type": "markdown",
   "metadata": {},
   "source": [
    "Geef een overzicht met daarin de verschillende introductiedatums waarop producten met meer dan 50% marge worden geïntroduceerd (1 kolom, 7 rijen) "
   ]
  },
  {
   "cell_type": "code",
   "execution_count": null,
   "metadata": {},
   "outputs": [
    {
     "data": {
      "text/html": [
       "<div>\n",
       "<style scoped>\n",
       "    .dataframe tbody tr th:only-of-type {\n",
       "        vertical-align: middle;\n",
       "    }\n",
       "\n",
       "    .dataframe tbody tr th {\n",
       "        vertical-align: top;\n",
       "    }\n",
       "\n",
       "    .dataframe thead th {\n",
       "        text-align: right;\n",
       "    }\n",
       "</style>\n",
       "<table border=\"1\" class=\"dataframe\">\n",
       "  <thead>\n",
       "    <tr style=\"text-align: right;\">\n",
       "      <th></th>\n",
       "      <th>INTRODUCTION_DATE</th>\n",
       "    </tr>\n",
       "  </thead>\n",
       "  <tbody>\n",
       "    <tr>\n",
       "      <th>66</th>\n",
       "      <td>2000-10-26</td>\n",
       "    </tr>\n",
       "    <tr>\n",
       "      <th>85</th>\n",
       "      <td>1995-02-15</td>\n",
       "    </tr>\n",
       "    <tr>\n",
       "      <th>101</th>\n",
       "      <td>2003-12-10</td>\n",
       "    </tr>\n",
       "    <tr>\n",
       "      <th>103</th>\n",
       "      <td>2003-12-18</td>\n",
       "    </tr>\n",
       "    <tr>\n",
       "      <th>104</th>\n",
       "      <td>2003-12-27</td>\n",
       "    </tr>\n",
       "    <tr>\n",
       "      <th>106</th>\n",
       "      <td>2004-01-13</td>\n",
       "    </tr>\n",
       "    <tr>\n",
       "      <th>110</th>\n",
       "      <td>2003-12-15</td>\n",
       "    </tr>\n",
       "  </tbody>\n",
       "</table>\n",
       "</div>"
      ],
      "text/plain": [
       "    INTRODUCTION_DATE\n",
       "66         2000-10-26\n",
       "85         1995-02-15\n",
       "101        2003-12-10\n",
       "103        2003-12-18\n",
       "104        2003-12-27\n",
       "106        2004-01-13\n",
       "110        2003-12-15"
      ]
     },
     "execution_count": 62,
     "metadata": {},
     "output_type": "execute_result"
    }
   ],
   "source": [
    "filtered = sf.loc[sf['MARGIN'] > 0.50, ['INTRODUCTION_DATE']]\n",
    "filtered.drop_duplicates()"
   ]
  },
  {
   "cell_type": "markdown",
   "metadata": {},
   "source": [
    "Geef een overzicht met daarin het eerste adres en de stad van verkoopafdelingen waarvan zowel het tweede adres als de regio bekend is (2 kolommen, 7 rijen)"
   ]
  },
  {
   "cell_type": "code",
   "execution_count": 8,
   "metadata": {},
   "outputs": [
    {
     "data": {
      "text/html": [
       "<div>\n",
       "<style scoped>\n",
       "    .dataframe tbody tr th:only-of-type {\n",
       "        vertical-align: middle;\n",
       "    }\n",
       "\n",
       "    .dataframe tbody tr th {\n",
       "        vertical-align: top;\n",
       "    }\n",
       "\n",
       "    .dataframe thead th {\n",
       "        text-align: right;\n",
       "    }\n",
       "</style>\n",
       "<table border=\"1\" class=\"dataframe\">\n",
       "  <thead>\n",
       "    <tr style=\"text-align: right;\">\n",
       "      <th></th>\n",
       "      <th>ADDRESS1</th>\n",
       "      <th>CITY</th>\n",
       "    </tr>\n",
       "  </thead>\n",
       "  <tbody>\n",
       "    <tr>\n",
       "      <th>13</th>\n",
       "      <td>500, Place d'Armes</td>\n",
       "      <td>Montréal</td>\n",
       "    </tr>\n",
       "    <tr>\n",
       "      <th>31</th>\n",
       "      <td>Röntgenstraße 90</td>\n",
       "      <td>Frankfurt</td>\n",
       "    </tr>\n",
       "    <tr>\n",
       "      <th>59</th>\n",
       "      <td>Grubesallee 141</td>\n",
       "      <td>Hamburg</td>\n",
       "    </tr>\n",
       "    <tr>\n",
       "      <th>63</th>\n",
       "      <td>2479 Broad Street</td>\n",
       "      <td>Hartford</td>\n",
       "    </tr>\n",
       "    <tr>\n",
       "      <th>74</th>\n",
       "      <td>10423 Kenwood Road</td>\n",
       "      <td>Cincinnati</td>\n",
       "    </tr>\n",
       "    <tr>\n",
       "      <th>76</th>\n",
       "      <td>332 South Main Street</td>\n",
       "      <td>Hanover</td>\n",
       "    </tr>\n",
       "    <tr>\n",
       "      <th>77</th>\n",
       "      <td>795 South Jefferson</td>\n",
       "      <td>Springfield</td>\n",
       "    </tr>\n",
       "  </tbody>\n",
       "</table>\n",
       "</div>"
      ],
      "text/plain": [
       "                 ADDRESS1         CITY\n",
       "13     500, Place d'Armes     Montréal\n",
       "31       Röntgenstraße 90    Frankfurt\n",
       "59        Grubesallee 141      Hamburg\n",
       "63      2479 Broad Street     Hartford\n",
       "74     10423 Kenwood Road   Cincinnati\n",
       "76  332 South Main Street      Hanover\n",
       "77    795 South Jefferson  Springfield"
      ]
     },
     "execution_count": 8,
     "metadata": {},
     "output_type": "execute_result"
    }
   ],
   "source": [
    "filtered = sf_retailer.loc[sf_retailer['ADDRESS2'].notna() & sf_retailer['REGION'].notna(), ['ADDRESS1', 'CITY']]\n",
    "filtered.head(7)"
   ]
  },
  {
   "cell_type": "markdown",
   "metadata": {},
   "source": [
    "Geef een overzicht met daarin de landen waar met dollars (dollars of new dollar) wordt betaald. Sorteer de uitkomst op land. (1 kolom, 4 rijen) "
   ]
  },
  {
   "cell_type": "code",
   "execution_count": 14,
   "metadata": {},
   "outputs": [
    {
     "data": {
      "text/html": [
       "<div>\n",
       "<style scoped>\n",
       "    .dataframe tbody tr th:only-of-type {\n",
       "        vertical-align: middle;\n",
       "    }\n",
       "\n",
       "    .dataframe tbody tr th {\n",
       "        vertical-align: top;\n",
       "    }\n",
       "\n",
       "    .dataframe thead th {\n",
       "        text-align: right;\n",
       "    }\n",
       "</style>\n",
       "<table border=\"1\" class=\"dataframe\">\n",
       "  <thead>\n",
       "    <tr style=\"text-align: right;\">\n",
       "      <th></th>\n",
       "      <th>COUNTRY</th>\n",
       "    </tr>\n",
       "  </thead>\n",
       "  <tbody>\n",
       "    <tr>\n",
       "      <th>2</th>\n",
       "      <td>United States</td>\n",
       "    </tr>\n",
       "    <tr>\n",
       "      <th>3</th>\n",
       "      <td>Canada</td>\n",
       "    </tr>\n",
       "    <tr>\n",
       "      <th>11</th>\n",
       "      <td>Taiwan</td>\n",
       "    </tr>\n",
       "    <tr>\n",
       "      <th>14</th>\n",
       "      <td>Australia</td>\n",
       "    </tr>\n",
       "  </tbody>\n",
       "</table>\n",
       "</div>"
      ],
      "text/plain": [
       "          COUNTRY\n",
       "2   United States\n",
       "3          Canada\n",
       "11         Taiwan\n",
       "14      Australia"
      ]
     },
     "execution_count": 14,
     "metadata": {},
     "output_type": "execute_result"
    }
   ],
   "source": [
    "filtered= sf_country.loc[sf_country['CURRENCY_NAME'].str.contains('dollar'), ['COUNTRY']]\n",
    "filtered"
   ]
  },
  {
   "cell_type": "markdown",
   "metadata": {},
   "source": [
    "Geef een overzicht met daarin beide adressen en de stad van vestigingen van klanten waarvan de postcode begint met een ‘D’ (van duitsland). Filter op vestigingen die een tweede adres hebben. (3 kolommen, 2 rijen) "
   ]
  },
  {
   "cell_type": "code",
   "execution_count": 9,
   "metadata": {},
   "outputs": [
    {
     "data": {
      "text/html": [
       "<div>\n",
       "<style scoped>\n",
       "    .dataframe tbody tr th:only-of-type {\n",
       "        vertical-align: middle;\n",
       "    }\n",
       "\n",
       "    .dataframe tbody tr th {\n",
       "        vertical-align: top;\n",
       "    }\n",
       "\n",
       "    .dataframe thead th {\n",
       "        text-align: right;\n",
       "    }\n",
       "</style>\n",
       "<table border=\"1\" class=\"dataframe\">\n",
       "  <thead>\n",
       "    <tr style=\"text-align: right;\">\n",
       "      <th></th>\n",
       "      <th>ADDRESS1</th>\n",
       "      <th>ADDRESS2</th>\n",
       "      <th>CITY</th>\n",
       "    </tr>\n",
       "  </thead>\n",
       "  <tbody>\n",
       "    <tr>\n",
       "      <th>31</th>\n",
       "      <td>Röntgenstraße 90</td>\n",
       "      <td>3. Tür rechts</td>\n",
       "      <td>Frankfurt</td>\n",
       "    </tr>\n",
       "    <tr>\n",
       "      <th>59</th>\n",
       "      <td>Grubesallee 141</td>\n",
       "      <td>4. Stock</td>\n",
       "      <td>Hamburg</td>\n",
       "    </tr>\n",
       "  </tbody>\n",
       "</table>\n",
       "</div>"
      ],
      "text/plain": [
       "            ADDRESS1       ADDRESS2       CITY\n",
       "31  Röntgenstraße 90  3. Tür rechts  Frankfurt\n",
       "59   Grubesallee 141       4. Stock    Hamburg"
      ]
     },
     "execution_count": 9,
     "metadata": {},
     "output_type": "execute_result"
    }
   ],
   "source": [
    "filtered = sf_retailer.loc[sf_retailer['POSTAL_ZONE'].str.startswith('D') & sf_retailer['ADDRESS2'].notna(), ['ADDRESS1', 'ADDRESS2', 'CITY']]\n",
    "filtered"
   ]
  },
  {
   "cell_type": "markdown",
   "metadata": {},
   "source": [
    "## Selecties op één tabel met functies"
   ]
  },
  {
   "cell_type": "markdown",
   "metadata": {},
   "source": [
    "Geef het totaal aantal producten dat is teruggebracht (1 waarde) "
   ]
  },
  {
   "cell_type": "code",
   "execution_count": 15,
   "metadata": {},
   "outputs": [
    {
     "data": {
      "text/plain": [
       "np.int64(619)"
      ]
     },
     "execution_count": 15,
     "metadata": {},
     "output_type": "execute_result"
    }
   ],
   "source": [
    "filtered = sf_returned['RETURN_CODE'].count()\n",
    "filtered"
   ]
  },
  {
   "cell_type": "markdown",
   "metadata": {},
   "source": [
    "Geef het aantal regio’s waarin verkoopafdelingen gevestigd zijn. (1 waarde)"
   ]
  },
  {
   "cell_type": "code",
   "execution_count": 15,
   "metadata": {},
   "outputs": [
    {
     "data": {
      "text/plain": [
       "np.int64(15)"
      ]
     },
     "execution_count": 15,
     "metadata": {},
     "output_type": "execute_result"
    }
   ],
   "source": [
    "sql_querysb = \"SELECT * FROM sales_branch;\"\n",
    "sf_salesbranch = pd.read_sql_query(sql_querysb, sales_conn)\n",
    "\n",
    "filtered = sf_salesbranch['REGION'].count()\n",
    "filtered"
   ]
  },
  {
   "cell_type": "markdown",
   "metadata": {},
   "source": [
    "Maak 3 variabelen:\n",
    "- Een met de laagste\n",
    "- Een met de hoogste\n",
    "- Een met de gemiddelde (afgerond op 2 decimalen)\n",
    "\n",
    "marge van producten (3 kolommen, 1 rij) "
   ]
  },
  {
   "cell_type": "code",
   "execution_count": 10,
   "metadata": {},
   "outputs": [
    {
     "data": {
      "text/plain": [
       "(np.float64(0.7), np.float64(0.17), np.float64(0.3966086956521739))"
      ]
     },
     "execution_count": 10,
     "metadata": {},
     "output_type": "execute_result"
    }
   ],
   "source": [
    "max_marge = sf_product['MARGIN'].max()\n",
    "min_marge = sf_product['MARGIN'].min()\n",
    "avg_marge = sf_product['MARGIN'].mean()\n",
    "\n",
    "max_marge, min_marge, avg_marge"
   ]
  },
  {
   "cell_type": "markdown",
   "metadata": {},
   "source": [
    "Geef het aantal vestigingen van klanten waarvan het 2e adres niet bekend is (1 waarde)"
   ]
  },
  {
   "cell_type": "code",
   "execution_count": 24,
   "metadata": {},
   "outputs": [
    {
     "data": {
      "text/plain": [
       "np.int64(286)"
      ]
     },
     "execution_count": 24,
     "metadata": {},
     "output_type": "execute_result"
    }
   ],
   "source": [
    "filtered = sf_retailer['ADDRESS1'].notna() & sf_retailer['ADDRESS2'].isna()\n",
    "filtered.sum()"
   ]
  },
  {
   "cell_type": "markdown",
   "metadata": {},
   "source": [
    "Geef de gemiddelde kostprijs van de verkochte producten waarop korting (unit_sale_price < unit_price) is verleend (1 waarde) "
   ]
  },
  {
   "cell_type": "code",
   "execution_count": 16,
   "metadata": {},
   "outputs": [
    {
     "data": {
      "text/plain": [
       "np.float64(127.34087927598804)"
      ]
     },
     "execution_count": 16,
     "metadata": {},
     "output_type": "execute_result"
    }
   ],
   "source": [
    "sql_queryod = \"SELECT * FROM order_details;\"\n",
    "sf_orderdet = pd.read_sql_query(sql_queryod, sales_conn)\n",
    "\n",
    "filtered = sf_orderdet[sf_orderdet['UNIT_SALE_PRICE'] < sf_orderdet['UNIT_PRICE']]['UNIT_COST'].mean()\n",
    "filtered"
   ]
  },
  {
   "cell_type": "markdown",
   "metadata": {},
   "source": [
    "Geef een overzicht met daarin het aantal medewerkers per medewerkersfunctie (2 kolommen, 7 rijen) "
   ]
  },
  {
   "cell_type": "code",
   "execution_count": 24,
   "metadata": {},
   "outputs": [
    {
     "data": {
      "text/html": [
       "<div>\n",
       "<style scoped>\n",
       "    .dataframe tbody tr th:only-of-type {\n",
       "        vertical-align: middle;\n",
       "    }\n",
       "\n",
       "    .dataframe tbody tr th {\n",
       "        vertical-align: top;\n",
       "    }\n",
       "\n",
       "    .dataframe thead th {\n",
       "        text-align: right;\n",
       "    }\n",
       "</style>\n",
       "<table border=\"1\" class=\"dataframe\">\n",
       "  <thead>\n",
       "    <tr style=\"text-align: right;\">\n",
       "      <th></th>\n",
       "      <th>POSITION_EN</th>\n",
       "      <th>Aantal</th>\n",
       "    </tr>\n",
       "  </thead>\n",
       "  <tbody>\n",
       "    <tr>\n",
       "      <th>6</th>\n",
       "      <td>Regional Manager</td>\n",
       "      <td>2</td>\n",
       "    </tr>\n",
       "    <tr>\n",
       "      <th>5</th>\n",
       "      <td>Level 3 Sales Representative</td>\n",
       "      <td>24</td>\n",
       "    </tr>\n",
       "    <tr>\n",
       "      <th>4</th>\n",
       "      <td>Level 2 Sales Representative</td>\n",
       "      <td>39</td>\n",
       "    </tr>\n",
       "    <tr>\n",
       "      <th>3</th>\n",
       "      <td>Level 1 Sales Representative</td>\n",
       "      <td>13</td>\n",
       "    </tr>\n",
       "    <tr>\n",
       "      <th>2</th>\n",
       "      <td>General Manager</td>\n",
       "      <td>1</td>\n",
       "    </tr>\n",
       "    <tr>\n",
       "      <th>1</th>\n",
       "      <td>District Manager</td>\n",
       "      <td>4</td>\n",
       "    </tr>\n",
       "    <tr>\n",
       "      <th>0</th>\n",
       "      <td>Branch Manager</td>\n",
       "      <td>19</td>\n",
       "    </tr>\n",
       "  </tbody>\n",
       "</table>\n",
       "</div>"
      ],
      "text/plain": [
       "                    POSITION_EN  Aantal\n",
       "6              Regional Manager       2\n",
       "5  Level 3 Sales Representative      24\n",
       "4  Level 2 Sales Representative      39\n",
       "3  Level 1 Sales Representative      13\n",
       "2               General Manager       1\n",
       "1              District Manager       4\n",
       "0                Branch Manager      19"
      ]
     },
     "execution_count": 24,
     "metadata": {},
     "output_type": "execute_result"
    }
   ],
   "source": [
    "sql_queryss = \"SELECT * FROM sales_staff\"\n",
    "sf_salesstaff = pd.read_sql_query(sql_queryss, sales_conn)\n",
    "\n",
    "#size == count, resetindexname == 2de kolomnaam, sortvalues == orderby\n",
    "filtered = (sf_salesstaff.groupby('POSITION_EN').size().reset_index(name='Aantal').sort_values('POSITION_EN', ascending=False))\n",
    "filtered"
   ]
  },
  {
   "cell_type": "markdown",
   "metadata": {},
   "source": [
    "Geef een overzicht met daarin per telefoonnummer het aantal medewerkers dat op dat telefoonnummer bereikbaar is. Toon alleen de telefoonnummer waarop meer dan 4 medewerkers bereikbaar zijn. (2 kolommen, 10 rijen) "
   ]
  },
  {
   "cell_type": "code",
   "execution_count": 29,
   "metadata": {},
   "outputs": [
    {
     "data": {
      "text/html": [
       "<div>\n",
       "<style scoped>\n",
       "    .dataframe tbody tr th:only-of-type {\n",
       "        vertical-align: middle;\n",
       "    }\n",
       "\n",
       "    .dataframe tbody tr th {\n",
       "        vertical-align: top;\n",
       "    }\n",
       "\n",
       "    .dataframe thead th {\n",
       "        text-align: right;\n",
       "    }\n",
       "</style>\n",
       "<table border=\"1\" class=\"dataframe\">\n",
       "  <thead>\n",
       "    <tr style=\"text-align: right;\">\n",
       "      <th></th>\n",
       "      <th>WORK_PHONE</th>\n",
       "      <th>Aantal medewerkers</th>\n",
       "    </tr>\n",
       "  </thead>\n",
       "  <tbody>\n",
       "    <tr>\n",
       "      <th>4</th>\n",
       "      <td>+(44) 121 3505267</td>\n",
       "      <td>5</td>\n",
       "    </tr>\n",
       "    <tr>\n",
       "      <th>10</th>\n",
       "      <td>+(61) 03 2982  4242</td>\n",
       "      <td>5</td>\n",
       "    </tr>\n",
       "    <tr>\n",
       "      <th>11</th>\n",
       "      <td>+31 (0)20 692 93 94</td>\n",
       "      <td>5</td>\n",
       "    </tr>\n",
       "    <tr>\n",
       "      <th>13</th>\n",
       "      <td>+33 1 68 94 52 20</td>\n",
       "      <td>5</td>\n",
       "    </tr>\n",
       "    <tr>\n",
       "      <th>18</th>\n",
       "      <td>1 (206) 292-0012</td>\n",
       "      <td>5</td>\n",
       "    </tr>\n",
       "    <tr>\n",
       "      <th>19</th>\n",
       "      <td>1 (305) 557-4810</td>\n",
       "      <td>6</td>\n",
       "    </tr>\n",
       "    <tr>\n",
       "      <th>20</th>\n",
       "      <td>1 (310) 281-5722</td>\n",
       "      <td>5</td>\n",
       "    </tr>\n",
       "    <tr>\n",
       "      <th>21</th>\n",
       "      <td>1 (403) 232-5986</td>\n",
       "      <td>5</td>\n",
       "    </tr>\n",
       "    <tr>\n",
       "      <th>22</th>\n",
       "      <td>1 (416) 493-5595</td>\n",
       "      <td>5</td>\n",
       "    </tr>\n",
       "    <tr>\n",
       "      <th>23</th>\n",
       "      <td>1 (617) 268-6754</td>\n",
       "      <td>6</td>\n",
       "    </tr>\n",
       "  </tbody>\n",
       "</table>\n",
       "</div>"
      ],
      "text/plain": [
       "             WORK_PHONE  Aantal medewerkers\n",
       "4     +(44) 121 3505267                   5\n",
       "10  +(61) 03 2982  4242                   5\n",
       "11  +31 (0)20 692 93 94                   5\n",
       "13    +33 1 68 94 52 20                   5\n",
       "18     1 (206) 292-0012                   5\n",
       "19     1 (305) 557-4810                   6\n",
       "20     1 (310) 281-5722                   5\n",
       "21     1 (403) 232-5986                   5\n",
       "22     1 (416) 493-5595                   5\n",
       "23     1 (617) 268-6754                   6"
      ]
     },
     "execution_count": 29,
     "metadata": {},
     "output_type": "execute_result"
    }
   ],
   "source": [
    "filtered = sf_salesstaff.groupby('WORK_PHONE').size().reset_index(name='Aantal medewerkers')\n",
    "filtered = filtered[filtered['Aantal medewerkers'] > 4]\n",
    "filtered"
   ]
  },
  {
   "cell_type": "markdown",
   "metadata": {},
   "source": [
    "## Selecties op meerdere tabellen zonder functies"
   ]
  },
  {
   "cell_type": "markdown",
   "metadata": {},
   "source": [
    "Geef een overzicht met daarin het eerste adres en de stad van vestigingen van klanten uit ‘Netherlands’ (2 kolommen, 20 rijen) "
   ]
  },
  {
   "cell_type": "code",
   "execution_count": 32,
   "metadata": {},
   "outputs": [
    {
     "data": {
      "text/html": [
       "<div>\n",
       "<style scoped>\n",
       "    .dataframe tbody tr th:only-of-type {\n",
       "        vertical-align: middle;\n",
       "    }\n",
       "\n",
       "    .dataframe tbody tr th {\n",
       "        vertical-align: top;\n",
       "    }\n",
       "\n",
       "    .dataframe thead th {\n",
       "        text-align: right;\n",
       "    }\n",
       "</style>\n",
       "<table border=\"1\" class=\"dataframe\">\n",
       "  <thead>\n",
       "    <tr style=\"text-align: right;\">\n",
       "      <th></th>\n",
       "      <th>ADDRESS1</th>\n",
       "      <th>CITY</th>\n",
       "    </tr>\n",
       "  </thead>\n",
       "  <tbody>\n",
       "    <tr>\n",
       "      <th>240</th>\n",
       "      <td>Beets 36</td>\n",
       "      <td>Beets</td>\n",
       "    </tr>\n",
       "    <tr>\n",
       "      <th>241</th>\n",
       "      <td>Perestraat 1</td>\n",
       "      <td>Deventer</td>\n",
       "    </tr>\n",
       "    <tr>\n",
       "      <th>242</th>\n",
       "      <td>Laan van Meerdervoort 966</td>\n",
       "      <td>Den Haag</td>\n",
       "    </tr>\n",
       "    <tr>\n",
       "      <th>243</th>\n",
       "      <td>Kalfjeslaan 47</td>\n",
       "      <td>Amstelveen</td>\n",
       "    </tr>\n",
       "    <tr>\n",
       "      <th>244</th>\n",
       "      <td>Startbaan 11</td>\n",
       "      <td>Amstelveen</td>\n",
       "    </tr>\n",
       "    <tr>\n",
       "      <th>245</th>\n",
       "      <td>Noorderspoorsingel 28</td>\n",
       "      <td>Groningen</td>\n",
       "    </tr>\n",
       "    <tr>\n",
       "      <th>246</th>\n",
       "      <td>Hogehilweg 13</td>\n",
       "      <td>Amsterdam</td>\n",
       "    </tr>\n",
       "    <tr>\n",
       "      <th>247</th>\n",
       "      <td>Spoorstraat 43</td>\n",
       "      <td>Varsseveld</td>\n",
       "    </tr>\n",
       "    <tr>\n",
       "      <th>248</th>\n",
       "      <td>Westhavenweg 8</td>\n",
       "      <td>Amsterdam</td>\n",
       "    </tr>\n",
       "    <tr>\n",
       "      <th>249</th>\n",
       "      <td>Westzeedijk 4</td>\n",
       "      <td>Muiden</td>\n",
       "    </tr>\n",
       "    <tr>\n",
       "      <th>250</th>\n",
       "      <td>Gooiergracht 91</td>\n",
       "      <td>Laren</td>\n",
       "    </tr>\n",
       "    <tr>\n",
       "      <th>251</th>\n",
       "      <td>Hoofdstraat 150</td>\n",
       "      <td>Pieterburen</td>\n",
       "    </tr>\n",
       "    <tr>\n",
       "      <th>252</th>\n",
       "      <td>Olde Diek 2</td>\n",
       "      <td>Laren</td>\n",
       "    </tr>\n",
       "    <tr>\n",
       "      <th>253</th>\n",
       "      <td>Amsterdamsestraatweg 8</td>\n",
       "      <td>Maarssen</td>\n",
       "    </tr>\n",
       "    <tr>\n",
       "      <th>254</th>\n",
       "      <td>Krayenhoffstraat 11</td>\n",
       "      <td>Amsterdam</td>\n",
       "    </tr>\n",
       "    <tr>\n",
       "      <th>255</th>\n",
       "      <td>Overschiestraat 19</td>\n",
       "      <td>Amsterdam</td>\n",
       "    </tr>\n",
       "    <tr>\n",
       "      <th>256</th>\n",
       "      <td>Havenbuurt 12</td>\n",
       "      <td>Marken</td>\n",
       "    </tr>\n",
       "    <tr>\n",
       "      <th>257</th>\n",
       "      <td>Duivendaal 1</td>\n",
       "      <td>Wageningen</td>\n",
       "    </tr>\n",
       "    <tr>\n",
       "      <th>258</th>\n",
       "      <td>Voorstraat 37</td>\n",
       "      <td>Nieuweschans</td>\n",
       "    </tr>\n",
       "    <tr>\n",
       "      <th>259</th>\n",
       "      <td>Stadhouderslaan 18</td>\n",
       "      <td>Rotterdam</td>\n",
       "    </tr>\n",
       "  </tbody>\n",
       "</table>\n",
       "</div>"
      ],
      "text/plain": [
       "                      ADDRESS1          CITY\n",
       "240                   Beets 36         Beets\n",
       "241               Perestraat 1      Deventer\n",
       "242  Laan van Meerdervoort 966      Den Haag\n",
       "243             Kalfjeslaan 47    Amstelveen\n",
       "244               Startbaan 11    Amstelveen\n",
       "245      Noorderspoorsingel 28     Groningen\n",
       "246              Hogehilweg 13     Amsterdam\n",
       "247             Spoorstraat 43    Varsseveld\n",
       "248             Westhavenweg 8     Amsterdam\n",
       "249              Westzeedijk 4        Muiden\n",
       "250            Gooiergracht 91         Laren\n",
       "251            Hoofdstraat 150   Pieterburen\n",
       "252                Olde Diek 2         Laren\n",
       "253     Amsterdamsestraatweg 8      Maarssen\n",
       "254        Krayenhoffstraat 11     Amsterdam\n",
       "255         Overschiestraat 19     Amsterdam\n",
       "256              Havenbuurt 12        Marken\n",
       "257               Duivendaal 1    Wageningen\n",
       "258              Voorstraat 37  Nieuweschans\n",
       "259         Stadhouderslaan 18     Rotterdam"
      ]
     },
     "execution_count": 32,
     "metadata": {},
     "output_type": "execute_result"
    }
   ],
   "source": [
    "sf_merge = sf_retailer.merge(sf_country, on='COUNTRY_CODE')\n",
    "\n",
    "sf_nl = sf_merge[sf_merge['COUNTRY'] == 'Netherlands']\n",
    "sf_nl[['ADDRESS1', 'CITY']].head(20)"
   ]
  },
  {
   "cell_type": "markdown",
   "metadata": {},
   "source": [
    "Geef een overzicht met daarin de productnamen die tot het producttype ‘Eyewear’ behoren. (1 kolom, 5 rijen) "
   ]
  },
  {
   "cell_type": "code",
   "execution_count": 37,
   "metadata": {},
   "outputs": [
    {
     "ename": "NameError",
     "evalue": "name 'sql_querypt' is not defined",
     "output_type": "error",
     "traceback": [
      "\u001b[1;31m---------------------------------------------------------------------------\u001b[0m",
      "\u001b[1;31mNameError\u001b[0m                                 Traceback (most recent call last)",
      "Cell \u001b[1;32mIn[37], line 3\u001b[0m\n\u001b[0;32m      1\u001b[0m \u001b[38;5;66;03m#error\u001b[39;00m\n\u001b[0;32m      2\u001b[0m sql_queryrpt \u001b[38;5;241m=\u001b[39m \u001b[38;5;124m\"\u001b[39m\u001b[38;5;124mSELECT * FROM product_type;\u001b[39m\u001b[38;5;124m\"\u001b[39m\n\u001b[1;32m----> 3\u001b[0m sf_product_type \u001b[38;5;241m=\u001b[39m pd\u001b[38;5;241m.\u001b[39mread_sql_query(\u001b[43msql_querypt\u001b[49m, sales_conn)\n\u001b[0;32m      5\u001b[0m sf_merge \u001b[38;5;241m=\u001b[39m sf_product_type\u001b[38;5;241m.\u001b[39mmerge(sf_product, on\u001b[38;5;241m=\u001b[39m\u001b[38;5;124m'\u001b[39m\u001b[38;5;124mPRODUCT_TYPE_CODE\u001b[39m\u001b[38;5;124m'\u001b[39m)\n\u001b[0;32m      6\u001b[0m sf_eye \u001b[38;5;241m=\u001b[39m sf_merge[sf_merge[\u001b[38;5;124m'\u001b[39m\u001b[38;5;124mPRODUCT_NAME\u001b[39m\u001b[38;5;124m'\u001b[39m]\u001b[38;5;241m.\u001b[39mstr\u001b[38;5;241m.\u001b[39mcontains(\u001b[38;5;124m'\u001b[39m\u001b[38;5;124meyewear\u001b[39m\u001b[38;5;124m'\u001b[39m)]\n",
      "\u001b[1;31mNameError\u001b[0m: name 'sql_querypt' is not defined"
     ]
    }
   ],
   "source": [
    "#error\n",
    "sql_queryrpt = \"SELECT * FROM product_type;\"\n",
    "sf_product_type = pd.read_sql_query(sql_querypt, sales_conn)\n",
    "\n",
    "sf_merge = sf_product_type.merge(sf_product, on='PRODUCT_TYPE_CODE')\n",
    "sf_eye = sf_merge[sf_merge['PRODUCT_NAME'].str.contains('eyewear')]"
   ]
  },
  {
   "cell_type": "markdown",
   "metadata": {},
   "source": [
    "Geef een overzicht met daarin alle unieke eerste adressen van klantvestigingen en de voornaam en achternaam van de verkopers die ‘Branch Manager’ zijn en aan deze vestigingen hebben verkocht (3 kolommen, 1 rij) "
   ]
  },
  {
   "cell_type": "code",
   "execution_count": null,
   "metadata": {},
   "outputs": [],
   "source": []
  },
  {
   "cell_type": "markdown",
   "metadata": {},
   "source": [
    "Geef een overzicht met daarin van de verkopers hun functie en indien zij iets hebben verkocht de datum waarop de verkoop heeft plaatsgevonden. Laat alleen de verschillende namen van de posities zien van de verkopers die het woord ‘Manager’ in hun positienaam hebben staan. (2 kolommen, 7 rijen) "
   ]
  },
  {
   "cell_type": "code",
   "execution_count": null,
   "metadata": {},
   "outputs": [],
   "source": []
  },
  {
   "cell_type": "markdown",
   "metadata": {},
   "source": [
    "Geef een overzicht met daarin de verschillende namen van producten en bijbehorende namen van producttypen van de producten waarvoor ooit meer dan 750 stuks tegelijk verkocht zijn. (2 kolommen, 9 rijen) "
   ]
  },
  {
   "cell_type": "code",
   "execution_count": null,
   "metadata": {},
   "outputs": [],
   "source": []
  },
  {
   "cell_type": "markdown",
   "metadata": {},
   "source": [
    "Geef een overzicht met daarin de productnamen waarvan ooit meer dan 40% korting is verleend. De formule voor korting is: (unit_price - unit_sale_price) / unit_price (1 kolom, 8 rijen) "
   ]
  },
  {
   "cell_type": "code",
   "execution_count": null,
   "metadata": {},
   "outputs": [],
   "source": []
  },
  {
   "cell_type": "markdown",
   "metadata": {},
   "source": [
    "Geef een overzicht met daarin de retourreden van producten waarvan ooit meer dan 90% van de aangeschafte hoeveelheid is teruggebracht (return_quantity/quantity). (1 kolom, 3 rijen) "
   ]
  },
  {
   "cell_type": "code",
   "execution_count": null,
   "metadata": {},
   "outputs": [],
   "source": []
  },
  {
   "cell_type": "markdown",
   "metadata": {},
   "source": [
    "## Selecties op meerdere tabellen met functies"
   ]
  },
  {
   "cell_type": "markdown",
   "metadata": {},
   "source": [
    "Geef een overzicht met daarin per producttype het aantal producten die tot dat producttype behoren. (2 kolommen, 21 rijen) "
   ]
  },
  {
   "cell_type": "code",
   "execution_count": null,
   "metadata": {},
   "outputs": [],
   "source": []
  },
  {
   "cell_type": "markdown",
   "metadata": {},
   "source": [
    "Geef een overzicht met daarin per land het aantal vestigingen van klanten die zich in dat land bevinden. (2 kolommen, 21 rijen) "
   ]
  },
  {
   "cell_type": "code",
   "execution_count": null,
   "metadata": {},
   "outputs": [],
   "source": []
  },
  {
   "cell_type": "markdown",
   "metadata": {},
   "source": [
    "Geef een overzicht met daarin van de producten behorend tot het producttype ‘Cooking Gear’ per productnaam de totaal verkochte hoeveelheid en de gemiddelde verkoopprijs. Sorteer de uitkomst op totaal verkochte hoeveelheid. (4 kolommen, 10 rijen) "
   ]
  },
  {
   "cell_type": "code",
   "execution_count": null,
   "metadata": {},
   "outputs": [],
   "source": []
  },
  {
   "cell_type": "markdown",
   "metadata": {},
   "source": [
    "Geef een overzicht met daarin per land de naam van het land, de naam van de stad waar de verkoopafdeling is gevestigd (noem de kolomnaam in het overzicht ‘verkoper’) en het aantal steden waar zich klanten bevinden in dat land (noem de kolomnaam in het overzicht ‘klanten’) (3 kolommen, 29 rijen) "
   ]
  },
  {
   "cell_type": "code",
   "execution_count": null,
   "metadata": {},
   "outputs": [],
   "source": []
  },
  {
   "cell_type": "markdown",
   "metadata": {},
   "source": [
    "## Pythonvertalingen van SUBSELECT en UNION met o.a. for-loops"
   ]
  },
  {
   "cell_type": "markdown",
   "metadata": {},
   "source": [
    "Geef een overzicht met daarin de voornaam en de achternaam van de medewerkers die nog nooit wat hebben verkocht (2 kolommen, 25 rijen) "
   ]
  },
  {
   "cell_type": "code",
   "execution_count": null,
   "metadata": {},
   "outputs": [],
   "source": []
  },
  {
   "cell_type": "markdown",
   "metadata": {},
   "source": [
    "Geef een overzicht met daarin het aantal producten waarvan de marge lager is dan de gemiddelde marge van alle producten samen. Geef in het overzicht tevens aan wat de gemiddelde marge is van dit aantal producten waarvan de marge lager dan de gemiddelde marge van alle producten samen is. (1 kolom, 2 rijen) "
   ]
  },
  {
   "cell_type": "code",
   "execution_count": null,
   "metadata": {},
   "outputs": [],
   "source": []
  },
  {
   "cell_type": "markdown",
   "metadata": {},
   "source": [
    "Geef een overzicht met daarin de namen van de producten die voor meer dan 500 (verkoopprijs) zijn verkocht maar nooit zijn teruggebracht. (1 kolom, 13 rijen) "
   ]
  },
  {
   "cell_type": "code",
   "execution_count": null,
   "metadata": {},
   "outputs": [],
   "source": []
  },
  {
   "cell_type": "markdown",
   "metadata": {},
   "source": [
    "Geef een overzicht met daarin per (achternaam van) medewerker of hij/zij manager is of niet, door deze informatie toe te voegen als extra 'Ja/Nee'-kolom.<br>\n",
    "Hint: gebruik een for-loop waarin je o.a. bepaalt of het woord 'Manager' in de functie (position_en) staat. (2 kolommen, 102 rijen)."
   ]
  },
  {
   "cell_type": "code",
   "execution_count": null,
   "metadata": {},
   "outputs": [],
   "source": []
  },
  {
   "cell_type": "markdown",
   "metadata": {},
   "source": [
    "Met de onderstaande code laat je Python het huidige jaar uitrekenen."
   ]
  },
  {
   "cell_type": "code",
   "execution_count": null,
   "metadata": {},
   "outputs": [
    {
     "data": {
      "text/plain": [
       "2024"
      ]
     },
     "execution_count": 1,
     "metadata": {},
     "output_type": "execute_result"
    }
   ],
   "source": [
    "from datetime import date\n",
    "date.today().year"
   ]
  },
  {
   "cell_type": "markdown",
   "metadata": {},
   "source": [
    "Met de onderstaande code selecteer je op een bepaald jaartal uit een datum."
   ]
  },
  {
   "cell_type": "code",
   "execution_count": null,
   "metadata": {},
   "outputs": [
    {
     "data": {
      "text/plain": [
       "2013"
      ]
     },
     "execution_count": 2,
     "metadata": {},
     "output_type": "execute_result"
    }
   ],
   "source": [
    "from datetime import datetime\n",
    "\n",
    "date_str = '16-8-2013'\n",
    "date_format = '%d-%m-%Y'\n",
    "date_obj = datetime.strptime(date_str, date_format)\n",
    "\n",
    "date_obj.year"
   ]
  },
  {
   "cell_type": "markdown",
   "metadata": {},
   "source": [
    "Geef met behulp van bovenstaande hulpcode een overzicht met daarin op basis van het aantal jaar dat iemand in dienst is of een medewerker ‘kort in dienst’ (minder dan 25 jaar in dienst) of een ‘lang in dienst’ (groter gelijk dan 12 jaar in dienst) is. Geef daarbij per medewerker in een aparte kolom zowel ‘kort in dienst’ als ‘lang in dienst’ aan. Gebruik (wederom) een for-loop.<br>\n",
    "(2 kolommen, 102 rijen) "
   ]
  },
  {
   "cell_type": "code",
   "execution_count": null,
   "metadata": {},
   "outputs": [],
   "source": []
  },
  {
   "cell_type": "markdown",
   "metadata": {},
   "source": [
    "## Van Jupyter Notebook naar Pythonproject"
   ]
  },
  {
   "cell_type": "markdown",
   "metadata": {},
   "source": [
    "1. Richt de map waarin jullie tot nu toe hebben gewerkt in volgens de mappenstructuur uit de slides.\n",
    "2. Maak van de ontstane mappenstructuur een Pythonproject dat uitvoerbaar is vanuit de terminal. Maak daarin een .py-bestand dat minstens 5 antwoorden uit dit notebook (in de vorm van een DataFrame) exporteert naar Excelbestanden. Alle notebooks mogen als notebook blijven bestaan.\n",
    "3. Zorg ervoor dat dit Pythonproject zijn eigen repo heeft op Github. Let op: je virtual environment moet <b><u>niet</u></b> meegaan naar Github.\n",
    "\n",
    "Je mag tijdens dit proces je uit stap 1 ontstane mappenstructuur aanpassen, zolang je bij het beoordelingsmoment kan verantwoorden wat de motivatie hierachter is. De slides verplichten je dus nergens toe."
   ]
  }
 ],
 "metadata": {
  "kernelspec": {
   "display_name": ".venv",
   "language": "python",
   "name": "python3"
  },
  "language_info": {
   "codemirror_mode": {
    "name": "ipython",
    "version": 3
   },
   "file_extension": ".py",
   "mimetype": "text/x-python",
   "name": "python",
   "nbconvert_exporter": "python",
   "pygments_lexer": "ipython3",
   "version": "3.13.2"
  }
 },
 "nbformat": 4,
 "nbformat_minor": 2
}
