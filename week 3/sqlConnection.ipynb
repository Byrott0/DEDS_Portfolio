{
 "cells": [
  {
   "cell_type": "markdown",
   "metadata": {},
   "source": [
    "# week 3 code DWH"
   ]
  },
  {
   "cell_type": "code",
   "execution_count": 2,
   "metadata": {},
   "outputs": [],
   "source": [
    "import pandas as pd\n",
    "import sqlite3 as sql\n",
    "import warnings\n",
    "import pyodbc\n",
    "warnings.simplefilter('ignore')"
   ]
  },
  {
   "cell_type": "code",
   "execution_count": null,
   "metadata": {},
   "outputs": [],
   "source": [
    "connection_sales = sql.connect('go_sales_train.sqlite')\n",
    "connection_crm = sql.connect('go_crm_train.sqlite')\n",
    "connection_staff = sql.connect('go_staff_train.sqlite')"
   ]
  },
  {
   "cell_type": "markdown",
   "metadata": {},
   "source": [
    "### verbinden met SDM db"
   ]
  },
  {
   "cell_type": "code",
   "execution_count": 3,
   "metadata": {},
   "outputs": [
    {
     "name": "stdout",
     "output_type": "stream",
     "text": [
      "[('order_details',), ('returned_item',), ('satisfaction_type',), ('course',), ('training',), ('product_forecast_train',), ('age_group',), ('retailer_segment',), ('retailer_headquarters',), ('sales_demographic',), ('retailer_type',), ('retailer',), ('sales_territory',), ('country',), ('retailer_site',), ('retailer_contact',), ('sales_branch',), ('sales_staff',), ('order_method',), ('order_header',), ('product_line',), ('product_type',), ('return_reason',), ('product',)]\n"
     ]
    }
   ],
   "source": [
    "\n",
    "# Verbinden met SDM database\n",
    "conn_sdm = pyodbc.connect(\n",
    "    'DRIVER={ODBC Driver 17 for SQL Server};'\n",
    "    'SERVER=Goons-United\\\\SQLEXPRESS;'\n",
    "    'DATABASE=sdm;'\n",
    "    'Trusted_Connection=yes;'\n",
    ")\n",
    "cursor = conn_sdm.cursor()\n",
    "\n",
    "# Ophalen van data uit SDM\n",
    "cursor.execute(\"SELECT TABLE_NAME FROM INFORMATION_SCHEMA.TABLES WHERE TABLE_TYPE = 'BASE TABLE'\")\n",
    "tables = cursor.fetchall()\n",
    "\n",
    "#denormalisaties\n",
    "df_order_method = pd.read_sql(\"SELECT * FROM order_method\", conn_sdm)\n",
    "df_order_header = pd.read_sql(\"SELECT * FROM order_header\", conn_sdm)\n",
    "df_product_line = pd.read_sql(\"SELECT * FROM product_line\", conn_sdm)\n",
    "df_product_type = pd.read_sql(\"SELECT * FROM product_type\", conn_sdm)\n",
    "df_product = pd.read_sql(\"SELECT * FROM product\", conn_sdm)\n",
    "\n",
    "cursor.close()\n",
    "\n",
    "conn_sdm.close()\n",
    "\n",
    "print(tables)\n"
   ]
  },
  {
   "cell_type": "markdown",
   "metadata": {},
   "source": [
    "### mergen 2 databases"
   ]
  },
  {
   "cell_type": "code",
   "execution_count": 5,
   "metadata": {},
   "outputs": [
    {
     "name": "stdout",
     "output_type": "stream",
     "text": [
      "Empty DataFrame\n",
      "Columns: [order_number, retailer_name, retailer_site_code, retailer_contact_code, sales_staff_code, sales_branch_code, order_date, order_method_code, order_method_en]\n",
      "Index: []\n"
     ]
    }
   ],
   "source": [
    "# merge data uit SDM voor denormalisatie\n",
    "df_merged = pd.merge(df_order_header, df_order_method, on='order_method_code', how='left')\n",
    "print(df_merged.head())\n",
    "\n",
    "df_merged = pd.merge(df_product, df_product_type, on='product_type_code', how='left')\n"
   ]
  },
  {
   "cell_type": "markdown",
   "metadata": {},
   "source": [
    "## laden in DWH"
   ]
  },
  {
   "cell_type": "code",
   "execution_count": 6,
   "metadata": {},
   "outputs": [
    {
     "name": "stdout",
     "output_type": "stream",
     "text": [
      "✅ Data succesvol ingeladen in DWH!\n"
     ]
    }
   ],
   "source": [
    "conn_dwh = pyodbc.connect(\n",
    "    'DRIVER={ODBC Driver 17 for SQL Server};'\n",
    "    'SERVER=Goons-United\\\\SQLEXPRESS;'\n",
    "    'DATABASE=DWH;'\n",
    "    'Trusted_Connection=yes;'\n",
    ")\n",
    "cursor = conn_dwh.cursor()\n",
    "\n",
    "# Laad de data in een nieuwe DWH-tabel \"dim_product_order\"\n",
    "for _, row in df_merged.iterrows():\n",
    "    cursor.execute(\"\"\"\n",
    "        INSERT INTO dim_product_order (product_type_id, product_type_name, product_line_id, product_line_name, order_method_id, order_method_name)\n",
    "        VALUES (?, ?, ?, ?, ?, ?)\n",
    "    \"\"\", row.product_type_id, row.product_type_name, row.product_line_id, row.product_line_name, row.order_method_id, row.order_method_name)\n",
    "\n",
    "conn_dwh.commit()\n",
    "cursor.close()\n",
    "conn_dwh.close()\n",
    "\n",
    "print(\"✅ Data succesvol ingeladen in DWH!\")\n"
   ]
  }
 ],
 "metadata": {
  "kernelspec": {
   "display_name": ".venv",
   "language": "python",
   "name": "python3"
  },
  "language_info": {
   "codemirror_mode": {
    "name": "ipython",
    "version": 3
   },
   "file_extension": ".py",
   "mimetype": "text/x-python",
   "name": "python",
   "nbconvert_exporter": "python",
   "pygments_lexer": "ipython3",
   "version": "3.13.2"
  }
 },
 "nbformat": 4,
 "nbformat_minor": 2
}
