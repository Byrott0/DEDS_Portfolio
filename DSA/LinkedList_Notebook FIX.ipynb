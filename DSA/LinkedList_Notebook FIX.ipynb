{
 "cells": [
  {
   "cell_type": "markdown",
   "id": "a6ee2e74",
   "metadata": {},
   "source": [
    "# Class LinkedList"
   ]
  },
  {
   "cell_type": "code",
   "execution_count": null,
   "id": "a4a48af2",
   "metadata": {},
   "outputs": [],
   "source": [
    "from abc import ABC, abstractmethod\n",
    "import csv\n",
    "import sys\n",
    "\n",
    "class LinkedList(ABC):\n",
    "\n",
    "    @abstractmethod\n",
    "    def __str__(self): pass\n",
    "\n",
    "    @abstractmethod\n",
    "    def addFirst(self, value): pass\n",
    "\n",
    "    @abstractmethod\n",
    "    def remove(self, value): pass\n",
    "\n",
    "    @abstractmethod\n",
    "    def smallest(self): pass\n",
    "\n",
    "    @abstractmethod\n",
    "    def largest(self): pass\n",
    "\n",
    "    @abstractmethod\n",
    "    def sortSimple(self): pass\n",
    "\n",
    "    @abstractmethod\n",
    "    def uniq(self): pass\n"
   ]
  },
  {
   "cell_type": "markdown",
   "id": "e24a0efe",
   "metadata": {},
   "source": [
    "# Class LinkedListEmpty"
   ]
  },
  {
   "cell_type": "code",
   "execution_count": null,
   "id": "8c4e97bc",
   "metadata": {},
   "outputs": [],
   "source": [
    "from LinkedListPopulated import LinkedListPopulated\n",
    "\n",
    "class LinkedListEmpty(LinkedList):\n",
    "     def __str__(self):\n",
    "         return \"\"\n",
    "     \n",
    "     def addFirst(self, value):\n",
    "         return LinkedListPopulated([value])\n",
    "     \n",
    "     def remove(self, value):\n",
    "         return self  # Lege lijst blijft leeg, dus return zelf\n",
    "     \n",
    "     def smallest(self):\n",
    "         raise ValueError(\"geen elementen in de lijst\")\n",
    "     \n",
    "     def largest(self):\n",
    "         raise ValueError(\"geen elementen in de lijst\")\n",
    "     \n",
    "     def sortSimple(self):\n",
    "         return self  # Lege lijst blijft leeg, dus return zelf\n",
    "     \n",
    "     def uniq(self):\n",
    "         return 0"
   ]
  },
  {
   "cell_type": "markdown",
   "id": "a878981f",
   "metadata": {},
   "source": [
    "# linkedListPopulated Class"
   ]
  },
  {
   "cell_type": "code",
   "execution_count": null,
   "id": "428c9261",
   "metadata": {},
   "outputs": [],
   "source": [
    "class LinkedListPopulated(LinkedList):\n",
    "    def __init__(self, elements):\n",
    "        self.elements = elements  # Simpele representatie met lijst\n",
    "        \n",
    "\n",
    "    def __str__(self):\n",
    "        return \" \".join(str(e) for e in self.elements)\n",
    "\n",
    "    def addFirst(self, value):\n",
    "        return LinkedListPopulated([value] + self.elements)\n",
    "\n",
    "    def remove(self, value):\n",
    "        def _remove(lst, v):\n",
    "            if not lst:\n",
    "                return []\n",
    "            if lst[0] == v:\n",
    "                return lst[1:]\n",
    "            return [lst[0]] + _remove(lst[1:], v)\n",
    "        return LinkedListPopulated(_remove(self.elements, value))\n",
    "\n",
    "    def smallest(self):\n",
    "        if not self.elements:\n",
    "            raise ValueError(\"Lege lijst\")\n",
    "        return min(self.elements)\n",
    "\n",
    "    def largest(self):\n",
    "        if not self.elements:\n",
    "            raise ValueError(\"Lege lijst\")\n",
    "        return max(self.elements)\n",
    "\n",
    "    def sortSimple(self):\n",
    "        def _sort(lst):\n",
    "            if not lst:\n",
    "                return []\n",
    "            largest_value = max(lst)\n",
    "            rest = lst.copy()\n",
    "            rest.remove(largest_value)\n",
    "            return [largest_value] + _sort(rest)\n",
    "        return LinkedListPopulated(_sort(self.elements))\n",
    "\n",
    "    def uniq(self):\n",
    "        return len(set(self.elements))"
   ]
  },
  {
   "cell_type": "markdown",
   "id": "6c863888",
   "metadata": {},
   "source": [
    "# tests"
   ]
  },
  {
   "cell_type": "code",
   "execution_count": 2,
   "id": "dd9775f8",
   "metadata": {},
   "outputs": [
    {
     "name": "stdout",
     "output_type": "stream",
     "text": [
      "STR leeg: \n",
      "STR één element: 5\n",
      "STR twee elementen: 4 7\n",
      "addFirst: 5 4 7\n",
      "remove 4: 5 7\n",
      "smallest: 4\n",
      "largest: 7\n",
      "sortSimple: 7 5 4\n"
     ]
    }
   ],
   "source": [
    "# Test 1: Lege lijst string output\n",
    "print(\"STR leeg:\", str(LinkedListPopulated([])))  # Verwacht: \"\"\n",
    "\n",
    "# Test 2: Eén element\n",
    "print(\"STR één element:\", str(LinkedListPopulated([5])))  # Verwacht: \"5\"\n",
    "\n",
    "# Test 3: Twee elementen\n",
    "print(\"STR twee elementen:\", str(LinkedListPopulated([4, 7])))  # Verwacht: \"4 7\"\n",
    "\n",
    "# Test addFirst\n",
    "ll = LinkedListPopulated([4, 7])\n",
    "ll2 = ll.addFirst(5)\n",
    "print(\"addFirst:\", str(ll2))  # Verwacht: \"5 4 7\"\n",
    "\n",
    "# Test remove\n",
    "ll3 = ll2.remove(4)\n",
    "print(\"remove 4:\", str(ll3))  # Verwacht: \"5 7\"\n",
    "\n",
    "# Test smallest\n",
    "print(\"smallest:\", ll2.smallest())  # Verwacht: 4\n",
    "\n",
    "# Test largest\n",
    "print(\"largest:\", ll2.largest())    # Verwacht: 7\n",
    "\n",
    "# Test sortSimple\n",
    "sorted_ll = ll2.sortSimple()\n",
    "print(\"sortSimple:\", str(sorted_ll))  # Verwacht: \"7 5 4\"\n"
   ]
  },
  {
   "cell_type": "markdown",
   "id": "760054c8",
   "metadata": {},
   "source": [
    "### Bestand: Read.py"
   ]
  },
  {
   "cell_type": "code",
   "execution_count": 4,
   "id": "f4223273",
   "metadata": {},
   "outputs": [
    {
     "name": "stdout",
     "output_type": "stream",
     "text": [
      "Unieke kentekens: 998\n"
     ]
    }
   ],
   "source": [
    "import os\n",
    "import sys\n",
    "\n",
    "sys.setrecursionlimit(20000000)\n",
    "\n",
    "\n",
    "def main(): \n",
    "    # inlezen txt bestand\n",
    "    kenteken_file = open(\"kentekens1001.txt\")\n",
    "    content = kenteken_file.read()\n",
    "\n",
    "    \n",
    "    \n",
    "    # Lege Linkedlist aanmaken\n",
    "    kentekens = LinkedListEmpty()\n",
    "    \n",
    "    for line in content.split('\\n'):\n",
    "        if line.strip():  # Skip lege regels\n",
    "            kenteken = line.split(',')[0]\n",
    "            if kenteken.strip():  # Skip lege kentekens\n",
    "                kentekens = kentekens.addFirst(kenteken)\n",
    "    # Sorteren\n",
    "    gesorteerd = kentekens.sortSimple()\n",
    "     # Uniek tellen\n",
    "    aantal_uniek = gesorteerd.uniq()\n",
    "    # Resultaat\n",
    "    print(f\"Unieke kentekens: {aantal_uniek}\") \n",
    "\n",
    "if __name__ == \"__main__\": \n",
    "    main()"
   ]
  }
 ],
 "metadata": {
  "kernelspec": {
   "display_name": "deds_portfolio-3.13",
   "language": "python",
   "name": "python3"
  },
  "language_info": {
   "codemirror_mode": {
    "name": "ipython",
    "version": 3
   },
   "file_extension": ".py",
   "mimetype": "text/x-python",
   "name": "python",
   "nbconvert_exporter": "python",
   "pygments_lexer": "ipython3",
   "version": "3.13.2"
  }
 },
 "nbformat": 4,
 "nbformat_minor": 5
}
