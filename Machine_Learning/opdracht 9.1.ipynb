{
 "cells": [
  {
   "cell_type": "markdown",
   "id": "9a94b7d8",
   "metadata": {},
   "source": [
    "Great Outdoors week 9"
   ]
  },
  {
   "cell_type": "code",
   "execution_count": 1,
   "id": "14db8636",
   "metadata": {},
   "outputs": [],
   "source": [
    "import pandas as pd\n",
    "from sklearn.model_selection import train_test_split\n",
    "import random\n",
    "from sklearn import linear_model\n",
    "from sklearn.linear_model import LinearRegression\n",
    "from sklearn.metrics import mean_squared_error, mean_absolute_error\n",
    "import matplotlib.pyplot as plt"
   ]
  },
  {
   "cell_type": "code",
   "execution_count": null,
   "id": "27e039b5",
   "metadata": {},
   "outputs": [
    {
     "data": {
      "application/vnd.microsoft.datawrangler.viewer.v0+json": {
       "columns": [
        {
         "name": "index",
         "rawType": "int64",
         "type": "integer"
        },
        {
         "name": "RETURN_CODE",
         "rawType": "int64",
         "type": "integer"
        },
        {
         "name": "RETURN_DATE",
         "rawType": "object",
         "type": "string"
        },
        {
         "name": "ORDER_DETAIL_CODE",
         "rawType": "int64",
         "type": "integer"
        },
        {
         "name": "RETURN_REASON_CODE",
         "rawType": "int64",
         "type": "integer"
        },
        {
         "name": "RETURN_QUANTITY",
         "rawType": "int64",
         "type": "integer"
        }
       ],
       "conversionMethod": "pd.DataFrame",
       "ref": "61505ed7-c628-4c7c-9aeb-829b66741e53",
       "rows": [
        [
         "0",
         "1491",
         "Aug  1 2023  4:10AM",
         "84858",
         "5",
         "8"
        ],
        [
         "1",
         "1492",
         "Dec  6 2022  6:46PM",
         "84440",
         "2",
         "2"
        ],
        [
         "2",
         "1493",
         "Jun 24 2023  9:23AM",
         "84867",
         "4",
         "22"
        ],
        [
         "3",
         "1494",
         "Jul 21 2023 12:00AM",
         "84873",
         "3",
         "20"
        ],
        [
         "4",
         "1496",
         "Oct  7 2022  5:13AM",
         "84488",
         "1",
         "2"
        ],
        [
         "5",
         "1497",
         "Aug  7 2022  7:49PM",
         "84493",
         "1",
         "2"
        ],
        [
         "6",
         "1499",
         "Nov  4 2023  1:03AM",
         "85011",
         "2",
         "2"
        ],
        [
         "7",
         "1500",
         "Jul 29 2022  3:39PM",
         "84548",
         "3",
         "16"
        ],
        [
         "8",
         "1501",
         "Oct 28 2023  6:16AM",
         "85027",
         "2",
         "4"
        ],
        [
         "9",
         "1502",
         "Aug 27 2024  8:52PM",
         "85850",
         "5",
         "30"
        ],
        [
         "10",
         "1503",
         "Apr 12 2023 11:29AM",
         "85033",
         "3",
         "32"
        ],
        [
         "11",
         "1504",
         "Jun 23 2023  2:06AM",
         "85044",
         "1",
         "4"
        ],
        [
         "12",
         "1505",
         "Jun 26 2022  4:42PM",
         "84583",
         "2",
         "2"
        ],
        [
         "13",
         "1506",
         "Jul  9 2023  7:19AM",
         "85080",
         "1",
         "2"
        ],
        [
         "14",
         "1507",
         "Jul  7 2023  9:55PM",
         "85095",
         "1",
         "4"
        ],
        [
         "15",
         "1509",
         "Aug 15 2023  4:41PM",
         "85105",
         "1",
         "8"
        ],
        [
         "16",
         "1510",
         "Sep 22 2023  8:19AM",
         "85108",
         "4",
         "64"
        ],
        [
         "17",
         "1513",
         "Oct 14 2023  5:14AM",
         "85168",
         "5",
         "12"
        ],
        [
         "18",
         "1514",
         "Jun  4 2024  8:51PM",
         "86051",
         "5",
         "24"
        ],
        [
         "19",
         "1515",
         "Jul 15 2024 11:29AM",
         "86087",
         "1",
         "4"
        ],
        [
         "20",
         "1517",
         "Nov 20 2022  6:45PM",
         "84631",
         "1",
         "2"
        ],
        [
         "21",
         "1522",
         "Oct  5 2024  9:55PM",
         "86241",
         "1",
         "2"
        ],
        [
         "22",
         "1525",
         "Jul 11 2023  7:49PM",
         "111056",
         "1",
         "2"
        ],
        [
         "23",
         "1527",
         "Jul 19 2024  2:06AM",
         "111756",
         "1",
         "4"
        ],
        [
         "24",
         "1528",
         "Sep  3 2023  5:43PM",
         "111107",
         "5",
         "82"
        ],
        [
         "25",
         "1529",
         "Aug 26 2023  8:22AM",
         "111150",
         "3",
         "10"
        ],
        [
         "26",
         "1531",
         "Jul 15 2023  3:37PM",
         "111214",
         "2",
         "2"
        ],
        [
         "27",
         "1532",
         "Jun  7 2024  6:16AM",
         "111921",
         "2",
         "4"
        ],
        [
         "28",
         "1533",
         "May 19 2023  9:53PM",
         "111245",
         "2",
         "2"
        ],
        [
         "29",
         "1534",
         "Aug 29 2024 12:32PM",
         "111947",
         "1",
         "6"
        ],
        [
         "30",
         "1535",
         "Aug 10 2024  4:10AM",
         "112039",
         "1",
         "4"
        ],
        [
         "31",
         "1536",
         "Jul  4 2023  6:47PM",
         "111373",
         "1",
         "2"
        ],
        [
         "32",
         "1537",
         "Oct 26 2023 10:26AM",
         "111378",
         "2",
         "2"
        ],
        [
         "33",
         "1539",
         "Aug 31 2024 10:27AM",
         "112081",
         "5",
         "28"
        ],
        [
         "34",
         "1544",
         "Jun 26 2024  6:46PM",
         "112178",
         "2",
         "2"
        ],
        [
         "35",
         "1546",
         "Jun 16 2024  2:06AM",
         "112219",
         "2",
         "2"
        ],
        [
         "36",
         "1547",
         "Apr 17 2023  6:46PM",
         "111545",
         "1",
         "2"
        ],
        [
         "37",
         "1549",
         "Sep 27 2023  2:06AM",
         "111550",
         "4",
         "16"
        ],
        [
         "38",
         "1561",
         "Dec 23 2022  2:05AM",
         "47743",
         "3",
         "104"
        ],
        [
         "39",
         "1562",
         "Feb 12 2023  5:44PM",
         "47755",
         "2",
         "4"
        ],
        [
         "40",
         "1564",
         "Apr  7 2022  2:05AM",
         "47767",
         "2",
         "6"
        ],
        [
         "41",
         "1565",
         "Jan 25 2022  5:44PM",
         "47776",
         "3",
         "52"
        ],
        [
         "42",
         "1566",
         "Jul 28 2022  9:24AM",
         "47783",
         "4",
         "20"
        ],
        [
         "43",
         "1567",
         "Jul 19 2022  2:05AM",
         "47785",
         "5",
         "38"
        ],
        [
         "44",
         "1568",
         "Jan 22 2022  5:44PM",
         "47824",
         "1",
         "4"
        ],
        [
         "45",
         "1570",
         "Jun  8 2022  2:04AM",
         "47827",
         "5",
         "154"
        ],
        [
         "46",
         "1571",
         "Aug 19 2023  5:44PM",
         "48596",
         "1",
         "8"
        ],
        [
         "47",
         "1572",
         "Jan  3 2024  9:24AM",
         "48601",
         "5",
         "32"
        ],
        [
         "48",
         "1573",
         "Sep 25 2023  2:04AM",
         "48605",
         "3",
         "388"
        ],
        [
         "49",
         "1575",
         "Feb 16 2024  9:24AM",
         "49576",
         "5",
         "160"
        ]
       ],
       "shape": {
        "columns": 5,
        "rows": 619
       }
      },
      "text/html": [
       "<div>\n",
       "<style scoped>\n",
       "    .dataframe tbody tr th:only-of-type {\n",
       "        vertical-align: middle;\n",
       "    }\n",
       "\n",
       "    .dataframe tbody tr th {\n",
       "        vertical-align: top;\n",
       "    }\n",
       "\n",
       "    .dataframe thead th {\n",
       "        text-align: right;\n",
       "    }\n",
       "</style>\n",
       "<table border=\"1\" class=\"dataframe\">\n",
       "  <thead>\n",
       "    <tr style=\"text-align: right;\">\n",
       "      <th></th>\n",
       "      <th>RETURN_CODE</th>\n",
       "      <th>RETURN_DATE</th>\n",
       "      <th>ORDER_DETAIL_CODE</th>\n",
       "      <th>RETURN_REASON_CODE</th>\n",
       "      <th>RETURN_QUANTITY</th>\n",
       "    </tr>\n",
       "  </thead>\n",
       "  <tbody>\n",
       "    <tr>\n",
       "      <th>0</th>\n",
       "      <td>1491</td>\n",
       "      <td>Aug  1 2023  4:10AM</td>\n",
       "      <td>84858</td>\n",
       "      <td>5</td>\n",
       "      <td>8</td>\n",
       "    </tr>\n",
       "    <tr>\n",
       "      <th>1</th>\n",
       "      <td>1492</td>\n",
       "      <td>Dec  6 2022  6:46PM</td>\n",
       "      <td>84440</td>\n",
       "      <td>2</td>\n",
       "      <td>2</td>\n",
       "    </tr>\n",
       "    <tr>\n",
       "      <th>2</th>\n",
       "      <td>1493</td>\n",
       "      <td>Jun 24 2023  9:23AM</td>\n",
       "      <td>84867</td>\n",
       "      <td>4</td>\n",
       "      <td>22</td>\n",
       "    </tr>\n",
       "    <tr>\n",
       "      <th>3</th>\n",
       "      <td>1494</td>\n",
       "      <td>Jul 21 2023 12:00AM</td>\n",
       "      <td>84873</td>\n",
       "      <td>3</td>\n",
       "      <td>20</td>\n",
       "    </tr>\n",
       "    <tr>\n",
       "      <th>4</th>\n",
       "      <td>1496</td>\n",
       "      <td>Oct  7 2022  5:13AM</td>\n",
       "      <td>84488</td>\n",
       "      <td>1</td>\n",
       "      <td>2</td>\n",
       "    </tr>\n",
       "    <tr>\n",
       "      <th>...</th>\n",
       "      <td>...</td>\n",
       "      <td>...</td>\n",
       "      <td>...</td>\n",
       "      <td>...</td>\n",
       "      <td>...</td>\n",
       "    </tr>\n",
       "    <tr>\n",
       "      <th>614</th>\n",
       "      <td>2464</td>\n",
       "      <td>Dec  7 2023  5:14AM</td>\n",
       "      <td>114967</td>\n",
       "      <td>1</td>\n",
       "      <td>12</td>\n",
       "    </tr>\n",
       "    <tr>\n",
       "      <th>615</th>\n",
       "      <td>2465</td>\n",
       "      <td>Jun  6 2023  9:22AM</td>\n",
       "      <td>114972</td>\n",
       "      <td>3</td>\n",
       "      <td>24</td>\n",
       "    </tr>\n",
       "    <tr>\n",
       "      <th>616</th>\n",
       "      <td>2466</td>\n",
       "      <td>Oct  6 2023 12:31PM</td>\n",
       "      <td>114983</td>\n",
       "      <td>5</td>\n",
       "      <td>66</td>\n",
       "    </tr>\n",
       "    <tr>\n",
       "      <th>617</th>\n",
       "      <td>2467</td>\n",
       "      <td>Mar 31 2024  3:39PM</td>\n",
       "      <td>115215</td>\n",
       "      <td>4</td>\n",
       "      <td>64</td>\n",
       "    </tr>\n",
       "    <tr>\n",
       "      <th>618</th>\n",
       "      <td>2469</td>\n",
       "      <td>Sep 25 2022 10:56PM</td>\n",
       "      <td>114848</td>\n",
       "      <td>3</td>\n",
       "      <td>82</td>\n",
       "    </tr>\n",
       "  </tbody>\n",
       "</table>\n",
       "<p>619 rows × 5 columns</p>\n",
       "</div>"
      ],
      "text/plain": [
       "     RETURN_CODE          RETURN_DATE  ORDER_DETAIL_CODE  RETURN_REASON_CODE  \\\n",
       "0           1491  Aug  1 2023  4:10AM              84858                   5   \n",
       "1           1492  Dec  6 2022  6:46PM              84440                   2   \n",
       "2           1493  Jun 24 2023  9:23AM              84867                   4   \n",
       "3           1494  Jul 21 2023 12:00AM              84873                   3   \n",
       "4           1496  Oct  7 2022  5:13AM              84488                   1   \n",
       "..           ...                  ...                ...                 ...   \n",
       "614         2464  Dec  7 2023  5:14AM             114967                   1   \n",
       "615         2465  Jun  6 2023  9:22AM             114972                   3   \n",
       "616         2466  Oct  6 2023 12:31PM             114983                   5   \n",
       "617         2467  Mar 31 2024  3:39PM             115215                   4   \n",
       "618         2469  Sep 25 2022 10:56PM             114848                   3   \n",
       "\n",
       "     RETURN_QUANTITY  \n",
       "0                  8  \n",
       "1                  2  \n",
       "2                 22  \n",
       "3                 20  \n",
       "4                  2  \n",
       "..               ...  \n",
       "614               12  \n",
       "615               24  \n",
       "616               66  \n",
       "617               64  \n",
       "618               82  \n",
       "\n",
       "[619 rows x 5 columns]"
      ]
     },
     "execution_count": 11,
     "metadata": {},
     "output_type": "execute_result"
    }
   ],
   "source": [
    "import sqlite3\n",
    "\n",
    "# Connect to SQLite database\n",
    "conn = sqlite3.connect('go_sales_train.sqlite')\n",
    "\n",
    "# List all tables in the database\n",
    "tables = pd.read_sql(\"SELECT name FROM sqlite_master WHERE type='table';\", conn)\n",
    "\n",
    "# Update the query to use the correct table name\n",
    "returned_item = pd.read_sql(\"SELECT * FROM returned_item\", conn)\n",
    "returned_item\n"
   ]
  },
  {
   "cell_type": "code",
   "execution_count": 14,
   "id": "982311d3",
   "metadata": {},
   "outputs": [
    {
     "data": {
      "application/vnd.microsoft.datawrangler.viewer.v0+json": {
       "columns": [
        {
         "name": "index",
         "rawType": "int64",
         "type": "integer"
        },
        {
         "name": "RETURN_CODE",
         "rawType": "int64",
         "type": "integer"
        },
        {
         "name": "ORDER_DETAIL_CODE",
         "rawType": "int64",
         "type": "integer"
        },
        {
         "name": "RETURN_REASON_CODE",
         "rawType": "int64",
         "type": "integer"
        }
       ],
       "conversionMethod": "pd.DataFrame",
       "ref": "7133beb5-e7a0-4dc8-a274-091202631040",
       "rows": [
        [
         "0",
         "1491",
         "84858",
         "5"
        ],
        [
         "1",
         "1492",
         "84440",
         "2"
        ],
        [
         "2",
         "1493",
         "84867",
         "4"
        ],
        [
         "3",
         "1494",
         "84873",
         "3"
        ],
        [
         "4",
         "1496",
         "84488",
         "1"
        ],
        [
         "5",
         "1497",
         "84493",
         "1"
        ],
        [
         "6",
         "1499",
         "85011",
         "2"
        ],
        [
         "7",
         "1500",
         "84548",
         "3"
        ],
        [
         "8",
         "1501",
         "85027",
         "2"
        ],
        [
         "9",
         "1502",
         "85850",
         "5"
        ],
        [
         "10",
         "1503",
         "85033",
         "3"
        ],
        [
         "11",
         "1504",
         "85044",
         "1"
        ],
        [
         "12",
         "1505",
         "84583",
         "2"
        ],
        [
         "13",
         "1506",
         "85080",
         "1"
        ],
        [
         "14",
         "1507",
         "85095",
         "1"
        ],
        [
         "15",
         "1509",
         "85105",
         "1"
        ],
        [
         "16",
         "1510",
         "85108",
         "4"
        ],
        [
         "17",
         "1513",
         "85168",
         "5"
        ],
        [
         "18",
         "1514",
         "86051",
         "5"
        ],
        [
         "19",
         "1515",
         "86087",
         "1"
        ],
        [
         "20",
         "1517",
         "84631",
         "1"
        ],
        [
         "21",
         "1522",
         "86241",
         "1"
        ],
        [
         "22",
         "1525",
         "111056",
         "1"
        ],
        [
         "23",
         "1527",
         "111756",
         "1"
        ],
        [
         "24",
         "1528",
         "111107",
         "5"
        ],
        [
         "25",
         "1529",
         "111150",
         "3"
        ],
        [
         "26",
         "1531",
         "111214",
         "2"
        ],
        [
         "27",
         "1532",
         "111921",
         "2"
        ],
        [
         "28",
         "1533",
         "111245",
         "2"
        ],
        [
         "29",
         "1534",
         "111947",
         "1"
        ],
        [
         "30",
         "1535",
         "112039",
         "1"
        ],
        [
         "31",
         "1536",
         "111373",
         "1"
        ],
        [
         "32",
         "1537",
         "111378",
         "2"
        ],
        [
         "33",
         "1539",
         "112081",
         "5"
        ],
        [
         "34",
         "1544",
         "112178",
         "2"
        ],
        [
         "35",
         "1546",
         "112219",
         "2"
        ],
        [
         "36",
         "1547",
         "111545",
         "1"
        ],
        [
         "37",
         "1549",
         "111550",
         "4"
        ],
        [
         "38",
         "1561",
         "47743",
         "3"
        ],
        [
         "39",
         "1562",
         "47755",
         "2"
        ],
        [
         "40",
         "1564",
         "47767",
         "2"
        ],
        [
         "41",
         "1565",
         "47776",
         "3"
        ],
        [
         "42",
         "1566",
         "47783",
         "4"
        ],
        [
         "43",
         "1567",
         "47785",
         "5"
        ],
        [
         "44",
         "1568",
         "47824",
         "1"
        ],
        [
         "45",
         "1570",
         "47827",
         "5"
        ],
        [
         "46",
         "1571",
         "48596",
         "1"
        ],
        [
         "47",
         "1572",
         "48601",
         "5"
        ],
        [
         "48",
         "1573",
         "48605",
         "3"
        ],
        [
         "49",
         "1575",
         "49576",
         "5"
        ]
       ],
       "shape": {
        "columns": 3,
        "rows": 619
       }
      },
      "text/html": [
       "<div>\n",
       "<style scoped>\n",
       "    .dataframe tbody tr th:only-of-type {\n",
       "        vertical-align: middle;\n",
       "    }\n",
       "\n",
       "    .dataframe tbody tr th {\n",
       "        vertical-align: top;\n",
       "    }\n",
       "\n",
       "    .dataframe thead th {\n",
       "        text-align: right;\n",
       "    }\n",
       "</style>\n",
       "<table border=\"1\" class=\"dataframe\">\n",
       "  <thead>\n",
       "    <tr style=\"text-align: right;\">\n",
       "      <th></th>\n",
       "      <th>RETURN_CODE</th>\n",
       "      <th>ORDER_DETAIL_CODE</th>\n",
       "      <th>RETURN_REASON_CODE</th>\n",
       "    </tr>\n",
       "  </thead>\n",
       "  <tbody>\n",
       "    <tr>\n",
       "      <th>0</th>\n",
       "      <td>1491</td>\n",
       "      <td>84858</td>\n",
       "      <td>5</td>\n",
       "    </tr>\n",
       "    <tr>\n",
       "      <th>1</th>\n",
       "      <td>1492</td>\n",
       "      <td>84440</td>\n",
       "      <td>2</td>\n",
       "    </tr>\n",
       "    <tr>\n",
       "      <th>2</th>\n",
       "      <td>1493</td>\n",
       "      <td>84867</td>\n",
       "      <td>4</td>\n",
       "    </tr>\n",
       "    <tr>\n",
       "      <th>3</th>\n",
       "      <td>1494</td>\n",
       "      <td>84873</td>\n",
       "      <td>3</td>\n",
       "    </tr>\n",
       "    <tr>\n",
       "      <th>4</th>\n",
       "      <td>1496</td>\n",
       "      <td>84488</td>\n",
       "      <td>1</td>\n",
       "    </tr>\n",
       "    <tr>\n",
       "      <th>...</th>\n",
       "      <td>...</td>\n",
       "      <td>...</td>\n",
       "      <td>...</td>\n",
       "    </tr>\n",
       "    <tr>\n",
       "      <th>614</th>\n",
       "      <td>2464</td>\n",
       "      <td>114967</td>\n",
       "      <td>1</td>\n",
       "    </tr>\n",
       "    <tr>\n",
       "      <th>615</th>\n",
       "      <td>2465</td>\n",
       "      <td>114972</td>\n",
       "      <td>3</td>\n",
       "    </tr>\n",
       "    <tr>\n",
       "      <th>616</th>\n",
       "      <td>2466</td>\n",
       "      <td>114983</td>\n",
       "      <td>5</td>\n",
       "    </tr>\n",
       "    <tr>\n",
       "      <th>617</th>\n",
       "      <td>2467</td>\n",
       "      <td>115215</td>\n",
       "      <td>4</td>\n",
       "    </tr>\n",
       "    <tr>\n",
       "      <th>618</th>\n",
       "      <td>2469</td>\n",
       "      <td>114848</td>\n",
       "      <td>3</td>\n",
       "    </tr>\n",
       "  </tbody>\n",
       "</table>\n",
       "<p>619 rows × 3 columns</p>\n",
       "</div>"
      ],
      "text/plain": [
       "     RETURN_CODE  ORDER_DETAIL_CODE  RETURN_REASON_CODE\n",
       "0           1491              84858                   5\n",
       "1           1492              84440                   2\n",
       "2           1493              84867                   4\n",
       "3           1494              84873                   3\n",
       "4           1496              84488                   1\n",
       "..           ...                ...                 ...\n",
       "614         2464             114967                   1\n",
       "615         2465             114972                   3\n",
       "616         2466             114983                   5\n",
       "617         2467             115215                   4\n",
       "618         2469             114848                   3\n",
       "\n",
       "[619 rows x 3 columns]"
      ]
     },
     "execution_count": 14,
     "metadata": {},
     "output_type": "execute_result"
    }
   ],
   "source": [
    "df = returned_item.loc[:, ['RETURN_CODE', 'ORDER_DETAIL_CODE', 'RETURN_REASON_CODE']]\n",
    "df"
   ]
  },
  {
   "cell_type": "code",
   "execution_count": 15,
   "id": "50547f2d",
   "metadata": {},
   "outputs": [
    {
     "data": {
      "application/vnd.microsoft.datawrangler.viewer.v0+json": {
       "columns": [
        {
         "name": "index",
         "rawType": "int64",
         "type": "integer"
        },
        {
         "name": "RETURN_CODE",
         "rawType": "int64",
         "type": "integer"
        }
       ],
       "conversionMethod": "pd.DataFrame",
       "ref": "4bc35bce-c789-4a95-bacf-0148e46afd5e",
       "rows": [
        [
         "0",
         "1491"
        ],
        [
         "1",
         "1492"
        ],
        [
         "2",
         "1493"
        ],
        [
         "3",
         "1494"
        ],
        [
         "4",
         "1496"
        ],
        [
         "5",
         "1497"
        ],
        [
         "6",
         "1499"
        ],
        [
         "7",
         "1500"
        ],
        [
         "8",
         "1501"
        ],
        [
         "9",
         "1502"
        ],
        [
         "10",
         "1503"
        ],
        [
         "11",
         "1504"
        ],
        [
         "12",
         "1505"
        ],
        [
         "13",
         "1506"
        ],
        [
         "14",
         "1507"
        ],
        [
         "15",
         "1509"
        ],
        [
         "16",
         "1510"
        ],
        [
         "17",
         "1513"
        ],
        [
         "18",
         "1514"
        ],
        [
         "19",
         "1515"
        ],
        [
         "20",
         "1517"
        ],
        [
         "21",
         "1522"
        ],
        [
         "22",
         "1525"
        ],
        [
         "23",
         "1527"
        ],
        [
         "24",
         "1528"
        ],
        [
         "25",
         "1529"
        ],
        [
         "26",
         "1531"
        ],
        [
         "27",
         "1532"
        ],
        [
         "28",
         "1533"
        ],
        [
         "29",
         "1534"
        ],
        [
         "30",
         "1535"
        ],
        [
         "31",
         "1536"
        ],
        [
         "32",
         "1537"
        ],
        [
         "33",
         "1539"
        ],
        [
         "34",
         "1544"
        ],
        [
         "35",
         "1546"
        ],
        [
         "36",
         "1547"
        ],
        [
         "37",
         "1549"
        ],
        [
         "38",
         "1561"
        ],
        [
         "39",
         "1562"
        ],
        [
         "40",
         "1564"
        ],
        [
         "41",
         "1565"
        ],
        [
         "42",
         "1566"
        ],
        [
         "43",
         "1567"
        ],
        [
         "44",
         "1568"
        ],
        [
         "45",
         "1570"
        ],
        [
         "46",
         "1571"
        ],
        [
         "47",
         "1572"
        ],
        [
         "48",
         "1573"
        ],
        [
         "49",
         "1575"
        ]
       ],
       "shape": {
        "columns": 1,
        "rows": 619
       }
      },
      "text/html": [
       "<div>\n",
       "<style scoped>\n",
       "    .dataframe tbody tr th:only-of-type {\n",
       "        vertical-align: middle;\n",
       "    }\n",
       "\n",
       "    .dataframe tbody tr th {\n",
       "        vertical-align: top;\n",
       "    }\n",
       "\n",
       "    .dataframe thead th {\n",
       "        text-align: right;\n",
       "    }\n",
       "</style>\n",
       "<table border=\"1\" class=\"dataframe\">\n",
       "  <thead>\n",
       "    <tr style=\"text-align: right;\">\n",
       "      <th></th>\n",
       "      <th>RETURN_CODE</th>\n",
       "    </tr>\n",
       "  </thead>\n",
       "  <tbody>\n",
       "    <tr>\n",
       "      <th>0</th>\n",
       "      <td>1491</td>\n",
       "    </tr>\n",
       "    <tr>\n",
       "      <th>1</th>\n",
       "      <td>1492</td>\n",
       "    </tr>\n",
       "    <tr>\n",
       "      <th>2</th>\n",
       "      <td>1493</td>\n",
       "    </tr>\n",
       "    <tr>\n",
       "      <th>3</th>\n",
       "      <td>1494</td>\n",
       "    </tr>\n",
       "    <tr>\n",
       "      <th>4</th>\n",
       "      <td>1496</td>\n",
       "    </tr>\n",
       "    <tr>\n",
       "      <th>...</th>\n",
       "      <td>...</td>\n",
       "    </tr>\n",
       "    <tr>\n",
       "      <th>614</th>\n",
       "      <td>2464</td>\n",
       "    </tr>\n",
       "    <tr>\n",
       "      <th>615</th>\n",
       "      <td>2465</td>\n",
       "    </tr>\n",
       "    <tr>\n",
       "      <th>616</th>\n",
       "      <td>2466</td>\n",
       "    </tr>\n",
       "    <tr>\n",
       "      <th>617</th>\n",
       "      <td>2467</td>\n",
       "    </tr>\n",
       "    <tr>\n",
       "      <th>618</th>\n",
       "      <td>2469</td>\n",
       "    </tr>\n",
       "  </tbody>\n",
       "</table>\n",
       "<p>619 rows × 1 columns</p>\n",
       "</div>"
      ],
      "text/plain": [
       "     RETURN_CODE\n",
       "0           1491\n",
       "1           1492\n",
       "2           1493\n",
       "3           1494\n",
       "4           1496\n",
       "..           ...\n",
       "614         2464\n",
       "615         2465\n",
       "616         2466\n",
       "617         2467\n",
       "618         2469\n",
       "\n",
       "[619 rows x 1 columns]"
      ]
     },
     "execution_count": 15,
     "metadata": {},
     "output_type": "execute_result"
    }
   ],
   "source": [
    "dummies_df = pd.get_dummies(df.loc[:, ['RETURN_CODE']])\n",
    "dummies_df"
   ]
  },
  {
   "cell_type": "code",
   "execution_count": 17,
   "id": "947bb37b",
   "metadata": {},
   "outputs": [
    {
     "data": {
      "application/vnd.microsoft.datawrangler.viewer.v0+json": {
       "columns": [
        {
         "name": "index",
         "rawType": "int64",
         "type": "integer"
        },
        {
         "name": "ORDER_DETAIL_CODE",
         "rawType": "int64",
         "type": "integer"
        },
        {
         "name": "RETURN_REASON_CODE",
         "rawType": "int64",
         "type": "integer"
        }
       ],
       "conversionMethod": "pd.DataFrame",
       "ref": "ad2b8b52-f2ac-4f17-bb7d-ef17db900237",
       "rows": [
        [
         "0",
         "84858",
         "5"
        ],
        [
         "1",
         "84440",
         "2"
        ],
        [
         "2",
         "84867",
         "4"
        ],
        [
         "3",
         "84873",
         "3"
        ],
        [
         "4",
         "84488",
         "1"
        ],
        [
         "5",
         "84493",
         "1"
        ],
        [
         "6",
         "85011",
         "2"
        ],
        [
         "7",
         "84548",
         "3"
        ],
        [
         "8",
         "85027",
         "2"
        ],
        [
         "9",
         "85850",
         "5"
        ],
        [
         "10",
         "85033",
         "3"
        ],
        [
         "11",
         "85044",
         "1"
        ],
        [
         "12",
         "84583",
         "2"
        ],
        [
         "13",
         "85080",
         "1"
        ],
        [
         "14",
         "85095",
         "1"
        ],
        [
         "15",
         "85105",
         "1"
        ],
        [
         "16",
         "85108",
         "4"
        ],
        [
         "17",
         "85168",
         "5"
        ],
        [
         "18",
         "86051",
         "5"
        ],
        [
         "19",
         "86087",
         "1"
        ],
        [
         "20",
         "84631",
         "1"
        ],
        [
         "21",
         "86241",
         "1"
        ],
        [
         "22",
         "111056",
         "1"
        ],
        [
         "23",
         "111756",
         "1"
        ],
        [
         "24",
         "111107",
         "5"
        ],
        [
         "25",
         "111150",
         "3"
        ],
        [
         "26",
         "111214",
         "2"
        ],
        [
         "27",
         "111921",
         "2"
        ],
        [
         "28",
         "111245",
         "2"
        ],
        [
         "29",
         "111947",
         "1"
        ],
        [
         "30",
         "112039",
         "1"
        ],
        [
         "31",
         "111373",
         "1"
        ],
        [
         "32",
         "111378",
         "2"
        ],
        [
         "33",
         "112081",
         "5"
        ],
        [
         "34",
         "112178",
         "2"
        ],
        [
         "35",
         "112219",
         "2"
        ],
        [
         "36",
         "111545",
         "1"
        ],
        [
         "37",
         "111550",
         "4"
        ],
        [
         "38",
         "47743",
         "3"
        ],
        [
         "39",
         "47755",
         "2"
        ],
        [
         "40",
         "47767",
         "2"
        ],
        [
         "41",
         "47776",
         "3"
        ],
        [
         "42",
         "47783",
         "4"
        ],
        [
         "43",
         "47785",
         "5"
        ],
        [
         "44",
         "47824",
         "1"
        ],
        [
         "45",
         "47827",
         "5"
        ],
        [
         "46",
         "48596",
         "1"
        ],
        [
         "47",
         "48601",
         "5"
        ],
        [
         "48",
         "48605",
         "3"
        ],
        [
         "49",
         "49576",
         "5"
        ]
       ],
       "shape": {
        "columns": 2,
        "rows": 619
       }
      },
      "text/html": [
       "<div>\n",
       "<style scoped>\n",
       "    .dataframe tbody tr th:only-of-type {\n",
       "        vertical-align: middle;\n",
       "    }\n",
       "\n",
       "    .dataframe tbody tr th {\n",
       "        vertical-align: top;\n",
       "    }\n",
       "\n",
       "    .dataframe thead th {\n",
       "        text-align: right;\n",
       "    }\n",
       "</style>\n",
       "<table border=\"1\" class=\"dataframe\">\n",
       "  <thead>\n",
       "    <tr style=\"text-align: right;\">\n",
       "      <th></th>\n",
       "      <th>ORDER_DETAIL_CODE</th>\n",
       "      <th>RETURN_REASON_CODE</th>\n",
       "    </tr>\n",
       "  </thead>\n",
       "  <tbody>\n",
       "    <tr>\n",
       "      <th>0</th>\n",
       "      <td>84858</td>\n",
       "      <td>5</td>\n",
       "    </tr>\n",
       "    <tr>\n",
       "      <th>1</th>\n",
       "      <td>84440</td>\n",
       "      <td>2</td>\n",
       "    </tr>\n",
       "    <tr>\n",
       "      <th>2</th>\n",
       "      <td>84867</td>\n",
       "      <td>4</td>\n",
       "    </tr>\n",
       "    <tr>\n",
       "      <th>3</th>\n",
       "      <td>84873</td>\n",
       "      <td>3</td>\n",
       "    </tr>\n",
       "    <tr>\n",
       "      <th>4</th>\n",
       "      <td>84488</td>\n",
       "      <td>1</td>\n",
       "    </tr>\n",
       "    <tr>\n",
       "      <th>...</th>\n",
       "      <td>...</td>\n",
       "      <td>...</td>\n",
       "    </tr>\n",
       "    <tr>\n",
       "      <th>614</th>\n",
       "      <td>114967</td>\n",
       "      <td>1</td>\n",
       "    </tr>\n",
       "    <tr>\n",
       "      <th>615</th>\n",
       "      <td>114972</td>\n",
       "      <td>3</td>\n",
       "    </tr>\n",
       "    <tr>\n",
       "      <th>616</th>\n",
       "      <td>114983</td>\n",
       "      <td>5</td>\n",
       "    </tr>\n",
       "    <tr>\n",
       "      <th>617</th>\n",
       "      <td>115215</td>\n",
       "      <td>4</td>\n",
       "    </tr>\n",
       "    <tr>\n",
       "      <th>618</th>\n",
       "      <td>114848</td>\n",
       "      <td>3</td>\n",
       "    </tr>\n",
       "  </tbody>\n",
       "</table>\n",
       "<p>619 rows × 2 columns</p>\n",
       "</div>"
      ],
      "text/plain": [
       "     ORDER_DETAIL_CODE  RETURN_REASON_CODE\n",
       "0                84858                   5\n",
       "1                84440                   2\n",
       "2                84867                   4\n",
       "3                84873                   3\n",
       "4                84488                   1\n",
       "..                 ...                 ...\n",
       "614             114967                   1\n",
       "615             114972                   3\n",
       "616             114983                   5\n",
       "617             115215                   4\n",
       "618             114848                   3\n",
       "\n",
       "[619 rows x 2 columns]"
      ]
     },
     "execution_count": 17,
     "metadata": {},
     "output_type": "execute_result"
    }
   ],
   "source": [
    "df = pd.concat([df, dummies_df], axis = 1)\n",
    "df = df.drop(['RETURN_CODE'], axis = 1)\n",
    "df = df.loc[:, ['ORDER_DETAIL_CODE', 'RETURN_REASON_CODE']]\n",
    "df"
   ]
  },
  {
   "cell_type": "markdown",
   "id": "9b1d9d0e",
   "metadata": {},
   "source": [
    "Snijden"
   ]
  },
  {
   "cell_type": "code",
   "execution_count": 18,
   "id": "fd1e8b7b",
   "metadata": {},
   "outputs": [
    {
     "name": "stdout",
     "output_type": "stream",
     "text": [
      "<class 'pandas.core.frame.DataFrame'>\n",
      "Index: 619 entries, 0 to 618\n",
      "Data columns (total 1 columns):\n",
      " #   Column              Non-Null Count  Dtype\n",
      "---  ------              --------------  -----\n",
      " 0   RETURN_REASON_CODE  619 non-null    int64\n",
      "dtypes: int64(1)\n",
      "memory usage: 9.7 KB\n"
     ]
    }
   ],
   "source": [
    "X = df.loc[df['ORDER_DETAIL_CODE'].notna(), :]\n",
    "X = X.drop('ORDER_DETAIL_CODE', axis = 1)\n",
    "y = df.loc[df['ORDER_DETAIL_CODE'].notna(), ['ORDER_DETAIL_CODE']]\n",
    "X.info()"
   ]
  },
  {
   "cell_type": "code",
   "execution_count": 19,
   "id": "3731a958",
   "metadata": {},
   "outputs": [],
   "source": [
    "X_train, X_test, y_train, y_test = train_test_split(\n",
    "    X,\n",
    "    y,\n",
    "    test_size = 0.15,\n",
    "    random_state = 42\n",
    ")"
   ]
  },
  {
   "cell_type": "markdown",
   "id": "5c47dfc6",
   "metadata": {},
   "source": [
    "# Regressiemodel"
   ]
  },
  {
   "cell_type": "code",
   "execution_count": 20,
   "id": "e35bcb40",
   "metadata": {},
   "outputs": [
    {
     "data": {
      "text/html": [
       "<style>#sk-container-id-1 {\n",
       "  /* Definition of color scheme common for light and dark mode */\n",
       "  --sklearn-color-text: #000;\n",
       "  --sklearn-color-text-muted: #666;\n",
       "  --sklearn-color-line: gray;\n",
       "  /* Definition of color scheme for unfitted estimators */\n",
       "  --sklearn-color-unfitted-level-0: #fff5e6;\n",
       "  --sklearn-color-unfitted-level-1: #f6e4d2;\n",
       "  --sklearn-color-unfitted-level-2: #ffe0b3;\n",
       "  --sklearn-color-unfitted-level-3: chocolate;\n",
       "  /* Definition of color scheme for fitted estimators */\n",
       "  --sklearn-color-fitted-level-0: #f0f8ff;\n",
       "  --sklearn-color-fitted-level-1: #d4ebff;\n",
       "  --sklearn-color-fitted-level-2: #b3dbfd;\n",
       "  --sklearn-color-fitted-level-3: cornflowerblue;\n",
       "\n",
       "  /* Specific color for light theme */\n",
       "  --sklearn-color-text-on-default-background: var(--sg-text-color, var(--theme-code-foreground, var(--jp-content-font-color1, black)));\n",
       "  --sklearn-color-background: var(--sg-background-color, var(--theme-background, var(--jp-layout-color0, white)));\n",
       "  --sklearn-color-border-box: var(--sg-text-color, var(--theme-code-foreground, var(--jp-content-font-color1, black)));\n",
       "  --sklearn-color-icon: #696969;\n",
       "\n",
       "  @media (prefers-color-scheme: dark) {\n",
       "    /* Redefinition of color scheme for dark theme */\n",
       "    --sklearn-color-text-on-default-background: var(--sg-text-color, var(--theme-code-foreground, var(--jp-content-font-color1, white)));\n",
       "    --sklearn-color-background: var(--sg-background-color, var(--theme-background, var(--jp-layout-color0, #111)));\n",
       "    --sklearn-color-border-box: var(--sg-text-color, var(--theme-code-foreground, var(--jp-content-font-color1, white)));\n",
       "    --sklearn-color-icon: #878787;\n",
       "  }\n",
       "}\n",
       "\n",
       "#sk-container-id-1 {\n",
       "  color: var(--sklearn-color-text);\n",
       "}\n",
       "\n",
       "#sk-container-id-1 pre {\n",
       "  padding: 0;\n",
       "}\n",
       "\n",
       "#sk-container-id-1 input.sk-hidden--visually {\n",
       "  border: 0;\n",
       "  clip: rect(1px 1px 1px 1px);\n",
       "  clip: rect(1px, 1px, 1px, 1px);\n",
       "  height: 1px;\n",
       "  margin: -1px;\n",
       "  overflow: hidden;\n",
       "  padding: 0;\n",
       "  position: absolute;\n",
       "  width: 1px;\n",
       "}\n",
       "\n",
       "#sk-container-id-1 div.sk-dashed-wrapped {\n",
       "  border: 1px dashed var(--sklearn-color-line);\n",
       "  margin: 0 0.4em 0.5em 0.4em;\n",
       "  box-sizing: border-box;\n",
       "  padding-bottom: 0.4em;\n",
       "  background-color: var(--sklearn-color-background);\n",
       "}\n",
       "\n",
       "#sk-container-id-1 div.sk-container {\n",
       "  /* jupyter's `normalize.less` sets `[hidden] { display: none; }`\n",
       "     but bootstrap.min.css set `[hidden] { display: none !important; }`\n",
       "     so we also need the `!important` here to be able to override the\n",
       "     default hidden behavior on the sphinx rendered scikit-learn.org.\n",
       "     See: https://github.com/scikit-learn/scikit-learn/issues/21755 */\n",
       "  display: inline-block !important;\n",
       "  position: relative;\n",
       "}\n",
       "\n",
       "#sk-container-id-1 div.sk-text-repr-fallback {\n",
       "  display: none;\n",
       "}\n",
       "\n",
       "div.sk-parallel-item,\n",
       "div.sk-serial,\n",
       "div.sk-item {\n",
       "  /* draw centered vertical line to link estimators */\n",
       "  background-image: linear-gradient(var(--sklearn-color-text-on-default-background), var(--sklearn-color-text-on-default-background));\n",
       "  background-size: 2px 100%;\n",
       "  background-repeat: no-repeat;\n",
       "  background-position: center center;\n",
       "}\n",
       "\n",
       "/* Parallel-specific style estimator block */\n",
       "\n",
       "#sk-container-id-1 div.sk-parallel-item::after {\n",
       "  content: \"\";\n",
       "  width: 100%;\n",
       "  border-bottom: 2px solid var(--sklearn-color-text-on-default-background);\n",
       "  flex-grow: 1;\n",
       "}\n",
       "\n",
       "#sk-container-id-1 div.sk-parallel {\n",
       "  display: flex;\n",
       "  align-items: stretch;\n",
       "  justify-content: center;\n",
       "  background-color: var(--sklearn-color-background);\n",
       "  position: relative;\n",
       "}\n",
       "\n",
       "#sk-container-id-1 div.sk-parallel-item {\n",
       "  display: flex;\n",
       "  flex-direction: column;\n",
       "}\n",
       "\n",
       "#sk-container-id-1 div.sk-parallel-item:first-child::after {\n",
       "  align-self: flex-end;\n",
       "  width: 50%;\n",
       "}\n",
       "\n",
       "#sk-container-id-1 div.sk-parallel-item:last-child::after {\n",
       "  align-self: flex-start;\n",
       "  width: 50%;\n",
       "}\n",
       "\n",
       "#sk-container-id-1 div.sk-parallel-item:only-child::after {\n",
       "  width: 0;\n",
       "}\n",
       "\n",
       "/* Serial-specific style estimator block */\n",
       "\n",
       "#sk-container-id-1 div.sk-serial {\n",
       "  display: flex;\n",
       "  flex-direction: column;\n",
       "  align-items: center;\n",
       "  background-color: var(--sklearn-color-background);\n",
       "  padding-right: 1em;\n",
       "  padding-left: 1em;\n",
       "}\n",
       "\n",
       "\n",
       "/* Toggleable style: style used for estimator/Pipeline/ColumnTransformer box that is\n",
       "clickable and can be expanded/collapsed.\n",
       "- Pipeline and ColumnTransformer use this feature and define the default style\n",
       "- Estimators will overwrite some part of the style using the `sk-estimator` class\n",
       "*/\n",
       "\n",
       "/* Pipeline and ColumnTransformer style (default) */\n",
       "\n",
       "#sk-container-id-1 div.sk-toggleable {\n",
       "  /* Default theme specific background. It is overwritten whether we have a\n",
       "  specific estimator or a Pipeline/ColumnTransformer */\n",
       "  background-color: var(--sklearn-color-background);\n",
       "}\n",
       "\n",
       "/* Toggleable label */\n",
       "#sk-container-id-1 label.sk-toggleable__label {\n",
       "  cursor: pointer;\n",
       "  display: flex;\n",
       "  width: 100%;\n",
       "  margin-bottom: 0;\n",
       "  padding: 0.5em;\n",
       "  box-sizing: border-box;\n",
       "  text-align: center;\n",
       "  align-items: start;\n",
       "  justify-content: space-between;\n",
       "  gap: 0.5em;\n",
       "}\n",
       "\n",
       "#sk-container-id-1 label.sk-toggleable__label .caption {\n",
       "  font-size: 0.6rem;\n",
       "  font-weight: lighter;\n",
       "  color: var(--sklearn-color-text-muted);\n",
       "}\n",
       "\n",
       "#sk-container-id-1 label.sk-toggleable__label-arrow:before {\n",
       "  /* Arrow on the left of the label */\n",
       "  content: \"▸\";\n",
       "  float: left;\n",
       "  margin-right: 0.25em;\n",
       "  color: var(--sklearn-color-icon);\n",
       "}\n",
       "\n",
       "#sk-container-id-1 label.sk-toggleable__label-arrow:hover:before {\n",
       "  color: var(--sklearn-color-text);\n",
       "}\n",
       "\n",
       "/* Toggleable content - dropdown */\n",
       "\n",
       "#sk-container-id-1 div.sk-toggleable__content {\n",
       "  max-height: 0;\n",
       "  max-width: 0;\n",
       "  overflow: hidden;\n",
       "  text-align: left;\n",
       "  /* unfitted */\n",
       "  background-color: var(--sklearn-color-unfitted-level-0);\n",
       "}\n",
       "\n",
       "#sk-container-id-1 div.sk-toggleable__content.fitted {\n",
       "  /* fitted */\n",
       "  background-color: var(--sklearn-color-fitted-level-0);\n",
       "}\n",
       "\n",
       "#sk-container-id-1 div.sk-toggleable__content pre {\n",
       "  margin: 0.2em;\n",
       "  border-radius: 0.25em;\n",
       "  color: var(--sklearn-color-text);\n",
       "  /* unfitted */\n",
       "  background-color: var(--sklearn-color-unfitted-level-0);\n",
       "}\n",
       "\n",
       "#sk-container-id-1 div.sk-toggleable__content.fitted pre {\n",
       "  /* unfitted */\n",
       "  background-color: var(--sklearn-color-fitted-level-0);\n",
       "}\n",
       "\n",
       "#sk-container-id-1 input.sk-toggleable__control:checked~div.sk-toggleable__content {\n",
       "  /* Expand drop-down */\n",
       "  max-height: 200px;\n",
       "  max-width: 100%;\n",
       "  overflow: auto;\n",
       "}\n",
       "\n",
       "#sk-container-id-1 input.sk-toggleable__control:checked~label.sk-toggleable__label-arrow:before {\n",
       "  content: \"▾\";\n",
       "}\n",
       "\n",
       "/* Pipeline/ColumnTransformer-specific style */\n",
       "\n",
       "#sk-container-id-1 div.sk-label input.sk-toggleable__control:checked~label.sk-toggleable__label {\n",
       "  color: var(--sklearn-color-text);\n",
       "  background-color: var(--sklearn-color-unfitted-level-2);\n",
       "}\n",
       "\n",
       "#sk-container-id-1 div.sk-label.fitted input.sk-toggleable__control:checked~label.sk-toggleable__label {\n",
       "  background-color: var(--sklearn-color-fitted-level-2);\n",
       "}\n",
       "\n",
       "/* Estimator-specific style */\n",
       "\n",
       "/* Colorize estimator box */\n",
       "#sk-container-id-1 div.sk-estimator input.sk-toggleable__control:checked~label.sk-toggleable__label {\n",
       "  /* unfitted */\n",
       "  background-color: var(--sklearn-color-unfitted-level-2);\n",
       "}\n",
       "\n",
       "#sk-container-id-1 div.sk-estimator.fitted input.sk-toggleable__control:checked~label.sk-toggleable__label {\n",
       "  /* fitted */\n",
       "  background-color: var(--sklearn-color-fitted-level-2);\n",
       "}\n",
       "\n",
       "#sk-container-id-1 div.sk-label label.sk-toggleable__label,\n",
       "#sk-container-id-1 div.sk-label label {\n",
       "  /* The background is the default theme color */\n",
       "  color: var(--sklearn-color-text-on-default-background);\n",
       "}\n",
       "\n",
       "/* On hover, darken the color of the background */\n",
       "#sk-container-id-1 div.sk-label:hover label.sk-toggleable__label {\n",
       "  color: var(--sklearn-color-text);\n",
       "  background-color: var(--sklearn-color-unfitted-level-2);\n",
       "}\n",
       "\n",
       "/* Label box, darken color on hover, fitted */\n",
       "#sk-container-id-1 div.sk-label.fitted:hover label.sk-toggleable__label.fitted {\n",
       "  color: var(--sklearn-color-text);\n",
       "  background-color: var(--sklearn-color-fitted-level-2);\n",
       "}\n",
       "\n",
       "/* Estimator label */\n",
       "\n",
       "#sk-container-id-1 div.sk-label label {\n",
       "  font-family: monospace;\n",
       "  font-weight: bold;\n",
       "  display: inline-block;\n",
       "  line-height: 1.2em;\n",
       "}\n",
       "\n",
       "#sk-container-id-1 div.sk-label-container {\n",
       "  text-align: center;\n",
       "}\n",
       "\n",
       "/* Estimator-specific */\n",
       "#sk-container-id-1 div.sk-estimator {\n",
       "  font-family: monospace;\n",
       "  border: 1px dotted var(--sklearn-color-border-box);\n",
       "  border-radius: 0.25em;\n",
       "  box-sizing: border-box;\n",
       "  margin-bottom: 0.5em;\n",
       "  /* unfitted */\n",
       "  background-color: var(--sklearn-color-unfitted-level-0);\n",
       "}\n",
       "\n",
       "#sk-container-id-1 div.sk-estimator.fitted {\n",
       "  /* fitted */\n",
       "  background-color: var(--sklearn-color-fitted-level-0);\n",
       "}\n",
       "\n",
       "/* on hover */\n",
       "#sk-container-id-1 div.sk-estimator:hover {\n",
       "  /* unfitted */\n",
       "  background-color: var(--sklearn-color-unfitted-level-2);\n",
       "}\n",
       "\n",
       "#sk-container-id-1 div.sk-estimator.fitted:hover {\n",
       "  /* fitted */\n",
       "  background-color: var(--sklearn-color-fitted-level-2);\n",
       "}\n",
       "\n",
       "/* Specification for estimator info (e.g. \"i\" and \"?\") */\n",
       "\n",
       "/* Common style for \"i\" and \"?\" */\n",
       "\n",
       ".sk-estimator-doc-link,\n",
       "a:link.sk-estimator-doc-link,\n",
       "a:visited.sk-estimator-doc-link {\n",
       "  float: right;\n",
       "  font-size: smaller;\n",
       "  line-height: 1em;\n",
       "  font-family: monospace;\n",
       "  background-color: var(--sklearn-color-background);\n",
       "  border-radius: 1em;\n",
       "  height: 1em;\n",
       "  width: 1em;\n",
       "  text-decoration: none !important;\n",
       "  margin-left: 0.5em;\n",
       "  text-align: center;\n",
       "  /* unfitted */\n",
       "  border: var(--sklearn-color-unfitted-level-1) 1pt solid;\n",
       "  color: var(--sklearn-color-unfitted-level-1);\n",
       "}\n",
       "\n",
       ".sk-estimator-doc-link.fitted,\n",
       "a:link.sk-estimator-doc-link.fitted,\n",
       "a:visited.sk-estimator-doc-link.fitted {\n",
       "  /* fitted */\n",
       "  border: var(--sklearn-color-fitted-level-1) 1pt solid;\n",
       "  color: var(--sklearn-color-fitted-level-1);\n",
       "}\n",
       "\n",
       "/* On hover */\n",
       "div.sk-estimator:hover .sk-estimator-doc-link:hover,\n",
       ".sk-estimator-doc-link:hover,\n",
       "div.sk-label-container:hover .sk-estimator-doc-link:hover,\n",
       ".sk-estimator-doc-link:hover {\n",
       "  /* unfitted */\n",
       "  background-color: var(--sklearn-color-unfitted-level-3);\n",
       "  color: var(--sklearn-color-background);\n",
       "  text-decoration: none;\n",
       "}\n",
       "\n",
       "div.sk-estimator.fitted:hover .sk-estimator-doc-link.fitted:hover,\n",
       ".sk-estimator-doc-link.fitted:hover,\n",
       "div.sk-label-container:hover .sk-estimator-doc-link.fitted:hover,\n",
       ".sk-estimator-doc-link.fitted:hover {\n",
       "  /* fitted */\n",
       "  background-color: var(--sklearn-color-fitted-level-3);\n",
       "  color: var(--sklearn-color-background);\n",
       "  text-decoration: none;\n",
       "}\n",
       "\n",
       "/* Span, style for the box shown on hovering the info icon */\n",
       ".sk-estimator-doc-link span {\n",
       "  display: none;\n",
       "  z-index: 9999;\n",
       "  position: relative;\n",
       "  font-weight: normal;\n",
       "  right: .2ex;\n",
       "  padding: .5ex;\n",
       "  margin: .5ex;\n",
       "  width: min-content;\n",
       "  min-width: 20ex;\n",
       "  max-width: 50ex;\n",
       "  color: var(--sklearn-color-text);\n",
       "  box-shadow: 2pt 2pt 4pt #999;\n",
       "  /* unfitted */\n",
       "  background: var(--sklearn-color-unfitted-level-0);\n",
       "  border: .5pt solid var(--sklearn-color-unfitted-level-3);\n",
       "}\n",
       "\n",
       ".sk-estimator-doc-link.fitted span {\n",
       "  /* fitted */\n",
       "  background: var(--sklearn-color-fitted-level-0);\n",
       "  border: var(--sklearn-color-fitted-level-3);\n",
       "}\n",
       "\n",
       ".sk-estimator-doc-link:hover span {\n",
       "  display: block;\n",
       "}\n",
       "\n",
       "/* \"?\"-specific style due to the `<a>` HTML tag */\n",
       "\n",
       "#sk-container-id-1 a.estimator_doc_link {\n",
       "  float: right;\n",
       "  font-size: 1rem;\n",
       "  line-height: 1em;\n",
       "  font-family: monospace;\n",
       "  background-color: var(--sklearn-color-background);\n",
       "  border-radius: 1rem;\n",
       "  height: 1rem;\n",
       "  width: 1rem;\n",
       "  text-decoration: none;\n",
       "  /* unfitted */\n",
       "  color: var(--sklearn-color-unfitted-level-1);\n",
       "  border: var(--sklearn-color-unfitted-level-1) 1pt solid;\n",
       "}\n",
       "\n",
       "#sk-container-id-1 a.estimator_doc_link.fitted {\n",
       "  /* fitted */\n",
       "  border: var(--sklearn-color-fitted-level-1) 1pt solid;\n",
       "  color: var(--sklearn-color-fitted-level-1);\n",
       "}\n",
       "\n",
       "/* On hover */\n",
       "#sk-container-id-1 a.estimator_doc_link:hover {\n",
       "  /* unfitted */\n",
       "  background-color: var(--sklearn-color-unfitted-level-3);\n",
       "  color: var(--sklearn-color-background);\n",
       "  text-decoration: none;\n",
       "}\n",
       "\n",
       "#sk-container-id-1 a.estimator_doc_link.fitted:hover {\n",
       "  /* fitted */\n",
       "  background-color: var(--sklearn-color-fitted-level-3);\n",
       "}\n",
       "</style><div id=\"sk-container-id-1\" class=\"sk-top-container\"><div class=\"sk-text-repr-fallback\"><pre>LinearRegression()</pre><b>In a Jupyter environment, please rerun this cell to show the HTML representation or trust the notebook. <br />On GitHub, the HTML representation is unable to render, please try loading this page with nbviewer.org.</b></div><div class=\"sk-container\" hidden><div class=\"sk-item\"><div class=\"sk-estimator fitted sk-toggleable\"><input class=\"sk-toggleable__control sk-hidden--visually\" id=\"sk-estimator-id-1\" type=\"checkbox\" checked><label for=\"sk-estimator-id-1\" class=\"sk-toggleable__label fitted sk-toggleable__label-arrow\"><div><div>LinearRegression</div></div><div><a class=\"sk-estimator-doc-link fitted\" rel=\"noreferrer\" target=\"_blank\" href=\"https://scikit-learn.org/1.6/modules/generated/sklearn.linear_model.LinearRegression.html\">?<span>Documentation for LinearRegression</span></a><span class=\"sk-estimator-doc-link fitted\">i<span>Fitted</span></span></div></label><div class=\"sk-toggleable__content fitted\"><pre>LinearRegression()</pre></div> </div></div></div></div>"
      ],
      "text/plain": [
       "LinearRegression()"
      ]
     },
     "execution_count": 20,
     "metadata": {},
     "output_type": "execute_result"
    }
   ],
   "source": [
    "reg_model = linear_model.LinearRegression()\n",
    "reg_model = LinearRegression().fit(X_train, y_train)\n",
    "reg_model"
   ]
  },
  {
   "cell_type": "code",
   "execution_count": 21,
   "id": "14b22cfa",
   "metadata": {},
   "outputs": [
    {
     "data": {
      "text/plain": [
       "array([[84188.1130568 ],\n",
       "       [84188.1130568 ],\n",
       "       [84446.157938  ],\n",
       "       [84188.1130568 ],\n",
       "       [84188.1130568 ],\n",
       "       [85220.29258159],\n",
       "       [84704.2028192 ],\n",
       "       [84962.2477004 ],\n",
       "       [85220.29258159],\n",
       "       [84446.157938  ],\n",
       "       [84188.1130568 ],\n",
       "       [84962.2477004 ],\n",
       "       [84446.157938  ],\n",
       "       [85220.29258159],\n",
       "       [84446.157938  ],\n",
       "       [84188.1130568 ],\n",
       "       [85220.29258159],\n",
       "       [85220.29258159],\n",
       "       [84962.2477004 ],\n",
       "       [84188.1130568 ],\n",
       "       [84446.157938  ],\n",
       "       [85220.29258159],\n",
       "       [84962.2477004 ],\n",
       "       [84962.2477004 ],\n",
       "       [84962.2477004 ],\n",
       "       [85220.29258159],\n",
       "       [84188.1130568 ],\n",
       "       [84188.1130568 ],\n",
       "       [84188.1130568 ],\n",
       "       [84188.1130568 ],\n",
       "       [84962.2477004 ],\n",
       "       [84704.2028192 ],\n",
       "       [84962.2477004 ],\n",
       "       [84188.1130568 ],\n",
       "       [84962.2477004 ],\n",
       "       [84962.2477004 ],\n",
       "       [84704.2028192 ],\n",
       "       [85220.29258159],\n",
       "       [85220.29258159],\n",
       "       [84962.2477004 ],\n",
       "       [84962.2477004 ],\n",
       "       [85220.29258159],\n",
       "       [84962.2477004 ],\n",
       "       [84962.2477004 ],\n",
       "       [84446.157938  ],\n",
       "       [84962.2477004 ],\n",
       "       [84962.2477004 ],\n",
       "       [85220.29258159],\n",
       "       [84704.2028192 ],\n",
       "       [84704.2028192 ],\n",
       "       [85220.29258159],\n",
       "       [84188.1130568 ],\n",
       "       [85220.29258159],\n",
       "       [84446.157938  ],\n",
       "       [85220.29258159],\n",
       "       [85220.29258159],\n",
       "       [84188.1130568 ],\n",
       "       [84704.2028192 ],\n",
       "       [84962.2477004 ],\n",
       "       [84962.2477004 ],\n",
       "       [84188.1130568 ],\n",
       "       [84962.2477004 ],\n",
       "       [85220.29258159],\n",
       "       [84188.1130568 ],\n",
       "       [85220.29258159],\n",
       "       [85220.29258159],\n",
       "       [84704.2028192 ],\n",
       "       [85220.29258159],\n",
       "       [84188.1130568 ],\n",
       "       [84962.2477004 ],\n",
       "       [84188.1130568 ],\n",
       "       [85220.29258159],\n",
       "       [84962.2477004 ],\n",
       "       [84962.2477004 ],\n",
       "       [85220.29258159],\n",
       "       [84962.2477004 ],\n",
       "       [85220.29258159],\n",
       "       [84704.2028192 ],\n",
       "       [85220.29258159],\n",
       "       [84962.2477004 ],\n",
       "       [85220.29258159],\n",
       "       [85220.29258159],\n",
       "       [84962.2477004 ],\n",
       "       [84446.157938  ],\n",
       "       [84188.1130568 ],\n",
       "       [84188.1130568 ],\n",
       "       [85220.29258159],\n",
       "       [85220.29258159],\n",
       "       [84188.1130568 ],\n",
       "       [85220.29258159],\n",
       "       [85220.29258159],\n",
       "       [84188.1130568 ],\n",
       "       [84188.1130568 ]])"
      ]
     },
     "execution_count": 21,
     "metadata": {},
     "output_type": "execute_result"
    }
   ],
   "source": [
    "y_pred= reg_model.predict(X_test)\n",
    "y_pred"
   ]
  },
  {
   "cell_type": "code",
   "execution_count": 29,
   "id": "b52efe5b",
   "metadata": {},
   "outputs": [
    {
     "data": {
      "application/vnd.microsoft.datawrangler.viewer.v0+json": {
       "columns": [
        {
         "name": "index",
         "rawType": "int64",
         "type": "integer"
        },
        {
         "name": "predicted_order_detail_code",
         "rawType": "object",
         "type": "string"
        }
       ],
       "conversionMethod": "pd.DataFrame",
       "ref": "560c3b40-115a-4202-be5b-14e1dfb57f1d",
       "rows": [
        [
         "0",
         "84188.1131"
        ],
        [
         "1",
         "84188.1131"
        ],
        [
         "2",
         "84446.1579"
        ],
        [
         "3",
         "84188.1131"
        ],
        [
         "4",
         "84188.1131"
        ],
        [
         "5",
         "85220.2926"
        ],
        [
         "6",
         "84704.2028"
        ],
        [
         "7",
         "84962.2477"
        ],
        [
         "8",
         "85220.2926"
        ],
        [
         "9",
         "84446.1579"
        ],
        [
         "10",
         "84188.1131"
        ],
        [
         "11",
         "84962.2477"
        ],
        [
         "12",
         "84446.1579"
        ],
        [
         "13",
         "85220.2926"
        ],
        [
         "14",
         "84446.1579"
        ],
        [
         "15",
         "84188.1131"
        ],
        [
         "16",
         "85220.2926"
        ],
        [
         "17",
         "85220.2926"
        ],
        [
         "18",
         "84962.2477"
        ],
        [
         "19",
         "84188.1131"
        ],
        [
         "20",
         "84446.1579"
        ],
        [
         "21",
         "85220.2926"
        ],
        [
         "22",
         "84962.2477"
        ],
        [
         "23",
         "84962.2477"
        ],
        [
         "24",
         "84962.2477"
        ],
        [
         "25",
         "85220.2926"
        ],
        [
         "26",
         "84188.1131"
        ],
        [
         "27",
         "84188.1131"
        ],
        [
         "28",
         "84188.1131"
        ],
        [
         "29",
         "84188.1131"
        ],
        [
         "30",
         "84962.2477"
        ],
        [
         "31",
         "84704.2028"
        ],
        [
         "32",
         "84962.2477"
        ],
        [
         "33",
         "84188.1131"
        ],
        [
         "34",
         "84962.2477"
        ],
        [
         "35",
         "84962.2477"
        ],
        [
         "36",
         "84704.2028"
        ],
        [
         "37",
         "85220.2926"
        ],
        [
         "38",
         "85220.2926"
        ],
        [
         "39",
         "84962.2477"
        ],
        [
         "40",
         "84962.2477"
        ],
        [
         "41",
         "85220.2926"
        ],
        [
         "42",
         "84962.2477"
        ],
        [
         "43",
         "84962.2477"
        ],
        [
         "44",
         "84446.1579"
        ],
        [
         "45",
         "84962.2477"
        ],
        [
         "46",
         "84962.2477"
        ],
        [
         "47",
         "85220.2926"
        ],
        [
         "48",
         "84704.2028"
        ],
        [
         "49",
         "84704.2028"
        ]
       ],
       "shape": {
        "columns": 1,
        "rows": 93
       }
      },
      "text/html": [
       "<div>\n",
       "<style scoped>\n",
       "    .dataframe tbody tr th:only-of-type {\n",
       "        vertical-align: middle;\n",
       "    }\n",
       "\n",
       "    .dataframe tbody tr th {\n",
       "        vertical-align: top;\n",
       "    }\n",
       "\n",
       "    .dataframe thead th {\n",
       "        text-align: right;\n",
       "    }\n",
       "</style>\n",
       "<table border=\"1\" class=\"dataframe\">\n",
       "  <thead>\n",
       "    <tr style=\"text-align: right;\">\n",
       "      <th></th>\n",
       "      <th>predicted_order_detail_code</th>\n",
       "    </tr>\n",
       "  </thead>\n",
       "  <tbody>\n",
       "    <tr>\n",
       "      <th>0</th>\n",
       "      <td>84188.1131</td>\n",
       "    </tr>\n",
       "    <tr>\n",
       "      <th>1</th>\n",
       "      <td>84188.1131</td>\n",
       "    </tr>\n",
       "    <tr>\n",
       "      <th>2</th>\n",
       "      <td>84446.1579</td>\n",
       "    </tr>\n",
       "    <tr>\n",
       "      <th>3</th>\n",
       "      <td>84188.1131</td>\n",
       "    </tr>\n",
       "    <tr>\n",
       "      <th>4</th>\n",
       "      <td>84188.1131</td>\n",
       "    </tr>\n",
       "    <tr>\n",
       "      <th>...</th>\n",
       "      <td>...</td>\n",
       "    </tr>\n",
       "    <tr>\n",
       "      <th>88</th>\n",
       "      <td>84188.1131</td>\n",
       "    </tr>\n",
       "    <tr>\n",
       "      <th>89</th>\n",
       "      <td>85220.2926</td>\n",
       "    </tr>\n",
       "    <tr>\n",
       "      <th>90</th>\n",
       "      <td>85220.2926</td>\n",
       "    </tr>\n",
       "    <tr>\n",
       "      <th>91</th>\n",
       "      <td>84188.1131</td>\n",
       "    </tr>\n",
       "    <tr>\n",
       "      <th>92</th>\n",
       "      <td>84188.1131</td>\n",
       "    </tr>\n",
       "  </tbody>\n",
       "</table>\n",
       "<p>93 rows × 1 columns</p>\n",
       "</div>"
      ],
      "text/plain": [
       "   predicted_order_detail_code\n",
       "0                   84188.1131\n",
       "1                   84188.1131\n",
       "2                   84446.1579\n",
       "3                   84188.1131\n",
       "4                   84188.1131\n",
       "..                         ...\n",
       "88                  84188.1131\n",
       "89                  85220.2926\n",
       "90                  85220.2926\n",
       "91                  84188.1131\n",
       "92                  84188.1131\n",
       "\n",
       "[93 rows x 1 columns]"
      ]
     },
     "execution_count": 29,
     "metadata": {},
     "output_type": "execute_result"
    }
   ],
   "source": [
    "prediction_df = pd.DataFrame(y_pred)\n",
    "prediction_df = prediction_df.rename(columns={0: 'predicted_order_detail_code'})\n",
    "prediction_df = prediction_df.map(lambda x: f'{x:.4f}')\n",
    "prediction_df"
   ]
  },
  {
   "cell_type": "code",
   "execution_count": 31,
   "id": "70fd1b71",
   "metadata": {},
   "outputs": [
    {
     "data": {
      "application/vnd.microsoft.datawrangler.viewer.v0+json": {
       "columns": [
        {
         "name": "index",
         "rawType": "int64",
         "type": "integer"
        },
        {
         "name": "ORDER_DETAIL_CODE",
         "rawType": "int64",
         "type": "integer"
        },
        {
         "name": "predicted_order_detail_code",
         "rawType": "object",
         "type": "string"
        }
       ],
       "conversionMethod": "pd.DataFrame",
       "ref": "cca08a49-34a6-4587-8dba-deb2414d83e0",
       "rows": [
        [
         "0",
         "49576",
         "84188.1131"
        ],
        [
         "1",
         "83355",
         "84188.1131"
        ],
        [
         "2",
         "109956",
         "84446.1579"
        ],
        [
         "3",
         "97030",
         "84188.1131"
        ],
        [
         "4",
         "107445",
         "84188.1131"
        ],
        [
         "5",
         "115142",
         "85220.2926"
        ],
        [
         "6",
         "60639",
         "84704.2028"
        ],
        [
         "7",
         "102161",
         "84962.2477"
        ],
        [
         "8",
         "99739",
         "85220.2926"
        ],
        [
         "9",
         "102059",
         "84446.1579"
        ],
        [
         "10",
         "60790",
         "84188.1131"
        ],
        [
         "11",
         "49768",
         "84962.2477"
        ],
        [
         "12",
         "94776",
         "84446.1579"
        ],
        [
         "13",
         "109240",
         "85220.2926"
        ],
        [
         "14",
         "84867",
         "84446.1579"
        ],
        [
         "15",
         "94043",
         "84188.1131"
        ],
        [
         "16",
         "83180",
         "85220.2926"
        ],
        [
         "17",
         "73890",
         "85220.2926"
        ],
        [
         "18",
         "51029",
         "84962.2477"
        ],
        [
         "19",
         "78551",
         "84188.1131"
        ],
        [
         "20",
         "102628",
         "84446.1579"
        ],
        [
         "21",
         "90469",
         "85220.2926"
        ],
        [
         "22",
         "81579",
         "84962.2477"
        ],
        [
         "23",
         "49700",
         "84962.2477"
        ],
        [
         "24",
         "93914",
         "84962.2477"
        ],
        [
         "25",
         "60732",
         "85220.2926"
        ],
        [
         "26",
         "82298",
         "84188.1131"
        ],
        [
         "27",
         "104254",
         "84188.1131"
        ],
        [
         "28",
         "108047",
         "84188.1131"
        ],
        [
         "29",
         "90286",
         "84188.1131"
        ],
        [
         "30",
         "47755",
         "84962.2477"
        ],
        [
         "31",
         "112514",
         "84704.2028"
        ],
        [
         "32",
         "104699",
         "84962.2477"
        ],
        [
         "33",
         "90741",
         "84188.1131"
        ],
        [
         "34",
         "107603",
         "84962.2477"
        ],
        [
         "35",
         "75661",
         "84962.2477"
        ],
        [
         "36",
         "112609",
         "84704.2028"
        ],
        [
         "37",
         "99746",
         "85220.2926"
        ],
        [
         "38",
         "109242",
         "85220.2926"
        ],
        [
         "39",
         "95274",
         "84962.2477"
        ],
        [
         "40",
         "99528",
         "84962.2477"
        ],
        [
         "41",
         "74076",
         "85220.2926"
        ],
        [
         "42",
         "110675",
         "84962.2477"
        ],
        [
         "43",
         "98321",
         "84962.2477"
        ],
        [
         "44",
         "99817",
         "84446.1579"
        ],
        [
         "45",
         "90704",
         "84962.2477"
        ],
        [
         "46",
         "94778",
         "84962.2477"
        ],
        [
         "47",
         "84808",
         "85220.2926"
        ],
        [
         "48",
         "60311",
         "84704.2028"
        ],
        [
         "49",
         "85033",
         "84704.2028"
        ]
       ],
       "shape": {
        "columns": 2,
        "rows": 93
       }
      },
      "text/html": [
       "<div>\n",
       "<style scoped>\n",
       "    .dataframe tbody tr th:only-of-type {\n",
       "        vertical-align: middle;\n",
       "    }\n",
       "\n",
       "    .dataframe tbody tr th {\n",
       "        vertical-align: top;\n",
       "    }\n",
       "\n",
       "    .dataframe thead th {\n",
       "        text-align: right;\n",
       "    }\n",
       "</style>\n",
       "<table border=\"1\" class=\"dataframe\">\n",
       "  <thead>\n",
       "    <tr style=\"text-align: right;\">\n",
       "      <th></th>\n",
       "      <th>ORDER_DETAIL_CODE</th>\n",
       "      <th>predicted_order_detail_code</th>\n",
       "    </tr>\n",
       "  </thead>\n",
       "  <tbody>\n",
       "    <tr>\n",
       "      <th>0</th>\n",
       "      <td>49576</td>\n",
       "      <td>84188.1131</td>\n",
       "    </tr>\n",
       "    <tr>\n",
       "      <th>1</th>\n",
       "      <td>83355</td>\n",
       "      <td>84188.1131</td>\n",
       "    </tr>\n",
       "    <tr>\n",
       "      <th>2</th>\n",
       "      <td>109956</td>\n",
       "      <td>84446.1579</td>\n",
       "    </tr>\n",
       "    <tr>\n",
       "      <th>3</th>\n",
       "      <td>97030</td>\n",
       "      <td>84188.1131</td>\n",
       "    </tr>\n",
       "    <tr>\n",
       "      <th>4</th>\n",
       "      <td>107445</td>\n",
       "      <td>84188.1131</td>\n",
       "    </tr>\n",
       "    <tr>\n",
       "      <th>...</th>\n",
       "      <td>...</td>\n",
       "      <td>...</td>\n",
       "    </tr>\n",
       "    <tr>\n",
       "      <th>88</th>\n",
       "      <td>106340</td>\n",
       "      <td>84188.1131</td>\n",
       "    </tr>\n",
       "    <tr>\n",
       "      <th>89</th>\n",
       "      <td>53489</td>\n",
       "      <td>85220.2926</td>\n",
       "    </tr>\n",
       "    <tr>\n",
       "      <th>90</th>\n",
       "      <td>50744</td>\n",
       "      <td>85220.2926</td>\n",
       "    </tr>\n",
       "    <tr>\n",
       "      <th>91</th>\n",
       "      <td>80696</td>\n",
       "      <td>84188.1131</td>\n",
       "    </tr>\n",
       "    <tr>\n",
       "      <th>92</th>\n",
       "      <td>97176</td>\n",
       "      <td>84188.1131</td>\n",
       "    </tr>\n",
       "  </tbody>\n",
       "</table>\n",
       "<p>93 rows × 2 columns</p>\n",
       "</div>"
      ],
      "text/plain": [
       "    ORDER_DETAIL_CODE predicted_order_detail_code\n",
       "0               49576                  84188.1131\n",
       "1               83355                  84188.1131\n",
       "2              109956                  84446.1579\n",
       "3               97030                  84188.1131\n",
       "4              107445                  84188.1131\n",
       "..                ...                         ...\n",
       "88             106340                  84188.1131\n",
       "89              53489                  85220.2926\n",
       "90              50744                  85220.2926\n",
       "91              80696                  84188.1131\n",
       "92              97176                  84188.1131\n",
       "\n",
       "[93 rows x 2 columns]"
      ]
     },
     "execution_count": 31,
     "metadata": {},
     "output_type": "execute_result"
    }
   ],
   "source": [
    "y_test_prediction_merge = pd.concat([y_test.reset_index()['ORDER_DETAIL_CODE'], prediction_df], axis = 1)\n",
    "y_test_prediction_merge.loc[y_test_prediction_merge['predicted_order_detail_code'].notna(), :]"
   ]
  },
  {
   "cell_type": "markdown",
   "id": "d2d1fbdf",
   "metadata": {},
   "source": [
    "# scatterplot"
   ]
  },
  {
   "cell_type": "code",
   "execution_count": 32,
   "id": "5067582f",
   "metadata": {},
   "outputs": [
    {
     "data": {
      "image/png": "[encoded data removed]",
      "text/plain": [
       "<Figure size 640x480 with 1 Axes>"
      ]
     },
     "metadata": {},
     "output_type": "display_data"
    }
   ],
   "source": [
    "plt.scatter(y_test_prediction_merge['ORDER_DETAIL_CODE'], y_test_prediction_merge['predicted_order_detail_code'])\n",
    "plt.xlabel('ORDER_DETAIL_CODE')\n",
    "plt.ylabel('predicted_order_detail_code')\n",
    "plt.show()"
   ]
  },
  {
   "cell_type": "markdown",
   "id": "a6a94cb3",
   "metadata": {},
   "source": [
    "## mean sq2 error"
   ]
  },
  {
   "cell_type": "code",
   "execution_count": 33,
   "id": "0eed7170",
   "metadata": {},
   "outputs": [
    {
     "data": {
      "text/plain": [
       "473112761.5004128"
      ]
     },
     "execution_count": 33,
     "metadata": {},
     "output_type": "execute_result"
    }
   ],
   "source": [
    "mean_squared_error(y_test_prediction_merge['ORDER_DETAIL_CODE'], y_test_prediction_merge['predicted_order_detail_code'])"
   ]
  },
  {
   "cell_type": "markdown",
   "id": "37f8c869",
   "metadata": {},
   "source": [
    "## mean absolute error"
   ]
  },
  {
   "cell_type": "code",
   "execution_count": 34,
   "id": "9da9965e",
   "metadata": {},
   "outputs": [
    {
     "data": {
      "text/plain": [
       "18785.313189247314"
      ]
     },
     "execution_count": 34,
     "metadata": {},
     "output_type": "execute_result"
    }
   ],
   "source": [
    "mean_absolute_error(y_test_prediction_merge['ORDER_DETAIL_CODE'], y_test_prediction_merge['predicted_order_detail_code'])"
   ]
  }
 ],
 "metadata": {
  "kernelspec": {
   "display_name": ".venv",
   "language": "python",
   "name": "python3"
  },
  "language_info": {
   "codemirror_mode": {
    "name": "ipython",
    "version": 3
   },
   "file_extension": ".py",
   "mimetype": "text/x-python",
   "name": "python",
   "nbconvert_exporter": "python",
   "pygments_lexer": "ipython3",
   "version": "3.13.2"
  }
 },
 "nbformat": 4,
 "nbformat_minor": 5
}
