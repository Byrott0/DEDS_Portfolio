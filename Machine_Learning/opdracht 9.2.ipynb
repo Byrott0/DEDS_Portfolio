{
 "cells": [
  {
   "cell_type": "markdown",
   "id": "d91814e3",
   "metadata": {},
   "source": [
    "# imports"
   ]
  },
  {
   "cell_type": "code",
   "execution_count": 3,
   "id": "4a235ed1",
   "metadata": {},
   "outputs": [],
   "source": [
    "import pandas as pd\n",
    "from sklearn.model_selection import train_test_split\n",
    "from sklearn.tree import DecisionTreeClassifier\n",
    "from sklearn import tree\n",
    "from sklearn import metrics\n",
    "import matplotlib.pyplot as plt"
   ]
  },
  {
   "cell_type": "code",
   "execution_count": 4,
   "id": "b558f9ae",
   "metadata": {},
   "outputs": [
    {
     "data": {
      "application/vnd.microsoft.datawrangler.viewer.v0+json": {
       "columns": [
        {
         "name": "index",
         "rawType": "int64",
         "type": "integer"
        },
        {
         "name": "name",
         "rawType": "object",
         "type": "string"
        }
       ],
       "conversionMethod": "pd.DataFrame",
       "ref": "f75d49c7-c15f-4b0c-8355-93bcd4eadfec",
       "rows": [
        [
         "0",
         "country"
        ],
        [
         "1",
         "order_details"
        ],
        [
         "2",
         "order_header"
        ],
        [
         "3",
         "order_method"
        ],
        [
         "4",
         "product_line"
        ],
        [
         "5",
         "product_type"
        ],
        [
         "6",
         "product"
        ],
        [
         "7",
         "return_reason"
        ],
        [
         "8",
         "returned_item"
        ],
        [
         "9",
         "sales_branch"
        ],
        [
         "10",
         "sales_staff"
        ],
        [
         "11",
         "retailer_site"
        ]
       ],
       "shape": {
        "columns": 1,
        "rows": 12
       }
      },
      "text/html": [
       "<div>\n",
       "<style scoped>\n",
       "    .dataframe tbody tr th:only-of-type {\n",
       "        vertical-align: middle;\n",
       "    }\n",
       "\n",
       "    .dataframe tbody tr th {\n",
       "        vertical-align: top;\n",
       "    }\n",
       "\n",
       "    .dataframe thead th {\n",
       "        text-align: right;\n",
       "    }\n",
       "</style>\n",
       "<table border=\"1\" class=\"dataframe\">\n",
       "  <thead>\n",
       "    <tr style=\"text-align: right;\">\n",
       "      <th></th>\n",
       "      <th>name</th>\n",
       "    </tr>\n",
       "  </thead>\n",
       "  <tbody>\n",
       "    <tr>\n",
       "      <th>0</th>\n",
       "      <td>country</td>\n",
       "    </tr>\n",
       "    <tr>\n",
       "      <th>1</th>\n",
       "      <td>order_details</td>\n",
       "    </tr>\n",
       "    <tr>\n",
       "      <th>2</th>\n",
       "      <td>order_header</td>\n",
       "    </tr>\n",
       "    <tr>\n",
       "      <th>3</th>\n",
       "      <td>order_method</td>\n",
       "    </tr>\n",
       "    <tr>\n",
       "      <th>4</th>\n",
       "      <td>product_line</td>\n",
       "    </tr>\n",
       "    <tr>\n",
       "      <th>5</th>\n",
       "      <td>product_type</td>\n",
       "    </tr>\n",
       "    <tr>\n",
       "      <th>6</th>\n",
       "      <td>product</td>\n",
       "    </tr>\n",
       "    <tr>\n",
       "      <th>7</th>\n",
       "      <td>return_reason</td>\n",
       "    </tr>\n",
       "    <tr>\n",
       "      <th>8</th>\n",
       "      <td>returned_item</td>\n",
       "    </tr>\n",
       "    <tr>\n",
       "      <th>9</th>\n",
       "      <td>sales_branch</td>\n",
       "    </tr>\n",
       "    <tr>\n",
       "      <th>10</th>\n",
       "      <td>sales_staff</td>\n",
       "    </tr>\n",
       "    <tr>\n",
       "      <th>11</th>\n",
       "      <td>retailer_site</td>\n",
       "    </tr>\n",
       "  </tbody>\n",
       "</table>\n",
       "</div>"
      ],
      "text/plain": [
       "             name\n",
       "0         country\n",
       "1   order_details\n",
       "2    order_header\n",
       "3    order_method\n",
       "4    product_line\n",
       "5    product_type\n",
       "6         product\n",
       "7   return_reason\n",
       "8   returned_item\n",
       "9    sales_branch\n",
       "10    sales_staff\n",
       "11  retailer_site"
      ]
     },
     "execution_count": 4,
     "metadata": {},
     "output_type": "execute_result"
    }
   ],
   "source": [
    "import sqlite3\n",
    "\n",
    "# Connect to SQLite database\n",
    "conn = sqlite3.connect('go_sales_train.sqlite')\n",
    "\n",
    "# List all tables in the database\n",
    "tables = pd.read_sql(\"SELECT name FROM sqlite_master WHERE type='table';\", conn)\n",
    "tables\n"
   ]
  },
  {
   "cell_type": "markdown",
   "id": "e1edef76",
   "metadata": {},
   "source": [
    "# read data"
   ]
  },
  {
   "cell_type": "code",
   "execution_count": 5,
   "id": "b6ce26f3",
   "metadata": {},
   "outputs": [
    {
     "data": {
      "application/vnd.microsoft.datawrangler.viewer.v0+json": {
       "columns": [
        {
         "name": "index",
         "rawType": "int64",
         "type": "integer"
        },
        {
         "name": "ORDER_DETAIL_CODE",
         "rawType": "int64",
         "type": "integer"
        },
        {
         "name": "PRODUCT_NUMBER",
         "rawType": "int64",
         "type": "integer"
        },
        {
         "name": "QUANTITY",
         "rawType": "int64",
         "type": "integer"
        }
       ],
       "conversionMethod": "pd.DataFrame",
       "ref": "7f39cc22-48c4-4e83-86d8-0437ffcb5e2d",
       "rows": [
        [
         "0",
         "47737",
         "1",
         "84"
        ],
        [
         "1",
         "47738",
         "1",
         "126"
        ],
        [
         "2",
         "47739",
         "1",
         "122"
        ],
        [
         "3",
         "47740",
         "1",
         "122"
        ],
        [
         "4",
         "47741",
         "1",
         "272"
        ],
        [
         "5",
         "47742",
         "1",
         "232"
        ],
        [
         "6",
         "47743",
         "1",
         "104"
        ],
        [
         "7",
         "47744",
         "1",
         "130"
        ],
        [
         "8",
         "47745",
         "1",
         "50"
        ],
        [
         "9",
         "47746",
         "2",
         "170"
        ],
        [
         "10",
         "47747",
         "2",
         "100"
        ],
        [
         "11",
         "47748",
         "2",
         "42"
        ],
        [
         "12",
         "47749",
         "2",
         "120"
        ],
        [
         "13",
         "47750",
         "2",
         "84"
        ],
        [
         "14",
         "47751",
         "2",
         "46"
        ],
        [
         "15",
         "47752",
         "2",
         "140"
        ],
        [
         "16",
         "47753",
         "2",
         "58"
        ],
        [
         "17",
         "47754",
         "2",
         "102"
        ],
        [
         "18",
         "47755",
         "2",
         "44"
        ],
        [
         "19",
         "47756",
         "3",
         "76"
        ],
        [
         "20",
         "47757",
         "3",
         "64"
        ],
        [
         "21",
         "47758",
         "3",
         "102"
        ],
        [
         "22",
         "47759",
         "3",
         "128"
        ],
        [
         "23",
         "47760",
         "3",
         "72"
        ],
        [
         "24",
         "47761",
         "3",
         "98"
        ],
        [
         "25",
         "47762",
         "3",
         "80"
        ],
        [
         "26",
         "47763",
         "3",
         "84"
        ],
        [
         "27",
         "47764",
         "4",
         "126"
        ],
        [
         "28",
         "47765",
         "4",
         "118"
        ],
        [
         "29",
         "47766",
         "4",
         "160"
        ],
        [
         "30",
         "47767",
         "4",
         "84"
        ],
        [
         "31",
         "47768",
         "4",
         "58"
        ],
        [
         "32",
         "47769",
         "4",
         "48"
        ],
        [
         "33",
         "47770",
         "4",
         "154"
        ],
        [
         "34",
         "47771",
         "4",
         "136"
        ],
        [
         "35",
         "47772",
         "5",
         "52"
        ],
        [
         "36",
         "47773",
         "5",
         "44"
        ],
        [
         "37",
         "47774",
         "5",
         "42"
        ],
        [
         "38",
         "47775",
         "5",
         "54"
        ],
        [
         "39",
         "47776",
         "5",
         "52"
        ],
        [
         "40",
         "47777",
         "5",
         "62"
        ],
        [
         "41",
         "47778",
         "5",
         "40"
        ],
        [
         "42",
         "47779",
         "6",
         "22"
        ],
        [
         "43",
         "47780",
         "6",
         "16"
        ],
        [
         "44",
         "47781",
         "6",
         "12"
        ],
        [
         "45",
         "47782",
         "6",
         "14"
        ],
        [
         "46",
         "47783",
         "6",
         "20"
        ],
        [
         "47",
         "47784",
         "6",
         "16"
        ],
        [
         "48",
         "47785",
         "7",
         "38"
        ],
        [
         "49",
         "47786",
         "7",
         "46"
        ]
       ],
       "shape": {
        "columns": 3,
        "rows": 37757
       }
      },
      "text/html": [
       "<div>\n",
       "<style scoped>\n",
       "    .dataframe tbody tr th:only-of-type {\n",
       "        vertical-align: middle;\n",
       "    }\n",
       "\n",
       "    .dataframe tbody tr th {\n",
       "        vertical-align: top;\n",
       "    }\n",
       "\n",
       "    .dataframe thead th {\n",
       "        text-align: right;\n",
       "    }\n",
       "</style>\n",
       "<table border=\"1\" class=\"dataframe\">\n",
       "  <thead>\n",
       "    <tr style=\"text-align: right;\">\n",
       "      <th></th>\n",
       "      <th>ORDER_DETAIL_CODE</th>\n",
       "      <th>PRODUCT_NUMBER</th>\n",
       "      <th>QUANTITY</th>\n",
       "    </tr>\n",
       "  </thead>\n",
       "  <tbody>\n",
       "    <tr>\n",
       "      <th>0</th>\n",
       "      <td>47737</td>\n",
       "      <td>1</td>\n",
       "      <td>84</td>\n",
       "    </tr>\n",
       "    <tr>\n",
       "      <th>1</th>\n",
       "      <td>47738</td>\n",
       "      <td>1</td>\n",
       "      <td>126</td>\n",
       "    </tr>\n",
       "    <tr>\n",
       "      <th>2</th>\n",
       "      <td>47739</td>\n",
       "      <td>1</td>\n",
       "      <td>122</td>\n",
       "    </tr>\n",
       "    <tr>\n",
       "      <th>3</th>\n",
       "      <td>47740</td>\n",
       "      <td>1</td>\n",
       "      <td>122</td>\n",
       "    </tr>\n",
       "    <tr>\n",
       "      <th>4</th>\n",
       "      <td>47741</td>\n",
       "      <td>1</td>\n",
       "      <td>272</td>\n",
       "    </tr>\n",
       "    <tr>\n",
       "      <th>...</th>\n",
       "      <td>...</td>\n",
       "      <td>...</td>\n",
       "      <td>...</td>\n",
       "    </tr>\n",
       "    <tr>\n",
       "      <th>37752</th>\n",
       "      <td>115289</td>\n",
       "      <td>112</td>\n",
       "      <td>70</td>\n",
       "    </tr>\n",
       "    <tr>\n",
       "      <th>37753</th>\n",
       "      <td>115290</td>\n",
       "      <td>113</td>\n",
       "      <td>44</td>\n",
       "    </tr>\n",
       "    <tr>\n",
       "      <th>37754</th>\n",
       "      <td>115291</td>\n",
       "      <td>114</td>\n",
       "      <td>8</td>\n",
       "    </tr>\n",
       "    <tr>\n",
       "      <th>37755</th>\n",
       "      <td>115292</td>\n",
       "      <td>115</td>\n",
       "      <td>24</td>\n",
       "    </tr>\n",
       "    <tr>\n",
       "      <th>37756</th>\n",
       "      <td>115293</td>\n",
       "      <td>115</td>\n",
       "      <td>56</td>\n",
       "    </tr>\n",
       "  </tbody>\n",
       "</table>\n",
       "<p>37757 rows × 3 columns</p>\n",
       "</div>"
      ],
      "text/plain": [
       "       ORDER_DETAIL_CODE  PRODUCT_NUMBER  QUANTITY\n",
       "0                  47737               1        84\n",
       "1                  47738               1       126\n",
       "2                  47739               1       122\n",
       "3                  47740               1       122\n",
       "4                  47741               1       272\n",
       "...                  ...             ...       ...\n",
       "37752             115289             112        70\n",
       "37753             115290             113        44\n",
       "37754             115291             114         8\n",
       "37755             115292             115        24\n",
       "37756             115293             115        56\n",
       "\n",
       "[37757 rows x 3 columns]"
      ]
     },
     "execution_count": 5,
     "metadata": {},
     "output_type": "execute_result"
    }
   ],
   "source": [
    "od_df = pd.read_sql(\"SELECT * FROM ORDER_DETAILS\", conn)\n",
    "od_df= od_df.loc[: , ['ORDER_DETAIL_CODE', 'PRODUCT_NUMBER', 'QUANTITY']]\n",
    "od_df"
   ]
  },
  {
   "cell_type": "code",
   "execution_count": 6,
   "id": "fcf88c76",
   "metadata": {},
   "outputs": [
    {
     "data": {
      "application/vnd.microsoft.datawrangler.viewer.v0+json": {
       "columns": [
        {
         "name": "index",
         "rawType": "int64",
         "type": "integer"
        },
        {
         "name": "ORDER_DETAIL_CODE",
         "rawType": "int64",
         "type": "integer"
        },
        {
         "name": "RETURN_REASON_CODE",
         "rawType": "int64",
         "type": "integer"
        },
        {
         "name": "RETURN_QUANTITY",
         "rawType": "int64",
         "type": "integer"
        }
       ],
       "conversionMethod": "pd.DataFrame",
       "ref": "ad931110-4aee-4c61-980b-4fe8535c5d8d",
       "rows": [
        [
         "0",
         "84858",
         "5",
         "8"
        ],
        [
         "1",
         "84440",
         "2",
         "2"
        ],
        [
         "2",
         "84867",
         "4",
         "22"
        ],
        [
         "3",
         "84873",
         "3",
         "20"
        ],
        [
         "4",
         "84488",
         "1",
         "2"
        ],
        [
         "5",
         "84493",
         "1",
         "2"
        ],
        [
         "6",
         "85011",
         "2",
         "2"
        ],
        [
         "7",
         "84548",
         "3",
         "16"
        ],
        [
         "8",
         "85027",
         "2",
         "4"
        ],
        [
         "9",
         "85850",
         "5",
         "30"
        ],
        [
         "10",
         "85033",
         "3",
         "32"
        ],
        [
         "11",
         "85044",
         "1",
         "4"
        ],
        [
         "12",
         "84583",
         "2",
         "2"
        ],
        [
         "13",
         "85080",
         "1",
         "2"
        ],
        [
         "14",
         "85095",
         "1",
         "4"
        ],
        [
         "15",
         "85105",
         "1",
         "8"
        ],
        [
         "16",
         "85108",
         "4",
         "64"
        ],
        [
         "17",
         "85168",
         "5",
         "12"
        ],
        [
         "18",
         "86051",
         "5",
         "24"
        ],
        [
         "19",
         "86087",
         "1",
         "4"
        ],
        [
         "20",
         "84631",
         "1",
         "2"
        ],
        [
         "21",
         "86241",
         "1",
         "2"
        ],
        [
         "22",
         "111056",
         "1",
         "2"
        ],
        [
         "23",
         "111756",
         "1",
         "4"
        ],
        [
         "24",
         "111107",
         "5",
         "82"
        ],
        [
         "25",
         "111150",
         "3",
         "10"
        ],
        [
         "26",
         "111214",
         "2",
         "2"
        ],
        [
         "27",
         "111921",
         "2",
         "4"
        ],
        [
         "28",
         "111245",
         "2",
         "2"
        ],
        [
         "29",
         "111947",
         "1",
         "6"
        ],
        [
         "30",
         "112039",
         "1",
         "4"
        ],
        [
         "31",
         "111373",
         "1",
         "2"
        ],
        [
         "32",
         "111378",
         "2",
         "2"
        ],
        [
         "33",
         "112081",
         "5",
         "28"
        ],
        [
         "34",
         "112178",
         "2",
         "2"
        ],
        [
         "35",
         "112219",
         "2",
         "2"
        ],
        [
         "36",
         "111545",
         "1",
         "2"
        ],
        [
         "37",
         "111550",
         "4",
         "16"
        ],
        [
         "38",
         "47743",
         "3",
         "104"
        ],
        [
         "39",
         "47755",
         "2",
         "4"
        ],
        [
         "40",
         "47767",
         "2",
         "6"
        ],
        [
         "41",
         "47776",
         "3",
         "52"
        ],
        [
         "42",
         "47783",
         "4",
         "20"
        ],
        [
         "43",
         "47785",
         "5",
         "38"
        ],
        [
         "44",
         "47824",
         "1",
         "4"
        ],
        [
         "45",
         "47827",
         "5",
         "154"
        ],
        [
         "46",
         "48596",
         "1",
         "8"
        ],
        [
         "47",
         "48601",
         "5",
         "32"
        ],
        [
         "48",
         "48605",
         "3",
         "388"
        ],
        [
         "49",
         "49576",
         "5",
         "160"
        ]
       ],
       "shape": {
        "columns": 3,
        "rows": 619
       }
      },
      "text/html": [
       "<div>\n",
       "<style scoped>\n",
       "    .dataframe tbody tr th:only-of-type {\n",
       "        vertical-align: middle;\n",
       "    }\n",
       "\n",
       "    .dataframe tbody tr th {\n",
       "        vertical-align: top;\n",
       "    }\n",
       "\n",
       "    .dataframe thead th {\n",
       "        text-align: right;\n",
       "    }\n",
       "</style>\n",
       "<table border=\"1\" class=\"dataframe\">\n",
       "  <thead>\n",
       "    <tr style=\"text-align: right;\">\n",
       "      <th></th>\n",
       "      <th>ORDER_DETAIL_CODE</th>\n",
       "      <th>RETURN_REASON_CODE</th>\n",
       "      <th>RETURN_QUANTITY</th>\n",
       "    </tr>\n",
       "  </thead>\n",
       "  <tbody>\n",
       "    <tr>\n",
       "      <th>0</th>\n",
       "      <td>84858</td>\n",
       "      <td>5</td>\n",
       "      <td>8</td>\n",
       "    </tr>\n",
       "    <tr>\n",
       "      <th>1</th>\n",
       "      <td>84440</td>\n",
       "      <td>2</td>\n",
       "      <td>2</td>\n",
       "    </tr>\n",
       "    <tr>\n",
       "      <th>2</th>\n",
       "      <td>84867</td>\n",
       "      <td>4</td>\n",
       "      <td>22</td>\n",
       "    </tr>\n",
       "    <tr>\n",
       "      <th>3</th>\n",
       "      <td>84873</td>\n",
       "      <td>3</td>\n",
       "      <td>20</td>\n",
       "    </tr>\n",
       "    <tr>\n",
       "      <th>4</th>\n",
       "      <td>84488</td>\n",
       "      <td>1</td>\n",
       "      <td>2</td>\n",
       "    </tr>\n",
       "    <tr>\n",
       "      <th>...</th>\n",
       "      <td>...</td>\n",
       "      <td>...</td>\n",
       "      <td>...</td>\n",
       "    </tr>\n",
       "    <tr>\n",
       "      <th>614</th>\n",
       "      <td>114967</td>\n",
       "      <td>1</td>\n",
       "      <td>12</td>\n",
       "    </tr>\n",
       "    <tr>\n",
       "      <th>615</th>\n",
       "      <td>114972</td>\n",
       "      <td>3</td>\n",
       "      <td>24</td>\n",
       "    </tr>\n",
       "    <tr>\n",
       "      <th>616</th>\n",
       "      <td>114983</td>\n",
       "      <td>5</td>\n",
       "      <td>66</td>\n",
       "    </tr>\n",
       "    <tr>\n",
       "      <th>617</th>\n",
       "      <td>115215</td>\n",
       "      <td>4</td>\n",
       "      <td>64</td>\n",
       "    </tr>\n",
       "    <tr>\n",
       "      <th>618</th>\n",
       "      <td>114848</td>\n",
       "      <td>3</td>\n",
       "      <td>82</td>\n",
       "    </tr>\n",
       "  </tbody>\n",
       "</table>\n",
       "<p>619 rows × 3 columns</p>\n",
       "</div>"
      ],
      "text/plain": [
       "     ORDER_DETAIL_CODE  RETURN_REASON_CODE  RETURN_QUANTITY\n",
       "0                84858                   5                8\n",
       "1                84440                   2                2\n",
       "2                84867                   4               22\n",
       "3                84873                   3               20\n",
       "4                84488                   1                2\n",
       "..                 ...                 ...              ...\n",
       "614             114967                   1               12\n",
       "615             114972                   3               24\n",
       "616             114983                   5               66\n",
       "617             115215                   4               64\n",
       "618             114848                   3               82\n",
       "\n",
       "[619 rows x 3 columns]"
      ]
     },
     "execution_count": 6,
     "metadata": {},
     "output_type": "execute_result"
    }
   ],
   "source": [
    "ri_df = pd.read_sql(\"SELECT * FROM RETURNED_ITEM\", conn)\n",
    "ri_df= ri_df.loc[: , ['ORDER_DETAIL_CODE', 'RETURN_REASON_CODE', 'RETURN_QUANTITY']]\n",
    "ri_df"
   ]
  },
  {
   "cell_type": "code",
   "execution_count": 7,
   "id": "9bb917e6",
   "metadata": {},
   "outputs": [
    {
     "data": {
      "application/vnd.microsoft.datawrangler.viewer.v0+json": {
       "columns": [
        {
         "name": "index",
         "rawType": "int64",
         "type": "integer"
        },
        {
         "name": "RETURN_REASON_CODE",
         "rawType": "int64",
         "type": "integer"
        },
        {
         "name": "RETURN_DESCRIPTION_EN",
         "rawType": "object",
         "type": "string"
        }
       ],
       "conversionMethod": "pd.DataFrame",
       "ref": "94cd7531-1caf-49b7-9cc1-fd7402948606",
       "rows": [
        [
         "0",
         "1",
         "Defective product"
        ],
        [
         "1",
         "2",
         "Incomplete product"
        ],
        [
         "2",
         "3",
         "Wrong product ordered"
        ],
        [
         "3",
         "4",
         "Wrong product shipped"
        ],
        [
         "4",
         "5",
         "Unsatisfactory product"
        ]
       ],
       "shape": {
        "columns": 2,
        "rows": 5
       }
      },
      "text/html": [
       "<div>\n",
       "<style scoped>\n",
       "    .dataframe tbody tr th:only-of-type {\n",
       "        vertical-align: middle;\n",
       "    }\n",
       "\n",
       "    .dataframe tbody tr th {\n",
       "        vertical-align: top;\n",
       "    }\n",
       "\n",
       "    .dataframe thead th {\n",
       "        text-align: right;\n",
       "    }\n",
       "</style>\n",
       "<table border=\"1\" class=\"dataframe\">\n",
       "  <thead>\n",
       "    <tr style=\"text-align: right;\">\n",
       "      <th></th>\n",
       "      <th>RETURN_REASON_CODE</th>\n",
       "      <th>RETURN_DESCRIPTION_EN</th>\n",
       "    </tr>\n",
       "  </thead>\n",
       "  <tbody>\n",
       "    <tr>\n",
       "      <th>0</th>\n",
       "      <td>1</td>\n",
       "      <td>Defective product</td>\n",
       "    </tr>\n",
       "    <tr>\n",
       "      <th>1</th>\n",
       "      <td>2</td>\n",
       "      <td>Incomplete product</td>\n",
       "    </tr>\n",
       "    <tr>\n",
       "      <th>2</th>\n",
       "      <td>3</td>\n",
       "      <td>Wrong product ordered</td>\n",
       "    </tr>\n",
       "    <tr>\n",
       "      <th>3</th>\n",
       "      <td>4</td>\n",
       "      <td>Wrong product shipped</td>\n",
       "    </tr>\n",
       "    <tr>\n",
       "      <th>4</th>\n",
       "      <td>5</td>\n",
       "      <td>Unsatisfactory product</td>\n",
       "    </tr>\n",
       "  </tbody>\n",
       "</table>\n",
       "</div>"
      ],
      "text/plain": [
       "   RETURN_REASON_CODE   RETURN_DESCRIPTION_EN\n",
       "0                   1       Defective product\n",
       "1                   2      Incomplete product\n",
       "2                   3   Wrong product ordered\n",
       "3                   4   Wrong product shipped\n",
       "4                   5  Unsatisfactory product"
      ]
     },
     "execution_count": 7,
     "metadata": {},
     "output_type": "execute_result"
    }
   ],
   "source": [
    "rr_df = pd.read_sql(\"SELECT * FROM RETURN_REASON\", conn)\n",
    "rr_df"
   ]
  },
  {
   "cell_type": "code",
   "execution_count": 8,
   "id": "9365099b",
   "metadata": {},
   "outputs": [
    {
     "data": {
      "application/vnd.microsoft.datawrangler.viewer.v0+json": {
       "columns": [
        {
         "name": "index",
         "rawType": "int64",
         "type": "integer"
        },
        {
         "name": "RETURN_REASON_CODE",
         "rawType": "int64",
         "type": "integer"
        },
        {
         "name": "reason_Defective product",
         "rawType": "bool",
         "type": "boolean"
        },
        {
         "name": "reason_Incomplete product",
         "rawType": "bool",
         "type": "boolean"
        },
        {
         "name": "reason_Unsatisfactory product",
         "rawType": "bool",
         "type": "boolean"
        },
        {
         "name": "reason_Wrong product ordered",
         "rawType": "bool",
         "type": "boolean"
        },
        {
         "name": "reason_Wrong product shipped",
         "rawType": "bool",
         "type": "boolean"
        }
       ],
       "conversionMethod": "pd.DataFrame",
       "ref": "03dd06b9-e532-46e9-ac61-22045da33904",
       "rows": [
        [
         "0",
         "1",
         "True",
         "False",
         "False",
         "False",
         "False"
        ],
        [
         "1",
         "2",
         "False",
         "True",
         "False",
         "False",
         "False"
        ],
        [
         "2",
         "3",
         "False",
         "False",
         "False",
         "True",
         "False"
        ],
        [
         "3",
         "4",
         "False",
         "False",
         "False",
         "False",
         "True"
        ],
        [
         "4",
         "5",
         "False",
         "False",
         "True",
         "False",
         "False"
        ]
       ],
       "shape": {
        "columns": 6,
        "rows": 5
       }
      },
      "text/html": [
       "<div>\n",
       "<style scoped>\n",
       "    .dataframe tbody tr th:only-of-type {\n",
       "        vertical-align: middle;\n",
       "    }\n",
       "\n",
       "    .dataframe tbody tr th {\n",
       "        vertical-align: top;\n",
       "    }\n",
       "\n",
       "    .dataframe thead th {\n",
       "        text-align: right;\n",
       "    }\n",
       "</style>\n",
       "<table border=\"1\" class=\"dataframe\">\n",
       "  <thead>\n",
       "    <tr style=\"text-align: right;\">\n",
       "      <th></th>\n",
       "      <th>RETURN_REASON_CODE</th>\n",
       "      <th>reason_Defective product</th>\n",
       "      <th>reason_Incomplete product</th>\n",
       "      <th>reason_Unsatisfactory product</th>\n",
       "      <th>reason_Wrong product ordered</th>\n",
       "      <th>reason_Wrong product shipped</th>\n",
       "    </tr>\n",
       "  </thead>\n",
       "  <tbody>\n",
       "    <tr>\n",
       "      <th>0</th>\n",
       "      <td>1</td>\n",
       "      <td>True</td>\n",
       "      <td>False</td>\n",
       "      <td>False</td>\n",
       "      <td>False</td>\n",
       "      <td>False</td>\n",
       "    </tr>\n",
       "    <tr>\n",
       "      <th>1</th>\n",
       "      <td>2</td>\n",
       "      <td>False</td>\n",
       "      <td>True</td>\n",
       "      <td>False</td>\n",
       "      <td>False</td>\n",
       "      <td>False</td>\n",
       "    </tr>\n",
       "    <tr>\n",
       "      <th>2</th>\n",
       "      <td>3</td>\n",
       "      <td>False</td>\n",
       "      <td>False</td>\n",
       "      <td>False</td>\n",
       "      <td>True</td>\n",
       "      <td>False</td>\n",
       "    </tr>\n",
       "    <tr>\n",
       "      <th>3</th>\n",
       "      <td>4</td>\n",
       "      <td>False</td>\n",
       "      <td>False</td>\n",
       "      <td>False</td>\n",
       "      <td>False</td>\n",
       "      <td>True</td>\n",
       "    </tr>\n",
       "    <tr>\n",
       "      <th>4</th>\n",
       "      <td>5</td>\n",
       "      <td>False</td>\n",
       "      <td>False</td>\n",
       "      <td>True</td>\n",
       "      <td>False</td>\n",
       "      <td>False</td>\n",
       "    </tr>\n",
       "  </tbody>\n",
       "</table>\n",
       "</div>"
      ],
      "text/plain": [
       "   RETURN_REASON_CODE  reason_Defective product  reason_Incomplete product  \\\n",
       "0                   1                      True                      False   \n",
       "1                   2                     False                       True   \n",
       "2                   3                     False                      False   \n",
       "3                   4                     False                      False   \n",
       "4                   5                     False                      False   \n",
       "\n",
       "   reason_Unsatisfactory product  reason_Wrong product ordered  \\\n",
       "0                          False                         False   \n",
       "1                          False                         False   \n",
       "2                          False                          True   \n",
       "3                          False                         False   \n",
       "4                           True                         False   \n",
       "\n",
       "   reason_Wrong product shipped  \n",
       "0                         False  \n",
       "1                         False  \n",
       "2                         False  \n",
       "3                          True  \n",
       "4                         False  "
      ]
     },
     "execution_count": 8,
     "metadata": {},
     "output_type": "execute_result"
    }
   ],
   "source": [
    "rr_dummies_dataframe = pd.get_dummies(rr_df, columns = ['RETURN_DESCRIPTION_EN'], prefix = 'reason')\n",
    "\n",
    "rr_dummies_dataframe = pd.concat([rr_df['RETURN_REASON_CODE'], \n",
    "                                  pd.get_dummies(rr_df['RETURN_DESCRIPTION_EN'], prefix='reason')], \n",
    "                                  axis=1)\n",
    "rr_dummies_dataframe"
   ]
  },
  {
   "cell_type": "markdown",
   "id": "8fd4d862",
   "metadata": {},
   "source": [
    "# snijden"
   ]
  },
  {
   "cell_type": "code",
   "execution_count": 9,
   "id": "b98e21b1",
   "metadata": {},
   "outputs": [
    {
     "data": {
      "application/vnd.microsoft.datawrangler.viewer.v0+json": {
       "columns": [
        {
         "name": "index",
         "rawType": "int64",
         "type": "integer"
        },
        {
         "name": "ORDER_DETAIL_CODE",
         "rawType": "int64",
         "type": "integer"
        },
        {
         "name": "PRODUCT_NUMBER",
         "rawType": "int64",
         "type": "integer"
        },
        {
         "name": "QUANTITY",
         "rawType": "int64",
         "type": "integer"
        },
        {
         "name": "RETURN_REASON_CODE",
         "rawType": "int64",
         "type": "integer"
        },
        {
         "name": "RETURN_QUANTITY",
         "rawType": "int64",
         "type": "integer"
        },
        {
         "name": "reason_Defective product",
         "rawType": "bool",
         "type": "boolean"
        },
        {
         "name": "reason_Incomplete product",
         "rawType": "bool",
         "type": "boolean"
        },
        {
         "name": "reason_Unsatisfactory product",
         "rawType": "bool",
         "type": "boolean"
        },
        {
         "name": "reason_Wrong product ordered",
         "rawType": "bool",
         "type": "boolean"
        },
        {
         "name": "reason_Wrong product shipped",
         "rawType": "bool",
         "type": "boolean"
        }
       ],
       "conversionMethod": "pd.DataFrame",
       "ref": "d76f4ed4-5dee-4179-b334-f0887b5d9b75",
       "rows": [
        [
         "0",
         "47743",
         "1",
         "104",
         "3",
         "104",
         "False",
         "False",
         "False",
         "True",
         "False"
        ],
        [
         "1",
         "47755",
         "2",
         "44",
         "2",
         "4",
         "False",
         "True",
         "False",
         "False",
         "False"
        ],
        [
         "2",
         "47767",
         "4",
         "84",
         "2",
         "6",
         "False",
         "True",
         "False",
         "False",
         "False"
        ],
        [
         "3",
         "47776",
         "5",
         "52",
         "3",
         "52",
         "False",
         "False",
         "False",
         "True",
         "False"
        ],
        [
         "4",
         "47783",
         "6",
         "20",
         "4",
         "20",
         "False",
         "False",
         "False",
         "False",
         "True"
        ],
        [
         "5",
         "47785",
         "7",
         "38",
         "5",
         "38",
         "False",
         "False",
         "True",
         "False",
         "False"
        ],
        [
         "6",
         "47824",
         "11",
         "38",
         "1",
         "4",
         "True",
         "False",
         "False",
         "False",
         "False"
        ],
        [
         "7",
         "47827",
         "12",
         "154",
         "5",
         "154",
         "False",
         "False",
         "True",
         "False",
         "False"
        ],
        [
         "8",
         "47998",
         "33",
         "208",
         "4",
         "208",
         "False",
         "False",
         "False",
         "False",
         "True"
        ],
        [
         "9",
         "48012",
         "35",
         "88",
         "5",
         "88",
         "False",
         "False",
         "True",
         "False",
         "False"
        ],
        [
         "10",
         "48028",
         "37",
         "112",
         "1",
         "8",
         "True",
         "False",
         "False",
         "False",
         "False"
        ],
        [
         "11",
         "48073",
         "63",
         "68",
         "2",
         "6",
         "False",
         "True",
         "False",
         "False",
         "False"
        ],
        [
         "12",
         "48120",
         "70",
         "24",
         "2",
         "2",
         "False",
         "True",
         "False",
         "False",
         "False"
        ],
        [
         "13",
         "48133",
         "72",
         "36",
         "2",
         "2",
         "False",
         "True",
         "False",
         "False",
         "False"
        ],
        [
         "14",
         "48182",
         "78",
         "68",
         "1",
         "2",
         "True",
         "False",
         "False",
         "False",
         "False"
        ],
        [
         "15",
         "48220",
         "83",
         "44",
         "1",
         "2",
         "True",
         "False",
         "False",
         "False",
         "False"
        ],
        [
         "16",
         "48227",
         "84",
         "52",
         "2",
         "2",
         "False",
         "True",
         "False",
         "False",
         "False"
        ],
        [
         "17",
         "48596",
         "15",
         "144",
         "1",
         "8",
         "True",
         "False",
         "False",
         "False",
         "False"
        ],
        [
         "18",
         "48601",
         "15",
         "32",
         "5",
         "32",
         "False",
         "False",
         "True",
         "False",
         "False"
        ],
        [
         "19",
         "48605",
         "16",
         "388",
         "3",
         "388",
         "False",
         "False",
         "False",
         "True",
         "False"
        ],
        [
         "20",
         "48713",
         "29",
         "152",
         "4",
         "152",
         "False",
         "False",
         "False",
         "False",
         "True"
        ],
        [
         "21",
         "48733",
         "31",
         "144",
         "2",
         "12",
         "False",
         "True",
         "False",
         "False",
         "False"
        ],
        [
         "22",
         "48769",
         "35",
         "264",
         "1",
         "24",
         "True",
         "False",
         "False",
         "False",
         "False"
        ],
        [
         "23",
         "48861",
         "47",
         "34",
         "1",
         "2",
         "True",
         "False",
         "False",
         "False",
         "False"
        ],
        [
         "24",
         "48902",
         "52",
         "30",
         "2",
         "2",
         "False",
         "True",
         "False",
         "False",
         "False"
        ],
        [
         "25",
         "48946",
         "56",
         "62",
         "2",
         "2",
         "False",
         "True",
         "False",
         "False",
         "False"
        ],
        [
         "26",
         "49029",
         "65",
         "40",
         "1",
         "2",
         "True",
         "False",
         "False",
         "False",
         "False"
        ],
        [
         "27",
         "49039",
         "67",
         "64",
         "2",
         "6",
         "False",
         "True",
         "False",
         "False",
         "False"
        ],
        [
         "28",
         "49067",
         "71",
         "32",
         "1",
         "2",
         "True",
         "False",
         "False",
         "False",
         "False"
        ],
        [
         "29",
         "49146",
         "81",
         "32",
         "2",
         "2",
         "False",
         "True",
         "False",
         "False",
         "False"
        ],
        [
         "30",
         "49159",
         "83",
         "72",
         "3",
         "72",
         "False",
         "False",
         "False",
         "True",
         "False"
        ],
        [
         "31",
         "49176",
         "85",
         "46",
         "2",
         "2",
         "False",
         "True",
         "False",
         "False",
         "False"
        ],
        [
         "32",
         "49363",
         "110",
         "34",
         "3",
         "34",
         "False",
         "False",
         "False",
         "True",
         "False"
        ],
        [
         "33",
         "49395",
         "115",
         "50",
         "5",
         "50",
         "False",
         "False",
         "True",
         "False",
         "False"
        ],
        [
         "34",
         "49576",
         "20",
         "160",
         "5",
         "160",
         "False",
         "False",
         "True",
         "False",
         "False"
        ],
        [
         "35",
         "49653",
         "29",
         "102",
         "1",
         "2",
         "True",
         "False",
         "False",
         "False",
         "False"
        ],
        [
         "36",
         "49665",
         "31",
         "214",
         "2",
         "6",
         "False",
         "True",
         "False",
         "False",
         "False"
        ],
        [
         "37",
         "49700",
         "34",
         "398",
         "2",
         "8",
         "False",
         "True",
         "False",
         "False",
         "False"
        ],
        [
         "38",
         "49723",
         "37",
         "90",
         "3",
         "90",
         "False",
         "False",
         "False",
         "True",
         "False"
        ],
        [
         "39",
         "49768",
         "42",
         "80",
         "2",
         "4",
         "False",
         "True",
         "False",
         "False",
         "False"
        ],
        [
         "40",
         "49858",
         "53",
         "66",
         "5",
         "66",
         "False",
         "False",
         "True",
         "False",
         "False"
        ],
        [
         "41",
         "49863",
         "54",
         "48",
         "2",
         "4",
         "False",
         "True",
         "False",
         "False",
         "False"
        ],
        [
         "42",
         "49893",
         "57",
         "68",
         "1",
         "4",
         "True",
         "False",
         "False",
         "False",
         "False"
        ],
        [
         "43",
         "50029",
         "74",
         "74",
         "1",
         "2",
         "True",
         "False",
         "False",
         "False",
         "False"
        ],
        [
         "44",
         "50047",
         "76",
         "120",
         "1",
         "2",
         "True",
         "False",
         "False",
         "False",
         "False"
        ],
        [
         "45",
         "50110",
         "85",
         "60",
         "2",
         "2",
         "False",
         "True",
         "False",
         "False",
         "False"
        ],
        [
         "46",
         "50150",
         "90",
         "168",
         "1",
         "8",
         "True",
         "False",
         "False",
         "False",
         "False"
        ],
        [
         "47",
         "50436",
         "14",
         "76",
         "1",
         "4",
         "True",
         "False",
         "False",
         "False",
         "False"
        ],
        [
         "48",
         "50491",
         "22",
         "20",
         "2",
         "2",
         "False",
         "True",
         "False",
         "False",
         "False"
        ],
        [
         "49",
         "50540",
         "29",
         "30",
         "3",
         "30",
         "False",
         "False",
         "False",
         "True",
         "False"
        ]
       ],
       "shape": {
        "columns": 10,
        "rows": 619
       }
      },
      "text/html": [
       "<div>\n",
       "<style scoped>\n",
       "    .dataframe tbody tr th:only-of-type {\n",
       "        vertical-align: middle;\n",
       "    }\n",
       "\n",
       "    .dataframe tbody tr th {\n",
       "        vertical-align: top;\n",
       "    }\n",
       "\n",
       "    .dataframe thead th {\n",
       "        text-align: right;\n",
       "    }\n",
       "</style>\n",
       "<table border=\"1\" class=\"dataframe\">\n",
       "  <thead>\n",
       "    <tr style=\"text-align: right;\">\n",
       "      <th></th>\n",
       "      <th>ORDER_DETAIL_CODE</th>\n",
       "      <th>PRODUCT_NUMBER</th>\n",
       "      <th>QUANTITY</th>\n",
       "      <th>RETURN_REASON_CODE</th>\n",
       "      <th>RETURN_QUANTITY</th>\n",
       "      <th>reason_Defective product</th>\n",
       "      <th>reason_Incomplete product</th>\n",
       "      <th>reason_Unsatisfactory product</th>\n",
       "      <th>reason_Wrong product ordered</th>\n",
       "      <th>reason_Wrong product shipped</th>\n",
       "    </tr>\n",
       "  </thead>\n",
       "  <tbody>\n",
       "    <tr>\n",
       "      <th>0</th>\n",
       "      <td>47743</td>\n",
       "      <td>1</td>\n",
       "      <td>104</td>\n",
       "      <td>3</td>\n",
       "      <td>104</td>\n",
       "      <td>False</td>\n",
       "      <td>False</td>\n",
       "      <td>False</td>\n",
       "      <td>True</td>\n",
       "      <td>False</td>\n",
       "    </tr>\n",
       "    <tr>\n",
       "      <th>1</th>\n",
       "      <td>47755</td>\n",
       "      <td>2</td>\n",
       "      <td>44</td>\n",
       "      <td>2</td>\n",
       "      <td>4</td>\n",
       "      <td>False</td>\n",
       "      <td>True</td>\n",
       "      <td>False</td>\n",
       "      <td>False</td>\n",
       "      <td>False</td>\n",
       "    </tr>\n",
       "    <tr>\n",
       "      <th>2</th>\n",
       "      <td>47767</td>\n",
       "      <td>4</td>\n",
       "      <td>84</td>\n",
       "      <td>2</td>\n",
       "      <td>6</td>\n",
       "      <td>False</td>\n",
       "      <td>True</td>\n",
       "      <td>False</td>\n",
       "      <td>False</td>\n",
       "      <td>False</td>\n",
       "    </tr>\n",
       "    <tr>\n",
       "      <th>3</th>\n",
       "      <td>47776</td>\n",
       "      <td>5</td>\n",
       "      <td>52</td>\n",
       "      <td>3</td>\n",
       "      <td>52</td>\n",
       "      <td>False</td>\n",
       "      <td>False</td>\n",
       "      <td>False</td>\n",
       "      <td>True</td>\n",
       "      <td>False</td>\n",
       "    </tr>\n",
       "    <tr>\n",
       "      <th>4</th>\n",
       "      <td>47783</td>\n",
       "      <td>6</td>\n",
       "      <td>20</td>\n",
       "      <td>4</td>\n",
       "      <td>20</td>\n",
       "      <td>False</td>\n",
       "      <td>False</td>\n",
       "      <td>False</td>\n",
       "      <td>False</td>\n",
       "      <td>True</td>\n",
       "    </tr>\n",
       "    <tr>\n",
       "      <th>...</th>\n",
       "      <td>...</td>\n",
       "      <td>...</td>\n",
       "      <td>...</td>\n",
       "      <td>...</td>\n",
       "      <td>...</td>\n",
       "      <td>...</td>\n",
       "      <td>...</td>\n",
       "      <td>...</td>\n",
       "      <td>...</td>\n",
       "      <td>...</td>\n",
       "    </tr>\n",
       "    <tr>\n",
       "      <th>614</th>\n",
       "      <td>115101</td>\n",
       "      <td>13</td>\n",
       "      <td>106</td>\n",
       "      <td>2</td>\n",
       "      <td>10</td>\n",
       "      <td>False</td>\n",
       "      <td>True</td>\n",
       "      <td>False</td>\n",
       "      <td>False</td>\n",
       "      <td>False</td>\n",
       "    </tr>\n",
       "    <tr>\n",
       "      <th>615</th>\n",
       "      <td>115142</td>\n",
       "      <td>30</td>\n",
       "      <td>94</td>\n",
       "      <td>1</td>\n",
       "      <td>10</td>\n",
       "      <td>True</td>\n",
       "      <td>False</td>\n",
       "      <td>False</td>\n",
       "      <td>False</td>\n",
       "      <td>False</td>\n",
       "    </tr>\n",
       "    <tr>\n",
       "      <th>616</th>\n",
       "      <td>115144</td>\n",
       "      <td>31</td>\n",
       "      <td>240</td>\n",
       "      <td>2</td>\n",
       "      <td>8</td>\n",
       "      <td>False</td>\n",
       "      <td>True</td>\n",
       "      <td>False</td>\n",
       "      <td>False</td>\n",
       "      <td>False</td>\n",
       "    </tr>\n",
       "    <tr>\n",
       "      <th>617</th>\n",
       "      <td>115189</td>\n",
       "      <td>60</td>\n",
       "      <td>82</td>\n",
       "      <td>1</td>\n",
       "      <td>4</td>\n",
       "      <td>True</td>\n",
       "      <td>False</td>\n",
       "      <td>False</td>\n",
       "      <td>False</td>\n",
       "      <td>False</td>\n",
       "    </tr>\n",
       "    <tr>\n",
       "      <th>618</th>\n",
       "      <td>115215</td>\n",
       "      <td>73</td>\n",
       "      <td>64</td>\n",
       "      <td>4</td>\n",
       "      <td>64</td>\n",
       "      <td>False</td>\n",
       "      <td>False</td>\n",
       "      <td>False</td>\n",
       "      <td>False</td>\n",
       "      <td>True</td>\n",
       "    </tr>\n",
       "  </tbody>\n",
       "</table>\n",
       "<p>619 rows × 10 columns</p>\n",
       "</div>"
      ],
      "text/plain": [
       "     ORDER_DETAIL_CODE  PRODUCT_NUMBER  QUANTITY  RETURN_REASON_CODE  \\\n",
       "0                47743               1       104                   3   \n",
       "1                47755               2        44                   2   \n",
       "2                47767               4        84                   2   \n",
       "3                47776               5        52                   3   \n",
       "4                47783               6        20                   4   \n",
       "..                 ...             ...       ...                 ...   \n",
       "614             115101              13       106                   2   \n",
       "615             115142              30        94                   1   \n",
       "616             115144              31       240                   2   \n",
       "617             115189              60        82                   1   \n",
       "618             115215              73        64                   4   \n",
       "\n",
       "     RETURN_QUANTITY  reason_Defective product  reason_Incomplete product  \\\n",
       "0                104                     False                      False   \n",
       "1                  4                     False                       True   \n",
       "2                  6                     False                       True   \n",
       "3                 52                     False                      False   \n",
       "4                 20                     False                      False   \n",
       "..               ...                       ...                        ...   \n",
       "614               10                     False                       True   \n",
       "615               10                      True                      False   \n",
       "616                8                     False                       True   \n",
       "617                4                      True                      False   \n",
       "618               64                     False                      False   \n",
       "\n",
       "     reason_Unsatisfactory product  reason_Wrong product ordered  \\\n",
       "0                            False                          True   \n",
       "1                            False                         False   \n",
       "2                            False                         False   \n",
       "3                            False                          True   \n",
       "4                            False                         False   \n",
       "..                             ...                           ...   \n",
       "614                          False                         False   \n",
       "615                          False                         False   \n",
       "616                          False                         False   \n",
       "617                          False                         False   \n",
       "618                          False                         False   \n",
       "\n",
       "     reason_Wrong product shipped  \n",
       "0                           False  \n",
       "1                           False  \n",
       "2                           False  \n",
       "3                           False  \n",
       "4                            True  \n",
       "..                            ...  \n",
       "614                         False  \n",
       "615                         False  \n",
       "616                         False  \n",
       "617                         False  \n",
       "618                          True  \n",
       "\n",
       "[619 rows x 10 columns]"
      ]
     },
     "execution_count": 9,
     "metadata": {},
     "output_type": "execute_result"
    }
   ],
   "source": [
    "df = pd.merge(od_df, ri_df, on='ORDER_DETAIL_CODE', how='inner')\n",
    "df = pd.merge(df, rr_dummies_dataframe, on='RETURN_REASON_CODE', how='inner')\n",
    "df = df.dropna(subset=['RETURN_REASON_CODE'])\n",
    "df"
   ]
  },
  {
   "cell_type": "code",
   "execution_count": 10,
   "id": "9d4543e9",
   "metadata": {},
   "outputs": [
    {
     "data": {
      "application/vnd.microsoft.datawrangler.viewer.v0+json": {
       "columns": [
        {
         "name": "index",
         "rawType": "int64",
         "type": "integer"
        },
        {
         "name": "ORDER_DETAIL_CODE",
         "rawType": "int64",
         "type": "integer"
        },
        {
         "name": "PRODUCT_NUMBER",
         "rawType": "int64",
         "type": "integer"
        },
        {
         "name": "QUANTITY",
         "rawType": "int64",
         "type": "integer"
        },
        {
         "name": "RETURN_QUANTITY",
         "rawType": "int64",
         "type": "integer"
        },
        {
         "name": "reason_Defective product",
         "rawType": "bool",
         "type": "boolean"
        },
        {
         "name": "reason_Incomplete product",
         "rawType": "bool",
         "type": "boolean"
        },
        {
         "name": "reason_Unsatisfactory product",
         "rawType": "bool",
         "type": "boolean"
        },
        {
         "name": "reason_Wrong product ordered",
         "rawType": "bool",
         "type": "boolean"
        },
        {
         "name": "reason_Wrong product shipped",
         "rawType": "bool",
         "type": "boolean"
        }
       ],
       "conversionMethod": "pd.DataFrame",
       "ref": "f844da35-18a8-4f2a-bfca-e3f0e5fd6c15",
       "rows": [
        [
         "0",
         "47743",
         "1",
         "104",
         "104",
         "False",
         "False",
         "False",
         "True",
         "False"
        ],
        [
         "1",
         "47755",
         "2",
         "44",
         "4",
         "False",
         "True",
         "False",
         "False",
         "False"
        ],
        [
         "2",
         "47767",
         "4",
         "84",
         "6",
         "False",
         "True",
         "False",
         "False",
         "False"
        ],
        [
         "3",
         "47776",
         "5",
         "52",
         "52",
         "False",
         "False",
         "False",
         "True",
         "False"
        ],
        [
         "4",
         "47783",
         "6",
         "20",
         "20",
         "False",
         "False",
         "False",
         "False",
         "True"
        ],
        [
         "5",
         "47785",
         "7",
         "38",
         "38",
         "False",
         "False",
         "True",
         "False",
         "False"
        ],
        [
         "6",
         "47824",
         "11",
         "38",
         "4",
         "True",
         "False",
         "False",
         "False",
         "False"
        ],
        [
         "7",
         "47827",
         "12",
         "154",
         "154",
         "False",
         "False",
         "True",
         "False",
         "False"
        ],
        [
         "8",
         "47998",
         "33",
         "208",
         "208",
         "False",
         "False",
         "False",
         "False",
         "True"
        ],
        [
         "9",
         "48012",
         "35",
         "88",
         "88",
         "False",
         "False",
         "True",
         "False",
         "False"
        ],
        [
         "10",
         "48028",
         "37",
         "112",
         "8",
         "True",
         "False",
         "False",
         "False",
         "False"
        ],
        [
         "11",
         "48073",
         "63",
         "68",
         "6",
         "False",
         "True",
         "False",
         "False",
         "False"
        ],
        [
         "12",
         "48120",
         "70",
         "24",
         "2",
         "False",
         "True",
         "False",
         "False",
         "False"
        ],
        [
         "13",
         "48133",
         "72",
         "36",
         "2",
         "False",
         "True",
         "False",
         "False",
         "False"
        ],
        [
         "14",
         "48182",
         "78",
         "68",
         "2",
         "True",
         "False",
         "False",
         "False",
         "False"
        ],
        [
         "15",
         "48220",
         "83",
         "44",
         "2",
         "True",
         "False",
         "False",
         "False",
         "False"
        ],
        [
         "16",
         "48227",
         "84",
         "52",
         "2",
         "False",
         "True",
         "False",
         "False",
         "False"
        ],
        [
         "17",
         "48596",
         "15",
         "144",
         "8",
         "True",
         "False",
         "False",
         "False",
         "False"
        ],
        [
         "18",
         "48601",
         "15",
         "32",
         "32",
         "False",
         "False",
         "True",
         "False",
         "False"
        ],
        [
         "19",
         "48605",
         "16",
         "388",
         "388",
         "False",
         "False",
         "False",
         "True",
         "False"
        ],
        [
         "20",
         "48713",
         "29",
         "152",
         "152",
         "False",
         "False",
         "False",
         "False",
         "True"
        ],
        [
         "21",
         "48733",
         "31",
         "144",
         "12",
         "False",
         "True",
         "False",
         "False",
         "False"
        ],
        [
         "22",
         "48769",
         "35",
         "264",
         "24",
         "True",
         "False",
         "False",
         "False",
         "False"
        ],
        [
         "23",
         "48861",
         "47",
         "34",
         "2",
         "True",
         "False",
         "False",
         "False",
         "False"
        ],
        [
         "24",
         "48902",
         "52",
         "30",
         "2",
         "False",
         "True",
         "False",
         "False",
         "False"
        ],
        [
         "25",
         "48946",
         "56",
         "62",
         "2",
         "False",
         "True",
         "False",
         "False",
         "False"
        ],
        [
         "26",
         "49029",
         "65",
         "40",
         "2",
         "True",
         "False",
         "False",
         "False",
         "False"
        ],
        [
         "27",
         "49039",
         "67",
         "64",
         "6",
         "False",
         "True",
         "False",
         "False",
         "False"
        ],
        [
         "28",
         "49067",
         "71",
         "32",
         "2",
         "True",
         "False",
         "False",
         "False",
         "False"
        ],
        [
         "29",
         "49146",
         "81",
         "32",
         "2",
         "False",
         "True",
         "False",
         "False",
         "False"
        ],
        [
         "30",
         "49159",
         "83",
         "72",
         "72",
         "False",
         "False",
         "False",
         "True",
         "False"
        ],
        [
         "31",
         "49176",
         "85",
         "46",
         "2",
         "False",
         "True",
         "False",
         "False",
         "False"
        ],
        [
         "32",
         "49363",
         "110",
         "34",
         "34",
         "False",
         "False",
         "False",
         "True",
         "False"
        ],
        [
         "33",
         "49395",
         "115",
         "50",
         "50",
         "False",
         "False",
         "True",
         "False",
         "False"
        ],
        [
         "34",
         "49576",
         "20",
         "160",
         "160",
         "False",
         "False",
         "True",
         "False",
         "False"
        ],
        [
         "35",
         "49653",
         "29",
         "102",
         "2",
         "True",
         "False",
         "False",
         "False",
         "False"
        ],
        [
         "36",
         "49665",
         "31",
         "214",
         "6",
         "False",
         "True",
         "False",
         "False",
         "False"
        ],
        [
         "37",
         "49700",
         "34",
         "398",
         "8",
         "False",
         "True",
         "False",
         "False",
         "False"
        ],
        [
         "38",
         "49723",
         "37",
         "90",
         "90",
         "False",
         "False",
         "False",
         "True",
         "False"
        ],
        [
         "39",
         "49768",
         "42",
         "80",
         "4",
         "False",
         "True",
         "False",
         "False",
         "False"
        ],
        [
         "40",
         "49858",
         "53",
         "66",
         "66",
         "False",
         "False",
         "True",
         "False",
         "False"
        ],
        [
         "41",
         "49863",
         "54",
         "48",
         "4",
         "False",
         "True",
         "False",
         "False",
         "False"
        ],
        [
         "42",
         "49893",
         "57",
         "68",
         "4",
         "True",
         "False",
         "False",
         "False",
         "False"
        ],
        [
         "43",
         "50029",
         "74",
         "74",
         "2",
         "True",
         "False",
         "False",
         "False",
         "False"
        ],
        [
         "44",
         "50047",
         "76",
         "120",
         "2",
         "True",
         "False",
         "False",
         "False",
         "False"
        ],
        [
         "45",
         "50110",
         "85",
         "60",
         "2",
         "False",
         "True",
         "False",
         "False",
         "False"
        ],
        [
         "46",
         "50150",
         "90",
         "168",
         "8",
         "True",
         "False",
         "False",
         "False",
         "False"
        ],
        [
         "47",
         "50436",
         "14",
         "76",
         "4",
         "True",
         "False",
         "False",
         "False",
         "False"
        ],
        [
         "48",
         "50491",
         "22",
         "20",
         "2",
         "False",
         "True",
         "False",
         "False",
         "False"
        ],
        [
         "49",
         "50540",
         "29",
         "30",
         "30",
         "False",
         "False",
         "False",
         "True",
         "False"
        ]
       ],
       "shape": {
        "columns": 9,
        "rows": 619
       }
      },
      "text/html": [
       "<div>\n",
       "<style scoped>\n",
       "    .dataframe tbody tr th:only-of-type {\n",
       "        vertical-align: middle;\n",
       "    }\n",
       "\n",
       "    .dataframe tbody tr th {\n",
       "        vertical-align: top;\n",
       "    }\n",
       "\n",
       "    .dataframe thead th {\n",
       "        text-align: right;\n",
       "    }\n",
       "</style>\n",
       "<table border=\"1\" class=\"dataframe\">\n",
       "  <thead>\n",
       "    <tr style=\"text-align: right;\">\n",
       "      <th></th>\n",
       "      <th>ORDER_DETAIL_CODE</th>\n",
       "      <th>PRODUCT_NUMBER</th>\n",
       "      <th>QUANTITY</th>\n",
       "      <th>RETURN_QUANTITY</th>\n",
       "      <th>reason_Defective product</th>\n",
       "      <th>reason_Incomplete product</th>\n",
       "      <th>reason_Unsatisfactory product</th>\n",
       "      <th>reason_Wrong product ordered</th>\n",
       "      <th>reason_Wrong product shipped</th>\n",
       "    </tr>\n",
       "  </thead>\n",
       "  <tbody>\n",
       "    <tr>\n",
       "      <th>0</th>\n",
       "      <td>47743</td>\n",
       "      <td>1</td>\n",
       "      <td>104</td>\n",
       "      <td>104</td>\n",
       "      <td>False</td>\n",
       "      <td>False</td>\n",
       "      <td>False</td>\n",
       "      <td>True</td>\n",
       "      <td>False</td>\n",
       "    </tr>\n",
       "    <tr>\n",
       "      <th>1</th>\n",
       "      <td>47755</td>\n",
       "      <td>2</td>\n",
       "      <td>44</td>\n",
       "      <td>4</td>\n",
       "      <td>False</td>\n",
       "      <td>True</td>\n",
       "      <td>False</td>\n",
       "      <td>False</td>\n",
       "      <td>False</td>\n",
       "    </tr>\n",
       "    <tr>\n",
       "      <th>2</th>\n",
       "      <td>47767</td>\n",
       "      <td>4</td>\n",
       "      <td>84</td>\n",
       "      <td>6</td>\n",
       "      <td>False</td>\n",
       "      <td>True</td>\n",
       "      <td>False</td>\n",
       "      <td>False</td>\n",
       "      <td>False</td>\n",
       "    </tr>\n",
       "    <tr>\n",
       "      <th>3</th>\n",
       "      <td>47776</td>\n",
       "      <td>5</td>\n",
       "      <td>52</td>\n",
       "      <td>52</td>\n",
       "      <td>False</td>\n",
       "      <td>False</td>\n",
       "      <td>False</td>\n",
       "      <td>True</td>\n",
       "      <td>False</td>\n",
       "    </tr>\n",
       "    <tr>\n",
       "      <th>4</th>\n",
       "      <td>47783</td>\n",
       "      <td>6</td>\n",
       "      <td>20</td>\n",
       "      <td>20</td>\n",
       "      <td>False</td>\n",
       "      <td>False</td>\n",
       "      <td>False</td>\n",
       "      <td>False</td>\n",
       "      <td>True</td>\n",
       "    </tr>\n",
       "    <tr>\n",
       "      <th>...</th>\n",
       "      <td>...</td>\n",
       "      <td>...</td>\n",
       "      <td>...</td>\n",
       "      <td>...</td>\n",
       "      <td>...</td>\n",
       "      <td>...</td>\n",
       "      <td>...</td>\n",
       "      <td>...</td>\n",
       "      <td>...</td>\n",
       "    </tr>\n",
       "    <tr>\n",
       "      <th>614</th>\n",
       "      <td>115101</td>\n",
       "      <td>13</td>\n",
       "      <td>106</td>\n",
       "      <td>10</td>\n",
       "      <td>False</td>\n",
       "      <td>True</td>\n",
       "      <td>False</td>\n",
       "      <td>False</td>\n",
       "      <td>False</td>\n",
       "    </tr>\n",
       "    <tr>\n",
       "      <th>615</th>\n",
       "      <td>115142</td>\n",
       "      <td>30</td>\n",
       "      <td>94</td>\n",
       "      <td>10</td>\n",
       "      <td>True</td>\n",
       "      <td>False</td>\n",
       "      <td>False</td>\n",
       "      <td>False</td>\n",
       "      <td>False</td>\n",
       "    </tr>\n",
       "    <tr>\n",
       "      <th>616</th>\n",
       "      <td>115144</td>\n",
       "      <td>31</td>\n",
       "      <td>240</td>\n",
       "      <td>8</td>\n",
       "      <td>False</td>\n",
       "      <td>True</td>\n",
       "      <td>False</td>\n",
       "      <td>False</td>\n",
       "      <td>False</td>\n",
       "    </tr>\n",
       "    <tr>\n",
       "      <th>617</th>\n",
       "      <td>115189</td>\n",
       "      <td>60</td>\n",
       "      <td>82</td>\n",
       "      <td>4</td>\n",
       "      <td>True</td>\n",
       "      <td>False</td>\n",
       "      <td>False</td>\n",
       "      <td>False</td>\n",
       "      <td>False</td>\n",
       "    </tr>\n",
       "    <tr>\n",
       "      <th>618</th>\n",
       "      <td>115215</td>\n",
       "      <td>73</td>\n",
       "      <td>64</td>\n",
       "      <td>64</td>\n",
       "      <td>False</td>\n",
       "      <td>False</td>\n",
       "      <td>False</td>\n",
       "      <td>False</td>\n",
       "      <td>True</td>\n",
       "    </tr>\n",
       "  </tbody>\n",
       "</table>\n",
       "<p>619 rows × 9 columns</p>\n",
       "</div>"
      ],
      "text/plain": [
       "     ORDER_DETAIL_CODE  PRODUCT_NUMBER  QUANTITY  RETURN_QUANTITY  \\\n",
       "0                47743               1       104              104   \n",
       "1                47755               2        44                4   \n",
       "2                47767               4        84                6   \n",
       "3                47776               5        52               52   \n",
       "4                47783               6        20               20   \n",
       "..                 ...             ...       ...              ...   \n",
       "614             115101              13       106               10   \n",
       "615             115142              30        94               10   \n",
       "616             115144              31       240                8   \n",
       "617             115189              60        82                4   \n",
       "618             115215              73        64               64   \n",
       "\n",
       "     reason_Defective product  reason_Incomplete product  \\\n",
       "0                       False                      False   \n",
       "1                       False                       True   \n",
       "2                       False                       True   \n",
       "3                       False                      False   \n",
       "4                       False                      False   \n",
       "..                        ...                        ...   \n",
       "614                     False                       True   \n",
       "615                      True                      False   \n",
       "616                     False                       True   \n",
       "617                      True                      False   \n",
       "618                     False                      False   \n",
       "\n",
       "     reason_Unsatisfactory product  reason_Wrong product ordered  \\\n",
       "0                            False                          True   \n",
       "1                            False                         False   \n",
       "2                            False                         False   \n",
       "3                            False                          True   \n",
       "4                            False                         False   \n",
       "..                             ...                           ...   \n",
       "614                          False                         False   \n",
       "615                          False                         False   \n",
       "616                          False                         False   \n",
       "617                          False                         False   \n",
       "618                          False                         False   \n",
       "\n",
       "     reason_Wrong product shipped  \n",
       "0                           False  \n",
       "1                           False  \n",
       "2                           False  \n",
       "3                           False  \n",
       "4                            True  \n",
       "..                            ...  \n",
       "614                         False  \n",
       "615                         False  \n",
       "616                         False  \n",
       "617                         False  \n",
       "618                          True  \n",
       "\n",
       "[619 rows x 9 columns]"
      ]
     },
     "execution_count": 10,
     "metadata": {},
     "output_type": "execute_result"
    }
   ],
   "source": [
    "X = df.drop('RETURN_REASON_CODE', axis = 1)\n",
    "y = df.loc[:, ['RETURN_REASON_CODE']]\n",
    "X"
   ]
  },
  {
   "cell_type": "markdown",
   "id": "b64701df",
   "metadata": {},
   "source": [
    "# train test"
   ]
  },
  {
   "cell_type": "code",
   "execution_count": 11,
   "id": "27c29542",
   "metadata": {},
   "outputs": [],
   "source": [
    "X_train, X_test, y_train, y_test = train_test_split(\n",
    "    X,\n",
    "    y,\n",
    "    test_size = 0.15,\n",
    "    random_state=42\n",
    ")"
   ]
  },
  {
   "cell_type": "code",
   "execution_count": 12,
   "id": "aeed579c",
   "metadata": {},
   "outputs": [
    {
     "data": {
      "text/plain": [
       "['ORDER_DETAIL_CODE',\n",
       " 'PRODUCT_NUMBER',\n",
       " 'QUANTITY',\n",
       " 'RETURN_QUANTITY',\n",
       " 'reason_Defective product',\n",
       " 'reason_Incomplete product',\n",
       " 'reason_Unsatisfactory product',\n",
       " 'reason_Wrong product ordered',\n",
       " 'reason_Wrong product shipped']"
      ]
     },
     "execution_count": 12,
     "metadata": {},
     "output_type": "execute_result"
    }
   ],
   "source": [
    "list(X.columns)"
   ]
  },
  {
   "cell_type": "markdown",
   "id": "7705b483",
   "metadata": {},
   "source": [
    "# decision tree"
   ]
  },
  {
   "cell_type": "markdown",
   "id": "0e9813bb",
   "metadata": {},
   "source": [
    "### max depth 2"
   ]
  },
  {
   "cell_type": "code",
   "execution_count": 13,
   "id": "efb5f54e",
   "metadata": {},
   "outputs": [
    {
     "data": {
      "image/png": "[encoded data removed]",
      "text/plain": [
       "<Figure size 640x480 with 1 Axes>"
      ]
     },
     "metadata": {},
     "output_type": "display_data"
    }
   ],
   "source": [
    "dectree = DecisionTreeClassifier(max_depth = 2)\n",
    "dectree = dectree.fit(X_train, y_train)\n",
    "tree.plot_tree(dectree, feature_names = X.columns)\n",
    "plt.show()"
   ]
  },
  {
   "cell_type": "markdown",
   "id": "e353c65e",
   "metadata": {},
   "source": [
    "## df set"
   ]
  },
  {
   "cell_type": "code",
   "execution_count": 14,
   "id": "53e11a12",
   "metadata": {},
   "outputs": [
    {
     "data": {
      "application/vnd.microsoft.datawrangler.viewer.v0+json": {
       "columns": [
        {
         "name": "index",
         "rawType": "int64",
         "type": "integer"
        },
        {
         "name": "RETURN_REASON_CODE",
         "rawType": "int64",
         "type": "integer"
        },
        {
         "name": "predicted_return_reason_code",
         "rawType": "int64",
         "type": "integer"
        }
       ],
       "conversionMethod": "pd.DataFrame",
       "ref": "22754dac-948e-4302-8c4f-b8a97ab5ed1a",
       "rows": [
        [
         "0",
         "3",
         "5"
        ],
        [
         "1",
         "3",
         "5"
        ],
        [
         "2",
         "1",
         "1"
        ],
        [
         "3",
         "1",
         "1"
        ],
        [
         "4",
         "1",
         "1"
        ],
        [
         "5",
         "2",
         "2"
        ],
        [
         "6",
         "1",
         "1"
        ],
        [
         "7",
         "2",
         "2"
        ],
        [
         "8",
         "4",
         "5"
        ],
        [
         "9",
         "1",
         "1"
        ],
        [
         "10",
         "2",
         "2"
        ],
        [
         "11",
         "5",
         "5"
        ],
        [
         "12",
         "4",
         "5"
        ],
        [
         "13",
         "2",
         "2"
        ],
        [
         "14",
         "2",
         "2"
        ],
        [
         "15",
         "1",
         "1"
        ],
        [
         "16",
         "1",
         "1"
        ],
        [
         "17",
         "1",
         "1"
        ],
        [
         "18",
         "1",
         "1"
        ],
        [
         "19",
         "2",
         "2"
        ],
        [
         "20",
         "4",
         "5"
        ],
        [
         "21",
         "1",
         "1"
        ],
        [
         "22",
         "1",
         "1"
        ],
        [
         "23",
         "2",
         "2"
        ],
        [
         "24",
         "5",
         "5"
        ],
        [
         "25",
         "1",
         "1"
        ],
        [
         "26",
         "2",
         "2"
        ],
        [
         "27",
         "5",
         "5"
        ],
        [
         "28",
         "1",
         "1"
        ],
        [
         "29",
         "4",
         "5"
        ],
        [
         "30",
         "2",
         "2"
        ],
        [
         "31",
         "2",
         "2"
        ],
        [
         "32",
         "1",
         "1"
        ],
        [
         "33",
         "1",
         "1"
        ],
        [
         "34",
         "2",
         "2"
        ],
        [
         "35",
         "4",
         "5"
        ],
        [
         "36",
         "5",
         "5"
        ],
        [
         "37",
         "2",
         "2"
        ],
        [
         "38",
         "2",
         "2"
        ],
        [
         "39",
         "2",
         "2"
        ],
        [
         "40",
         "2",
         "2"
        ],
        [
         "41",
         "4",
         "5"
        ],
        [
         "42",
         "1",
         "1"
        ],
        [
         "43",
         "5",
         "5"
        ],
        [
         "44",
         "3",
         "5"
        ],
        [
         "45",
         "1",
         "1"
        ],
        [
         "46",
         "1",
         "1"
        ],
        [
         "47",
         "3",
         "5"
        ],
        [
         "48",
         "2",
         "2"
        ],
        [
         "49",
         "1",
         "1"
        ]
       ],
       "shape": {
        "columns": 2,
        "rows": 93
       }
      },
      "text/html": [
       "<div>\n",
       "<style scoped>\n",
       "    .dataframe tbody tr th:only-of-type {\n",
       "        vertical-align: middle;\n",
       "    }\n",
       "\n",
       "    .dataframe tbody tr th {\n",
       "        vertical-align: top;\n",
       "    }\n",
       "\n",
       "    .dataframe thead th {\n",
       "        text-align: right;\n",
       "    }\n",
       "</style>\n",
       "<table border=\"1\" class=\"dataframe\">\n",
       "  <thead>\n",
       "    <tr style=\"text-align: right;\">\n",
       "      <th></th>\n",
       "      <th>RETURN_REASON_CODE</th>\n",
       "      <th>predicted_return_reason_code</th>\n",
       "    </tr>\n",
       "  </thead>\n",
       "  <tbody>\n",
       "    <tr>\n",
       "      <th>0</th>\n",
       "      <td>3</td>\n",
       "      <td>5</td>\n",
       "    </tr>\n",
       "    <tr>\n",
       "      <th>1</th>\n",
       "      <td>3</td>\n",
       "      <td>5</td>\n",
       "    </tr>\n",
       "    <tr>\n",
       "      <th>2</th>\n",
       "      <td>1</td>\n",
       "      <td>1</td>\n",
       "    </tr>\n",
       "    <tr>\n",
       "      <th>3</th>\n",
       "      <td>1</td>\n",
       "      <td>1</td>\n",
       "    </tr>\n",
       "    <tr>\n",
       "      <th>4</th>\n",
       "      <td>1</td>\n",
       "      <td>1</td>\n",
       "    </tr>\n",
       "    <tr>\n",
       "      <th>...</th>\n",
       "      <td>...</td>\n",
       "      <td>...</td>\n",
       "    </tr>\n",
       "    <tr>\n",
       "      <th>88</th>\n",
       "      <td>2</td>\n",
       "      <td>2</td>\n",
       "    </tr>\n",
       "    <tr>\n",
       "      <th>89</th>\n",
       "      <td>1</td>\n",
       "      <td>1</td>\n",
       "    </tr>\n",
       "    <tr>\n",
       "      <th>90</th>\n",
       "      <td>1</td>\n",
       "      <td>1</td>\n",
       "    </tr>\n",
       "    <tr>\n",
       "      <th>91</th>\n",
       "      <td>1</td>\n",
       "      <td>1</td>\n",
       "    </tr>\n",
       "    <tr>\n",
       "      <th>92</th>\n",
       "      <td>2</td>\n",
       "      <td>2</td>\n",
       "    </tr>\n",
       "  </tbody>\n",
       "</table>\n",
       "<p>93 rows × 2 columns</p>\n",
       "</div>"
      ],
      "text/plain": [
       "    RETURN_REASON_CODE  predicted_return_reason_code\n",
       "0                    3                             5\n",
       "1                    3                             5\n",
       "2                    1                             1\n",
       "3                    1                             1\n",
       "4                    1                             1\n",
       "..                 ...                           ...\n",
       "88                   2                             2\n",
       "89                   1                             1\n",
       "90                   1                             1\n",
       "91                   1                             1\n",
       "92                   2                             2\n",
       "\n",
       "[93 rows x 2 columns]"
      ]
     },
     "execution_count": 14,
     "metadata": {},
     "output_type": "execute_result"
    }
   ],
   "source": [
    "predicted_df = pd.DataFrame(dectree.predict(X_test))\n",
    "predicted_df = predicted_df.rename(columns = {0 : 'predicted_return_reason_code'})\n",
    "model_results_frame = pd.concat([y_test.reset_index()['RETURN_REASON_CODE'], predicted_df], axis = 1)\n",
    "model_results_frame"
   ]
  },
  {
   "cell_type": "markdown",
   "id": "2ae086df",
   "metadata": {},
   "source": [
    "## confusion matrix"
   ]
  },
  {
   "cell_type": "code",
   "execution_count": 16,
   "id": "4808c645",
   "metadata": {},
   "outputs": [
    {
     "data": {
      "image/png": "[encoded data removed]",
      "text/plain": [
       "<Figure size 640x480 with 2 Axes>"
      ]
     },
     "metadata": {},
     "output_type": "display_data"
    }
   ],
   "source": [
    "confusion_matrix = metrics.confusion_matrix(model_results_frame['RETURN_REASON_CODE'], model_results_frame['predicted_return_reason_code'])\n",
    "cm_display = metrics.ConfusionMatrixDisplay(confusion_matrix = confusion_matrix, display_labels = [1, 2, 3, 4, 5])\n",
    "\n",
    "cm_display.plot()\n",
    "plt.show()"
   ]
  },
  {
   "cell_type": "code",
   "execution_count": 17,
   "id": "6003c112",
   "metadata": {},
   "outputs": [
    {
     "data": {
      "text/plain": [
       "0.8064516129032258"
      ]
     },
     "execution_count": 17,
     "metadata": {},
     "output_type": "execute_result"
    }
   ],
   "source": [
    "metrics.accuracy_score(model_results_frame['RETURN_REASON_CODE'], model_results_frame['predicted_return_reason_code'])"
   ]
  },
  {
   "cell_type": "markdown",
   "id": "e45f4da0",
   "metadata": {},
   "source": [
    "## max depth 3"
   ]
  },
  {
   "cell_type": "code",
   "execution_count": 18,
   "id": "c55e62b2",
   "metadata": {},
   "outputs": [
    {
     "data": {
      "image/png": "[encoded data removed]",
      "text/plain": [
       "<Figure size 640x480 with 1 Axes>"
      ]
     },
     "metadata": {},
     "output_type": "display_data"
    }
   ],
   "source": [
    "dectree = DecisionTreeClassifier(max_depth = 3)\n",
    "dectree = dectree.fit(X_train, y_train)\n",
    "tree.plot_tree(dectree, feature_names = X.columns)\n",
    "plt.show()"
   ]
  },
  {
   "cell_type": "code",
   "execution_count": 19,
   "id": "a611eae8",
   "metadata": {},
   "outputs": [
    {
     "data": {
      "application/vnd.microsoft.datawrangler.viewer.v0+json": {
       "columns": [
        {
         "name": "index",
         "rawType": "int64",
         "type": "integer"
        },
        {
         "name": "RETURN_REASON_CODE",
         "rawType": "int64",
         "type": "integer"
        },
        {
         "name": "Predicted_return_reason_code",
         "rawType": "int64",
         "type": "integer"
        }
       ],
       "conversionMethod": "pd.DataFrame",
       "ref": "803e3530-379b-4e57-bd3d-7f94b3c39de8",
       "rows": [
        [
         "0",
         "3",
         "3"
        ],
        [
         "1",
         "3",
         "3"
        ],
        [
         "2",
         "1",
         "1"
        ],
        [
         "3",
         "1",
         "1"
        ],
        [
         "4",
         "1",
         "1"
        ],
        [
         "5",
         "2",
         "2"
        ],
        [
         "6",
         "1",
         "1"
        ],
        [
         "7",
         "2",
         "2"
        ],
        [
         "8",
         "4",
         "3"
        ],
        [
         "9",
         "1",
         "1"
        ],
        [
         "10",
         "2",
         "2"
        ],
        [
         "11",
         "5",
         "5"
        ],
        [
         "12",
         "4",
         "3"
        ],
        [
         "13",
         "2",
         "2"
        ],
        [
         "14",
         "2",
         "2"
        ],
        [
         "15",
         "1",
         "1"
        ],
        [
         "16",
         "1",
         "1"
        ],
        [
         "17",
         "1",
         "1"
        ],
        [
         "18",
         "1",
         "1"
        ],
        [
         "19",
         "2",
         "2"
        ],
        [
         "20",
         "4",
         "3"
        ],
        [
         "21",
         "1",
         "1"
        ],
        [
         "22",
         "1",
         "1"
        ],
        [
         "23",
         "2",
         "2"
        ],
        [
         "24",
         "5",
         "5"
        ],
        [
         "25",
         "1",
         "1"
        ],
        [
         "26",
         "2",
         "2"
        ],
        [
         "27",
         "5",
         "5"
        ],
        [
         "28",
         "1",
         "1"
        ],
        [
         "29",
         "4",
         "3"
        ],
        [
         "30",
         "2",
         "2"
        ],
        [
         "31",
         "2",
         "2"
        ],
        [
         "32",
         "1",
         "1"
        ],
        [
         "33",
         "1",
         "1"
        ],
        [
         "34",
         "2",
         "2"
        ],
        [
         "35",
         "4",
         "3"
        ],
        [
         "36",
         "5",
         "5"
        ],
        [
         "37",
         "2",
         "2"
        ],
        [
         "38",
         "2",
         "2"
        ],
        [
         "39",
         "2",
         "2"
        ],
        [
         "40",
         "2",
         "2"
        ],
        [
         "41",
         "4",
         "3"
        ],
        [
         "42",
         "1",
         "1"
        ],
        [
         "43",
         "5",
         "5"
        ],
        [
         "44",
         "3",
         "3"
        ],
        [
         "45",
         "1",
         "1"
        ],
        [
         "46",
         "1",
         "1"
        ],
        [
         "47",
         "3",
         "3"
        ],
        [
         "48",
         "2",
         "2"
        ],
        [
         "49",
         "1",
         "1"
        ]
       ],
       "shape": {
        "columns": 2,
        "rows": 93
       }
      },
      "text/html": [
       "<div>\n",
       "<style scoped>\n",
       "    .dataframe tbody tr th:only-of-type {\n",
       "        vertical-align: middle;\n",
       "    }\n",
       "\n",
       "    .dataframe tbody tr th {\n",
       "        vertical-align: top;\n",
       "    }\n",
       "\n",
       "    .dataframe thead th {\n",
       "        text-align: right;\n",
       "    }\n",
       "</style>\n",
       "<table border=\"1\" class=\"dataframe\">\n",
       "  <thead>\n",
       "    <tr style=\"text-align: right;\">\n",
       "      <th></th>\n",
       "      <th>RETURN_REASON_CODE</th>\n",
       "      <th>Predicted_return_reason_code</th>\n",
       "    </tr>\n",
       "  </thead>\n",
       "  <tbody>\n",
       "    <tr>\n",
       "      <th>0</th>\n",
       "      <td>3</td>\n",
       "      <td>3</td>\n",
       "    </tr>\n",
       "    <tr>\n",
       "      <th>1</th>\n",
       "      <td>3</td>\n",
       "      <td>3</td>\n",
       "    </tr>\n",
       "    <tr>\n",
       "      <th>2</th>\n",
       "      <td>1</td>\n",
       "      <td>1</td>\n",
       "    </tr>\n",
       "    <tr>\n",
       "      <th>3</th>\n",
       "      <td>1</td>\n",
       "      <td>1</td>\n",
       "    </tr>\n",
       "    <tr>\n",
       "      <th>4</th>\n",
       "      <td>1</td>\n",
       "      <td>1</td>\n",
       "    </tr>\n",
       "    <tr>\n",
       "      <th>...</th>\n",
       "      <td>...</td>\n",
       "      <td>...</td>\n",
       "    </tr>\n",
       "    <tr>\n",
       "      <th>88</th>\n",
       "      <td>2</td>\n",
       "      <td>2</td>\n",
       "    </tr>\n",
       "    <tr>\n",
       "      <th>89</th>\n",
       "      <td>1</td>\n",
       "      <td>1</td>\n",
       "    </tr>\n",
       "    <tr>\n",
       "      <th>90</th>\n",
       "      <td>1</td>\n",
       "      <td>1</td>\n",
       "    </tr>\n",
       "    <tr>\n",
       "      <th>91</th>\n",
       "      <td>1</td>\n",
       "      <td>1</td>\n",
       "    </tr>\n",
       "    <tr>\n",
       "      <th>92</th>\n",
       "      <td>2</td>\n",
       "      <td>2</td>\n",
       "    </tr>\n",
       "  </tbody>\n",
       "</table>\n",
       "<p>93 rows × 2 columns</p>\n",
       "</div>"
      ],
      "text/plain": [
       "    RETURN_REASON_CODE  Predicted_return_reason_code\n",
       "0                    3                             3\n",
       "1                    3                             3\n",
       "2                    1                             1\n",
       "3                    1                             1\n",
       "4                    1                             1\n",
       "..                 ...                           ...\n",
       "88                   2                             2\n",
       "89                   1                             1\n",
       "90                   1                             1\n",
       "91                   1                             1\n",
       "92                   2                             2\n",
       "\n",
       "[93 rows x 2 columns]"
      ]
     },
     "execution_count": 19,
     "metadata": {},
     "output_type": "execute_result"
    }
   ],
   "source": [
    "predicted_df = pd.DataFrame(dectree.predict(X_test))\n",
    "predicted_df = predicted_df.rename(columns = {0 : 'Predicted_return_reason_code'})\n",
    "model_results_frame = pd.concat([y_test.reset_index()['RETURN_REASON_CODE'], predicted_df], axis = 1)\n",
    "model_results_frame"
   ]
  },
  {
   "cell_type": "code",
   "execution_count": 22,
   "id": "8145acb5",
   "metadata": {},
   "outputs": [
    {
     "data": {
      "image/png": "[encoded data removed]",
      "text/plain": [
       "<Figure size 640x480 with 2 Axes>"
      ]
     },
     "metadata": {},
     "output_type": "display_data"
    }
   ],
   "source": [
    "confusion_matrix = metrics.confusion_matrix(model_results_frame['RETURN_REASON_CODE'], model_results_frame['Predicted_return_reason_code'])\n",
    "cm_display = metrics.ConfusionMatrixDisplay(confusion_matrix = confusion_matrix, display_labels = [1, 2, 3, 4, 5])\n",
    "\n",
    "cm_display.plot()\n",
    "plt.show()"
   ]
  },
  {
   "cell_type": "code",
   "execution_count": 23,
   "id": "604e3cbc",
   "metadata": {},
   "outputs": [
    {
     "data": {
      "text/plain": [
       "0.8924731182795699"
      ]
     },
     "execution_count": 23,
     "metadata": {},
     "output_type": "execute_result"
    }
   ],
   "source": [
    "metrics.accuracy_score(model_results_frame['RETURN_REASON_CODE'], model_results_frame['Predicted_return_reason_code'])"
   ]
  },
  {
   "cell_type": "markdown",
   "id": "48888fdf",
   "metadata": {},
   "source": [
    "## geen max depth"
   ]
  },
  {
   "cell_type": "code",
   "execution_count": 24,
   "id": "1c3646a1",
   "metadata": {},
   "outputs": [
    {
     "data": {
      "image/png": "[encoded data removed]",
      "text/plain": [
       "<Figure size 640x480 with 1 Axes>"
      ]
     },
     "metadata": {},
     "output_type": "display_data"
    }
   ],
   "source": [
    "dtree = DecisionTreeClassifier()\n",
    "dtree = dtree.fit(X_train, y_train)\n",
    "tree.plot_tree(dtree, feature_names = X.columns)\n",
    "plt.show()"
   ]
  },
  {
   "cell_type": "code",
   "execution_count": 25,
   "id": "97cc3d2d",
   "metadata": {},
   "outputs": [
    {
     "data": {
      "application/vnd.microsoft.datawrangler.viewer.v0+json": {
       "columns": [
        {
         "name": "index",
         "rawType": "int64",
         "type": "integer"
        },
        {
         "name": "RETURN_REASON_CODE",
         "rawType": "int64",
         "type": "integer"
        },
        {
         "name": "predic_return_reason_code",
         "rawType": "int64",
         "type": "integer"
        }
       ],
       "conversionMethod": "pd.DataFrame",
       "ref": "725f3452-47de-4d3f-99f7-002b0bad7d18",
       "rows": [
        [
         "0",
         "3",
         "3"
        ],
        [
         "1",
         "3",
         "3"
        ],
        [
         "2",
         "1",
         "1"
        ],
        [
         "3",
         "1",
         "1"
        ],
        [
         "4",
         "1",
         "1"
        ],
        [
         "5",
         "2",
         "2"
        ],
        [
         "6",
         "1",
         "1"
        ],
        [
         "7",
         "2",
         "2"
        ],
        [
         "8",
         "4",
         "4"
        ],
        [
         "9",
         "1",
         "1"
        ],
        [
         "10",
         "2",
         "2"
        ],
        [
         "11",
         "5",
         "5"
        ],
        [
         "12",
         "4",
         "4"
        ],
        [
         "13",
         "2",
         "2"
        ],
        [
         "14",
         "2",
         "2"
        ],
        [
         "15",
         "1",
         "1"
        ],
        [
         "16",
         "1",
         "1"
        ],
        [
         "17",
         "1",
         "1"
        ],
        [
         "18",
         "1",
         "1"
        ],
        [
         "19",
         "2",
         "2"
        ],
        [
         "20",
         "4",
         "4"
        ],
        [
         "21",
         "1",
         "1"
        ],
        [
         "22",
         "1",
         "1"
        ],
        [
         "23",
         "2",
         "2"
        ],
        [
         "24",
         "5",
         "5"
        ],
        [
         "25",
         "1",
         "1"
        ],
        [
         "26",
         "2",
         "2"
        ],
        [
         "27",
         "5",
         "5"
        ],
        [
         "28",
         "1",
         "1"
        ],
        [
         "29",
         "4",
         "4"
        ],
        [
         "30",
         "2",
         "2"
        ],
        [
         "31",
         "2",
         "2"
        ],
        [
         "32",
         "1",
         "1"
        ],
        [
         "33",
         "1",
         "1"
        ],
        [
         "34",
         "2",
         "2"
        ],
        [
         "35",
         "4",
         "4"
        ],
        [
         "36",
         "5",
         "5"
        ],
        [
         "37",
         "2",
         "2"
        ],
        [
         "38",
         "2",
         "2"
        ],
        [
         "39",
         "2",
         "2"
        ],
        [
         "40",
         "2",
         "2"
        ],
        [
         "41",
         "4",
         "4"
        ],
        [
         "42",
         "1",
         "1"
        ],
        [
         "43",
         "5",
         "5"
        ],
        [
         "44",
         "3",
         "3"
        ],
        [
         "45",
         "1",
         "1"
        ],
        [
         "46",
         "1",
         "1"
        ],
        [
         "47",
         "3",
         "3"
        ],
        [
         "48",
         "2",
         "2"
        ],
        [
         "49",
         "1",
         "1"
        ]
       ],
       "shape": {
        "columns": 2,
        "rows": 93
       }
      },
      "text/html": [
       "<div>\n",
       "<style scoped>\n",
       "    .dataframe tbody tr th:only-of-type {\n",
       "        vertical-align: middle;\n",
       "    }\n",
       "\n",
       "    .dataframe tbody tr th {\n",
       "        vertical-align: top;\n",
       "    }\n",
       "\n",
       "    .dataframe thead th {\n",
       "        text-align: right;\n",
       "    }\n",
       "</style>\n",
       "<table border=\"1\" class=\"dataframe\">\n",
       "  <thead>\n",
       "    <tr style=\"text-align: right;\">\n",
       "      <th></th>\n",
       "      <th>RETURN_REASON_CODE</th>\n",
       "      <th>predic_return_reason_code</th>\n",
       "    </tr>\n",
       "  </thead>\n",
       "  <tbody>\n",
       "    <tr>\n",
       "      <th>0</th>\n",
       "      <td>3</td>\n",
       "      <td>3</td>\n",
       "    </tr>\n",
       "    <tr>\n",
       "      <th>1</th>\n",
       "      <td>3</td>\n",
       "      <td>3</td>\n",
       "    </tr>\n",
       "    <tr>\n",
       "      <th>2</th>\n",
       "      <td>1</td>\n",
       "      <td>1</td>\n",
       "    </tr>\n",
       "    <tr>\n",
       "      <th>3</th>\n",
       "      <td>1</td>\n",
       "      <td>1</td>\n",
       "    </tr>\n",
       "    <tr>\n",
       "      <th>4</th>\n",
       "      <td>1</td>\n",
       "      <td>1</td>\n",
       "    </tr>\n",
       "    <tr>\n",
       "      <th>...</th>\n",
       "      <td>...</td>\n",
       "      <td>...</td>\n",
       "    </tr>\n",
       "    <tr>\n",
       "      <th>88</th>\n",
       "      <td>2</td>\n",
       "      <td>2</td>\n",
       "    </tr>\n",
       "    <tr>\n",
       "      <th>89</th>\n",
       "      <td>1</td>\n",
       "      <td>1</td>\n",
       "    </tr>\n",
       "    <tr>\n",
       "      <th>90</th>\n",
       "      <td>1</td>\n",
       "      <td>1</td>\n",
       "    </tr>\n",
       "    <tr>\n",
       "      <th>91</th>\n",
       "      <td>1</td>\n",
       "      <td>1</td>\n",
       "    </tr>\n",
       "    <tr>\n",
       "      <th>92</th>\n",
       "      <td>2</td>\n",
       "      <td>2</td>\n",
       "    </tr>\n",
       "  </tbody>\n",
       "</table>\n",
       "<p>93 rows × 2 columns</p>\n",
       "</div>"
      ],
      "text/plain": [
       "    RETURN_REASON_CODE  predic_return_reason_code\n",
       "0                    3                          3\n",
       "1                    3                          3\n",
       "2                    1                          1\n",
       "3                    1                          1\n",
       "4                    1                          1\n",
       "..                 ...                        ...\n",
       "88                   2                          2\n",
       "89                   1                          1\n",
       "90                   1                          1\n",
       "91                   1                          1\n",
       "92                   2                          2\n",
       "\n",
       "[93 rows x 2 columns]"
      ]
     },
     "execution_count": 25,
     "metadata": {},
     "output_type": "execute_result"
    }
   ],
   "source": [
    "predicted_df = pd.DataFrame(dtree.predict(X_test))\n",
    "predicted_df = predicted_df.rename(columns = {0 : 'predic_return_reason_code'})\n",
    "model_results_frame = pd.concat([y_test.reset_index()['RETURN_REASON_CODE'], predicted_df], axis = 1)\n",
    "model_results_frame"
   ]
  },
  {
   "cell_type": "code",
   "execution_count": 29,
   "id": "8469fc86",
   "metadata": {},
   "outputs": [
    {
     "data": {
      "image/png": "[encoded data removed]",
      "text/plain": [
       "<Figure size 640x480 with 2 Axes>"
      ]
     },
     "metadata": {},
     "output_type": "display_data"
    }
   ],
   "source": [
    "confusion_matrix = metrics.confusion_matrix(model_results_frame['RETURN_REASON_CODE'], model_results_frame['predic_return_reason_code'])\n",
    "cm_display = metrics.ConfusionMatrixDisplay(confusion_matrix = confusion_matrix, display_labels = [1, 2, 3, 4, 5])\n",
    "\n",
    "cm_display.plot()\n",
    "plt.show()"
   ]
  },
  {
   "cell_type": "code",
   "execution_count": 30,
   "id": "faefc22a",
   "metadata": {},
   "outputs": [
    {
     "data": {
      "text/plain": [
       "1.0"
      ]
     },
     "execution_count": 30,
     "metadata": {},
     "output_type": "execute_result"
    }
   ],
   "source": [
    "metrics.accuracy_score(model_results_frame['RETURN_REASON_CODE'], model_results_frame['predic_return_reason_code'])"
   ]
  }
 ],
 "metadata": {
  "kernelspec": {
   "display_name": ".venv",
   "language": "python",
   "name": "python3"
  },
  "language_info": {
   "codemirror_mode": {
    "name": "ipython",
    "version": 3
   },
   "file_extension": ".py",
   "mimetype": "text/x-python",
   "name": "python",
   "nbconvert_exporter": "python",
   "pygments_lexer": "ipython3",
   "version": "3.13.2"
  }
 },
 "nbformat": 4,
 "nbformat_minor": 5
}
